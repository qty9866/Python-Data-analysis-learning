{
 "cells": [
  {
   "cell_type": "code",
   "execution_count": null,
   "metadata": {},
   "outputs": [],
   "source": [
    "import numpy as np\n",
    "import pandas as pd\n"
   ]
  },
  {
   "cell_type": "markdown",
   "metadata": {},
   "source": [
    "### 数据结构Series创建\n",
    "\n",
    "***pd.Series(data=None,index=None,dtype=None,name=None,copy=False)***\n",
    "\n",
    "- data 输入的数据，可以是列表、常量、ndarry数组等，如果是字典，则保持参数顺序\n",
    "\n",
    "- index 索引值，必须是可散列的（不可变数据类型（str、bytes和数值类型）），并且与数据个数相同，如果未提供，将默认为RangeIndex(0,1,2,...n)\n",
    "\n",
    "- dtype 输出系列数据的类型，如果未指定，将从数据中推断\n",
    "\n",
    "- name 为Series定义一个名称\n",
    "\n",
    "- copy 表示对data进行拷贝,默认为False,仅影响Series和ndarry数组"
   ]
  },
  {
   "cell_type": "code",
   "execution_count": null,
   "metadata": {},
   "outputs": [],
   "source": [
    "# 列表作为数据创建Series\n",
    "ar_list = [3,10,3,4,5]\n",
    "print(type(ar_list))\n",
    "# 使用列表创建Series\n",
    "s1 = pd.Series(ar_list)\n",
    "print(s1)\n",
    "print(type(s1))"
   ]
  },
  {
   "cell_type": "code",
   "execution_count": null,
   "metadata": {},
   "outputs": [],
   "source": [
    "# 数组作为数据源\n",
    "np_rand = np.arange(1,6)\n",
    "# 使用数组创建Series\n",
    "s1 = pd.Series(np_rand)\n",
    "s1"
   ]
  },
  {
   "cell_type": "markdown",
   "metadata": {},
   "source": [
    "- #### **通过index和values属性取得对应的标签和值**"
   ]
  },
  {
   "cell_type": "code",
   "execution_count": null,
   "metadata": {},
   "outputs": [],
   "source": [
    "# 默认为RangeIndex(0,1,2,...,n)\n",
    "s1.index"
   ]
  },
  {
   "cell_type": "code",
   "execution_count": null,
   "metadata": {},
   "outputs": [],
   "source": [
    "# 可以强制转换为列表输出\n",
    "list(s1.index)"
   ]
  },
  {
   "cell_type": "code",
   "execution_count": null,
   "metadata": {},
   "outputs": [],
   "source": [
    "# 返回Series的所有值,数据类型为ndarry\n",
    "print(s1.values,type(s1.values))"
   ]
  },
  {
   "cell_type": "markdown",
   "metadata": {},
   "source": [
    "- #### **通过标签取得对应的值，或者修改对应的值**"
   ]
  },
  {
   "cell_type": "code",
   "execution_count": null,
   "metadata": {},
   "outputs": [],
   "source": [
    "# 取得索引为1的数据\n",
    "s1[1]"
   ]
  },
  {
   "cell_type": "code",
   "execution_count": null,
   "metadata": {},
   "outputs": [],
   "source": [
    "# 改变索引值为2的数值\n",
    "s1[2] =50\n",
    "s1"
   ]
  },
  {
   "cell_type": "markdown",
   "metadata": {},
   "source": [
    "- #### **2) 字典作为数据源创建Series**"
   ]
  },
  {
   "cell_type": "code",
   "execution_count": null,
   "metadata": {},
   "outputs": [],
   "source": [
    "d = {'a':1,'b':2,'c':3}\n",
    "ser = pd.Series(d)\n",
    "ser"
   ]
  },
  {
   "cell_type": "markdown",
   "metadata": {},
   "source": [
    "- #### **通过index和values属性取得对应的标签和值**"
   ]
  },
  {
   "cell_type": "code",
   "execution_count": null,
   "metadata": {},
   "outputs": [],
   "source": [
    "# 标签索引\n",
    "ser.index"
   ]
  },
  {
   "cell_type": "code",
   "execution_count": null,
   "metadata": {},
   "outputs": [],
   "source": [
    "# Series值\n",
    "ser.values"
   ]
  },
  {
   "cell_type": "markdown",
   "metadata": {},
   "source": [
    "- #### **通过标签取得对应的值或者修改对应的值**"
   ]
  },
  {
   "cell_type": "code",
   "execution_count": null,
   "metadata": {},
   "outputs": [],
   "source": [
    "ser['a']"
   ]
  },
  {
   "cell_type": "code",
   "execution_count": null,
   "metadata": {},
   "outputs": [],
   "source": [
    "ser['d'] = 4\n",
    "ser"
   ]
  },
  {
   "cell_type": "code",
   "execution_count": null,
   "metadata": {},
   "outputs": [],
   "source": [
    "ser['5'] = 5\n",
    "ser"
   ]
  },
  {
   "cell_type": "markdown",
   "metadata": {},
   "source": [
    "### **其他参数介绍**\n",
    "\n",
    "- #### **1) index参数**\n",
    "\n",
    "索引值，必须是可散列的（不可变数据类型（str、bytes和数值类型）），并且与数据个数相同，如果未提供，将默认为RangeIndex(0,1,2,...n)\n",
    "\n",
    "   - 使用“显式索引”的方法定义索引标签"
   ]
  },
  {
   "cell_type": "code",
   "execution_count": null,
   "metadata": {},
   "outputs": [],
   "source": [
    "data = np.array(['a','b','c','d'])\n",
    "# 自定义标签索引(即显式索引)，需要和数据长度一致\n",
    "s = pd.Series(data,index=[101,102,103,104])\n",
    "s"
   ]
  },
  {
   "cell_type": "markdown",
   "metadata": {},
   "source": [
    "  - #### **从指定索引的字典构造序列**"
   ]
  },
  {
   "cell_type": "code",
   "execution_count": null,
   "metadata": {},
   "outputs": [],
   "source": [
    "d = {'a':1,'b':2,'c':3}\n",
    "ser = pd.Series(d,index=['a','b','c'])\n",
    "ser"
   ]
  },
  {
   "cell_type": "markdown",
   "metadata": {},
   "source": [
    "- #### **当传递的索引值未匹配对应的字典键时，使用NaN(非数字)进行填充**"
   ]
  },
  {
   "cell_type": "code",
   "execution_count": null,
   "metadata": {},
   "outputs": [],
   "source": [
    "d = {'a':1,'b':2,'c':3}\n",
    "ser = pd.Series(d,index=['x','b','z'])\n",
    "ser"
   ]
  },
  {
   "cell_type": "markdown",
   "metadata": {},
   "source": [
    "\n",
    "输出: \n",
    "\n",
    "x    NaN\n",
    "\n",
    "b    2.0\n",
    "\n",
    "z    NaN \n",
    "\n",
    "**注意：索引首先使用字典中的键构建的，在此之后，用给定的索引值对序列重新编制索引，因此我们得到所有NaN**"
   ]
  },
  {
   "cell_type": "markdown",
   "metadata": {},
   "source": [
    "- #### **通过匹配的索引值，改变创建Series数据的顺序**"
   ]
  },
  {
   "cell_type": "code",
   "execution_count": null,
   "metadata": {},
   "outputs": [],
   "source": [
    "d = {'a':1,'b':2,'c':3}\n",
    "ser = pd.Series(d,index=['c','b','a'])\n",
    "ser"
   ]
  },
  {
   "cell_type": "markdown",
   "metadata": {},
   "source": [
    "- #### **2) name参数**\n",
    "\n",
    "我们可以给一个Series对象命名，也可以给一个Series数组中华的索引列起一个名字，pandas为我们设计好了对象的属性，并在设置了name属性值来进行名字的设定。"
   ]
  },
  {
   "cell_type": "code",
   "execution_count": null,
   "metadata": {},
   "outputs": [],
   "source": [
    "data1 = {\n",
    "    \"beijing\" : 2000,\n",
    "    \"shanghai\": 2400,\n",
    "    \"nanjing\" : 2100,\n",
    "}\n",
    "dd =pd.Series(data1)\n",
    "dd"
   ]
  },
  {
   "cell_type": "code",
   "execution_count": null,
   "metadata": {},
   "outputs": [],
   "source": [
    "dd = pd.Series(data1)\n",
    "dd.name = \"city_data\"\n",
    "print(dd)"
   ]
  },
  {
   "cell_type": "code",
   "execution_count": null,
   "metadata": {},
   "outputs": [],
   "source": [
    "# 使用Series创建DataFrame类型\n",
    "df = pd.DataFrame(dd)\n",
    "print(df,type(df))\n",
    "print(\"=\"*60)\n",
    "# 输出city_data列的数据和类型 \n",
    "print(df['city_data'],type(df['city_data']))"
   ]
  },
  {
   "cell_type": "markdown",
   "metadata": {},
   "source": [
    "- #### **3) copy参数**\n",
    "\n",
    "copy表示对data进行拷贝，默认为false，仅影响Series和ndarry数组"
   ]
  },
  {
   "cell_type": "code",
   "execution_count": null,
   "metadata": {},
   "outputs": [],
   "source": [
    "# 数组作为源数据\n",
    "np_rand =np.arange(1,6)\n",
    "# 使用数组创建Series\n",
    "s1 = pd.Series(np_rand)\n",
    "s1"
   ]
  },
  {
   "cell_type": "code",
   "execution_count": null,
   "metadata": {},
   "outputs": [],
   "source": [
    "# 改变Series标签为1的值\n",
    "s1[1] = 50\n",
    "\n",
    "# 输出series对象s1\n",
    "print(\"s1:\\n\",s1)\n",
    "\n",
    "# 输出数组对象np_rand 数组也被改变了\n",
    "print(\"np_rand:\",np_rand)"
   ]
  },
  {
   "cell_type": "code",
   "execution_count": null,
   "metadata": {},
   "outputs": [],
   "source": [
    "# 当数据源非Series和ndarray时\n",
    "# 数组作为数据源\n",
    "my_list = [1,2,3,4,5,6]\n",
    "\n",
    "# 使用数组创建Series\n",
    "s2 = pd.Series(my_list)\n",
    "s2"
   ]
  },
  {
   "cell_type": "code",
   "execution_count": 39,
   "metadata": {},
   "outputs": [
    {
     "name": "stdout",
     "output_type": "stream",
     "text": [
      "s2[1]: 50\n",
      "s2: 0     1\n",
      "1    50\n",
      "2     3\n",
      "3     4\n",
      "4     5\n",
      "5     6\n",
      "dtype: int64\n",
      "mny_list: [1, 2, 3, 4, 5, 6]\n"
     ]
    }
   ],
   "source": [
    "# 这个时候再改变s2[1]的值\n",
    "s2[1] = 50\n",
    "print(\"s2[1]:\",s2[1])\n",
    "\n",
    "# 输出s2\n",
    "print(\"s2:\",s2)\n",
    "\n",
    "# 输出数组\n",
    "print(\"mny_list:\",my_list)"
   ]
  },
  {
   "cell_type": "markdown",
   "metadata": {},
   "source": [
    "### **Series的索引/切片**\n",
    "\n",
    "  ##### **1.下标索引**\n",
    "\n",
    "类似于列表索引"
   ]
  },
  {
   "cell_type": "code",
   "execution_count": 40,
   "metadata": {},
   "outputs": [
    {
     "name": "stdout",
     "output_type": "stream",
     "text": [
      "0    0.657885\n",
      "1    0.747641\n",
      "2    0.302070\n",
      "3    0.136614\n",
      "4    0.948114\n",
      "dtype: float64\n",
      "0.1366143899609651 <class 'numpy.float64'> float64\n"
     ]
    }
   ],
   "source": [
    "s = pd.Series(np.random.rand(5))\n",
    "print(s)\n",
    "print(s[3],type(s[3]),s[3].dtype)"
   ]
  },
  {
   "cell_type": "markdown",
   "metadata": {},
   "source": [
    "  ##### **1.标签索引**\n",
    "\n",
    "  当索引为object类型时，既可以使用标签索引也可以使用位置索引\n",
    "  \n",
    "  Series类似于固定大小的dict,把index中的索引标签当做key，而把Series序列中的元素值当做value，然后通过index索引标签来访问或者修改元素值\n",
    "\n",
    "- ##### 使用索标签访问单个元素值"
   ]
  },
  {
   "cell_type": "code",
   "execution_count": 42,
   "metadata": {},
   "outputs": [
    {
     "name": "stdout",
     "output_type": "stream",
     "text": [
      "0.37894935536127183 <class 'numpy.float64'> float64\n"
     ]
    }
   ],
   "source": [
    "s = pd.Series(np.random.rand(5),index=list(\"abcde\"))\n",
    "print(s['b'],type(s['b']),s['b'].dtype)"
   ]
  },
  {
   "cell_type": "markdown",
   "metadata": {},
   "source": [
    "- ##### 使用索引标签访问多个元素值\n"
   ]
  },
  {
   "cell_type": "code",
   "execution_count": 43,
   "metadata": {},
   "outputs": [
    {
     "name": "stdout",
     "output_type": "stream",
     "text": [
      "a     6\n",
      "b     7\n",
      "c     8\n",
      "d     9\n",
      "e    10\n",
      "dtype: int64\n",
      "a    6\n",
      "b    7\n",
      "c    8\n",
      "dtype: int64\n"
     ]
    }
   ],
   "source": [
    "s = pd.Series([6,7,8,9,10],index=list(\"abcde\"))\n",
    "print(s)\n",
    "print(s[['a','b','c']])"
   ]
  },
  {
   "cell_type": "markdown",
   "metadata": {},
   "source": [
    "### 切片\n",
    "\n",
    "- Series使用标签切片运算与普通的python切片运算不同：Series使用标签切片时，其末端是包含的\n",
    "\n",
    "- Series使用python切片运算即使用位置数值切片，其末端是不包含的"
   ]
  },
  {
   "cell_type": "code",
   "execution_count": 51,
   "metadata": {},
   "outputs": [
    {
     "data": {
      "text/plain": [
       "0    0.793476\n",
       "1    0.062222\n",
       "2    0.801096\n",
       "3    0.428876\n",
       "4    0.362986\n",
       "5    0.763042\n",
       "6    0.436813\n",
       "7    0.496960\n",
       "8    0.815205\n",
       "9    0.595810\n",
       "dtype: float64"
      ]
     },
     "execution_count": 51,
     "metadata": {},
     "output_type": "execute_result"
    }
   ],
   "source": [
    "s = pd.Series(np.random.rand(10))\n",
    "s"
   ]
  },
  {
   "cell_type": "markdown",
   "metadata": {},
   "source": [
    "**位置索引和标签索引刚好一致，使用切片时如果是数值会认为是python的切片运算，不包含末端**"
   ]
  },
  {
   "cell_type": "code",
   "execution_count": 53,
   "metadata": {},
   "outputs": [
    {
     "data": {
      "text/plain": [
       "1    0.062222\n",
       "2    0.801096\n",
       "dtype: float64"
      ]
     },
     "execution_count": 53,
     "metadata": {},
     "output_type": "execute_result"
    }
   ],
   "source": [
    "s[1:3]"
   ]
  },
  {
   "cell_type": "code",
   "execution_count": 58,
   "metadata": {},
   "outputs": [
    {
     "name": "stdout",
     "output_type": "stream",
     "text": [
      "a    1\n",
      "b    2\n",
      "c    3\n",
      "d    4\n",
      "e    5\n",
      "dtype: int64\n",
      "b    2\n",
      "c    3\n",
      "d    4\n",
      "dtype: int64\n"
     ]
    }
   ],
   "source": [
    "s = pd.Series([1,2,3,4,5],index=['a','b','c','d','e'])\n",
    "print(s)\n",
    "print(s[1:4])"
   ]
  },
  {
   "cell_type": "code",
   "execution_count": 61,
   "metadata": {},
   "outputs": [
    {
     "data": {
      "text/plain": [
       "a    1\n",
       "b    2\n",
       "c    3\n",
       "d    4\n",
       "dtype: int64"
      ]
     },
     "execution_count": 61,
     "metadata": {},
     "output_type": "execute_result"
    }
   ],
   "source": [
    "s[\"a\":\"d\"]"
   ]
  }
 ],
 "metadata": {
  "kernelspec": {
   "display_name": "Python 3.8.5 ('base')",
   "language": "python",
   "name": "python3"
  },
  "language_info": {
   "codemirror_mode": {
    "name": "ipython",
    "version": 3
   },
   "file_extension": ".py",
   "mimetype": "text/x-python",
   "name": "python",
   "nbconvert_exporter": "python",
   "pygments_lexer": "ipython3",
   "version": "3.8.5"
  },
  "orig_nbformat": 4,
  "vscode": {
   "interpreter": {
    "hash": "a4df7a6600e22bae99e6e8f837be5af686fd7a404512ca9c2620376f38fe7d31"
   }
  }
 },
 "nbformat": 4,
 "nbformat_minor": 2
}
