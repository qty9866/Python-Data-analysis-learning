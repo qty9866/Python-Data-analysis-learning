{
 "cells": [
  {
   "cell_type": "code",
   "execution_count": 1,
   "metadata": {},
   "outputs": [],
   "source": [
    "import numpy as np\n",
    "import pandas as pd\n"
   ]
  },
  {
   "cell_type": "markdown",
   "metadata": {},
   "source": [
    "### 数据结构Series创建\n",
    "\n",
    "***pd.Series(data=None,index=None,dtype=None,name=None,copy=False)***\n",
    "\n",
    "- data 输入的数据，可以是列表、常量、ndarry数组等，如果是字典，则保持参数顺序\n",
    "\n",
    "- index 索引值，必须是可散列的（不可变数据类型（str、bytes和数值类型）），并且与数据个数相同，如果未提供，将默认为RangeIndex(0,1,2,...n)\n",
    "\n",
    "- dtype 输出系列数据的类型，如果未指定，将从数据中推断\n",
    "\n",
    "- name 为Series定义一个名称\n",
    "\n",
    "- copy 表示对data进行拷贝,默认为False,仅影响Series和ndarry数组"
   ]
  },
  {
   "cell_type": "code",
   "execution_count": 23,
   "metadata": {},
   "outputs": [
    {
     "name": "stdout",
     "output_type": "stream",
     "text": [
      "<class 'list'>\n",
      "0     3\n",
      "1    10\n",
      "2     3\n",
      "3     4\n",
      "4     5\n",
      "dtype: int64\n",
      "<class 'pandas.core.series.Series'>\n"
     ]
    }
   ],
   "source": [
    "# 列表作为数据创建Series\n",
    "ar_list = [3,10,3,4,5]\n",
    "print(type(ar_list))\n",
    "# 使用列表创建Series\n",
    "s1 = pd.Series(ar_list)\n",
    "print(s1)\n",
    "print(type(s1))"
   ]
  },
  {
   "cell_type": "code",
   "execution_count": 24,
   "metadata": {},
   "outputs": [
    {
     "data": {
      "text/plain": [
       "0    1\n",
       "1    2\n",
       "2    3\n",
       "3    4\n",
       "4    5\n",
       "dtype: int32"
      ]
     },
     "execution_count": 24,
     "metadata": {},
     "output_type": "execute_result"
    }
   ],
   "source": [
    "# 数组作为数据源\n",
    "np_rand = np.arange(1,6)\n",
    "# 使用数组创建Series\n",
    "s1 = pd.Series(np_rand)\n",
    "s1"
   ]
  },
  {
   "cell_type": "markdown",
   "metadata": {},
   "source": [
    "- #### **通过index和values属性取得对应的标签和值**"
   ]
  },
  {
   "cell_type": "code",
   "execution_count": 25,
   "metadata": {},
   "outputs": [
    {
     "data": {
      "text/plain": [
       "RangeIndex(start=0, stop=5, step=1)"
      ]
     },
     "execution_count": 25,
     "metadata": {},
     "output_type": "execute_result"
    }
   ],
   "source": [
    "# 默认为RangeIndex(0,1,2,...,n)\n",
    "s1.index"
   ]
  },
  {
   "cell_type": "code",
   "execution_count": 26,
   "metadata": {},
   "outputs": [
    {
     "data": {
      "text/plain": [
       "[0, 1, 2, 3, 4]"
      ]
     },
     "execution_count": 26,
     "metadata": {},
     "output_type": "execute_result"
    }
   ],
   "source": [
    "# 可以强制转换为列表输出\n",
    "list(s1.index)"
   ]
  },
  {
   "cell_type": "code",
   "execution_count": 27,
   "metadata": {},
   "outputs": [
    {
     "name": "stdout",
     "output_type": "stream",
     "text": [
      "[1 2 3 4 5] <class 'numpy.ndarray'>\n"
     ]
    }
   ],
   "source": [
    "# 返回Series的所有值,数据类型为ndarry\n",
    "print(s1.values,type(s1.values))"
   ]
  },
  {
   "cell_type": "markdown",
   "metadata": {},
   "source": [
    "- #### **通过标签取得对应的值，或者修改对应的值**"
   ]
  },
  {
   "cell_type": "code",
   "execution_count": 28,
   "metadata": {},
   "outputs": [
    {
     "data": {
      "text/plain": [
       "2"
      ]
     },
     "execution_count": 28,
     "metadata": {},
     "output_type": "execute_result"
    }
   ],
   "source": [
    "# 取得索引为1的数据\n",
    "s1[1]"
   ]
  },
  {
   "cell_type": "code",
   "execution_count": 29,
   "metadata": {},
   "outputs": [
    {
     "data": {
      "text/plain": [
       "0     1\n",
       "1     2\n",
       "2    50\n",
       "3     4\n",
       "4     5\n",
       "dtype: int32"
      ]
     },
     "execution_count": 29,
     "metadata": {},
     "output_type": "execute_result"
    }
   ],
   "source": [
    "# 改变索引值为2的数值\n",
    "s1[2] =50\n",
    "s1"
   ]
  },
  {
   "cell_type": "markdown",
   "metadata": {},
   "source": [
    "- #### **2) 字典作为数据源创建Series**"
   ]
  },
  {
   "cell_type": "code",
   "execution_count": 30,
   "metadata": {},
   "outputs": [
    {
     "data": {
      "text/plain": [
       "a    1\n",
       "b    2\n",
       "c    3\n",
       "dtype: int64"
      ]
     },
     "execution_count": 30,
     "metadata": {},
     "output_type": "execute_result"
    }
   ],
   "source": [
    "d = {'a':1,'b':2,'c':3}\n",
    "ser = pd.Series(d)\n",
    "ser"
   ]
  },
  {
   "cell_type": "markdown",
   "metadata": {},
   "source": [
    "- #### **通过index和values属性取得对应的标签和值**"
   ]
  },
  {
   "cell_type": "code",
   "execution_count": 31,
   "metadata": {},
   "outputs": [
    {
     "data": {
      "text/plain": [
       "Index(['a', 'b', 'c'], dtype='object')"
      ]
     },
     "execution_count": 31,
     "metadata": {},
     "output_type": "execute_result"
    }
   ],
   "source": [
    "# 标签索引\n",
    "ser.index"
   ]
  },
  {
   "cell_type": "code",
   "execution_count": 32,
   "metadata": {},
   "outputs": [
    {
     "data": {
      "text/plain": [
       "array([1, 2, 3], dtype=int64)"
      ]
     },
     "execution_count": 32,
     "metadata": {},
     "output_type": "execute_result"
    }
   ],
   "source": [
    "# Series值\n",
    "ser.values"
   ]
  },
  {
   "cell_type": "markdown",
   "metadata": {},
   "source": [
    "- #### **通过标签取得对应的值或者修改对应的值**"
   ]
  },
  {
   "cell_type": "code",
   "execution_count": 33,
   "metadata": {},
   "outputs": [
    {
     "data": {
      "text/plain": [
       "1"
      ]
     },
     "execution_count": 33,
     "metadata": {},
     "output_type": "execute_result"
    }
   ],
   "source": [
    "ser['a']"
   ]
  },
  {
   "cell_type": "code",
   "execution_count": 34,
   "metadata": {},
   "outputs": [
    {
     "data": {
      "text/plain": [
       "a    1\n",
       "b    2\n",
       "c    3\n",
       "d    4\n",
       "dtype: int64"
      ]
     },
     "execution_count": 34,
     "metadata": {},
     "output_type": "execute_result"
    }
   ],
   "source": [
    "ser['d'] = 4\n",
    "ser"
   ]
  },
  {
   "cell_type": "code",
   "execution_count": 35,
   "metadata": {},
   "outputs": [
    {
     "data": {
      "text/plain": [
       "a    1\n",
       "b    2\n",
       "c    3\n",
       "d    4\n",
       "5    5\n",
       "dtype: int64"
      ]
     },
     "execution_count": 35,
     "metadata": {},
     "output_type": "execute_result"
    }
   ],
   "source": [
    "ser['5'] = 5\n",
    "ser"
   ]
  },
  {
   "cell_type": "markdown",
   "metadata": {},
   "source": [
    "### **其他参数介绍**\n",
    "\n",
    "- #### **1) index参数**\n",
    "\n",
    "索引值，必须是可散列的（不可变数据类型（str、bytes和数值类型）），并且与数据个数相同，如果未提供，将默认为RangeIndex(0,1,2,...n)\n",
    "\n",
    "   - 使用“显式索引”的方法定义索引标签"
   ]
  },
  {
   "cell_type": "code",
   "execution_count": 36,
   "metadata": {},
   "outputs": [
    {
     "data": {
      "text/plain": [
       "101    a\n",
       "102    b\n",
       "103    c\n",
       "104    d\n",
       "dtype: object"
      ]
     },
     "execution_count": 36,
     "metadata": {},
     "output_type": "execute_result"
    }
   ],
   "source": [
    "data = np.array(['a','b','c','d'])\n",
    "# 自定义标签索引(即显式索引)，需要和数据长度一致\n",
    "s = pd.Series(data,index=[101,102,103,104])\n",
    "s"
   ]
  },
  {
   "cell_type": "markdown",
   "metadata": {},
   "source": [
    "  - #### **从指定索引的字典构造序列**"
   ]
  },
  {
   "cell_type": "code",
   "execution_count": 37,
   "metadata": {},
   "outputs": [
    {
     "data": {
      "text/plain": [
       "a    1\n",
       "b    2\n",
       "c    3\n",
       "dtype: int64"
      ]
     },
     "execution_count": 37,
     "metadata": {},
     "output_type": "execute_result"
    }
   ],
   "source": [
    "d = {'a':1,'b':2,'c':3}\n",
    "ser = pd.Series(d,index=['a','b','c'])\n",
    "ser"
   ]
  },
  {
   "cell_type": "markdown",
   "metadata": {},
   "source": [
    "- #### **当传递的索引值未匹配对应的字典键时，使用NaN(非数字)进行填充**"
   ]
  },
  {
   "cell_type": "code",
   "execution_count": 38,
   "metadata": {},
   "outputs": [
    {
     "data": {
      "text/plain": [
       "x    NaN\n",
       "b    2.0\n",
       "z    NaN\n",
       "dtype: float64"
      ]
     },
     "execution_count": 38,
     "metadata": {},
     "output_type": "execute_result"
    }
   ],
   "source": [
    "d = {'a':1,'b':2,'c':3}\n",
    "ser = pd.Series(d,index=['x','b','z'])\n",
    "ser"
   ]
  },
  {
   "cell_type": "markdown",
   "metadata": {},
   "source": [
    "\n",
    "输出: \n",
    "\n",
    "x    NaN\n",
    "\n",
    "b    2.0\n",
    "\n",
    "z    NaN \n",
    "\n",
    "**注意：索引首先使用字典中的键构建的，在此之后，用给定的索引值对序列重新编制索引，因此我们得到所有NaN**"
   ]
  },
  {
   "cell_type": "markdown",
   "metadata": {},
   "source": [
    "- #### **通过匹配的索引值，改变创建Series数据的顺序**"
   ]
  },
  {
   "cell_type": "code",
   "execution_count": 39,
   "metadata": {},
   "outputs": [
    {
     "data": {
      "text/plain": [
       "c    3\n",
       "b    2\n",
       "a    1\n",
       "dtype: int64"
      ]
     },
     "execution_count": 39,
     "metadata": {},
     "output_type": "execute_result"
    }
   ],
   "source": [
    "d = {'a':1,'b':2,'c':3}\n",
    "ser = pd.Series(d,index=['c','b','a'])\n",
    "ser"
   ]
  },
  {
   "cell_type": "markdown",
   "metadata": {},
   "source": [
    "- #### **2) name参数**\n",
    "\n",
    "我们可以给一个Series对象命名，也可以给一个Series数组中华的索引列起一个名字，pandas为我们设计好了对象的属性，并在设置了name属性值来进行名字的设定。"
   ]
  },
  {
   "cell_type": "code",
   "execution_count": 40,
   "metadata": {},
   "outputs": [
    {
     "data": {
      "text/plain": [
       "beijing     2000\n",
       "shanghai    2400\n",
       "nanjing     2100\n",
       "dtype: int64"
      ]
     },
     "execution_count": 40,
     "metadata": {},
     "output_type": "execute_result"
    }
   ],
   "source": [
    "data1 = {\n",
    "    \"beijing\" : 2000,\n",
    "    \"shanghai\": 2400,\n",
    "    \"nanjing\" : 2100,\n",
    "}\n",
    "dd =pd.Series(data1)\n",
    "dd"
   ]
  },
  {
   "cell_type": "code",
   "execution_count": 41,
   "metadata": {},
   "outputs": [
    {
     "name": "stdout",
     "output_type": "stream",
     "text": [
      "beijing     2000\n",
      "shanghai    2400\n",
      "nanjing     2100\n",
      "Name: city_data, dtype: int64\n"
     ]
    }
   ],
   "source": [
    "dd = pd.Series(data1)\n",
    "dd.name = \"city_data\"\n",
    "print(dd)"
   ]
  },
  {
   "cell_type": "code",
   "execution_count": 42,
   "metadata": {},
   "outputs": [
    {
     "name": "stdout",
     "output_type": "stream",
     "text": [
      "          city_data\n",
      "beijing        2000\n",
      "shanghai       2400\n",
      "nanjing        2100 <class 'pandas.core.frame.DataFrame'>\n",
      "============================================================\n",
      "beijing     2000\n",
      "shanghai    2400\n",
      "nanjing     2100\n",
      "Name: city_data, dtype: int64 <class 'pandas.core.series.Series'>\n"
     ]
    }
   ],
   "source": [
    "# 使用Series创建DataFrame类型\n",
    "df = pd.DataFrame(dd)\n",
    "print(df,type(df))\n",
    "print(\"=\"*60)\n",
    "# 输出city_data列的数据和类型 \n",
    "print(df['city_data'],type(df['city_data']))"
   ]
  },
  {
   "cell_type": "markdown",
   "metadata": {},
   "source": [
    "- #### **3) copy参数**\n",
    "\n",
    "copy表示对data进行拷贝，默认为false，仅影响Series和ndarry数组"
   ]
  },
  {
   "cell_type": "code",
   "execution_count": 43,
   "metadata": {},
   "outputs": [
    {
     "data": {
      "text/plain": [
       "0    1\n",
       "1    2\n",
       "2    3\n",
       "3    4\n",
       "4    5\n",
       "dtype: int32"
      ]
     },
     "execution_count": 43,
     "metadata": {},
     "output_type": "execute_result"
    }
   ],
   "source": [
    "# 数组作为源数据\n",
    "np_rand =np.arange(1,6)\n",
    "# 使用数组创建Series\n",
    "s1 = pd.Series(np_rand)\n",
    "s1"
   ]
  },
  {
   "cell_type": "code",
   "execution_count": 44,
   "metadata": {},
   "outputs": [
    {
     "name": "stdout",
     "output_type": "stream",
     "text": [
      "s1:\n",
      " 0     1\n",
      "1    50\n",
      "2     3\n",
      "3     4\n",
      "4     5\n",
      "dtype: int32\n",
      "np_rand: [ 1 50  3  4  5]\n"
     ]
    }
   ],
   "source": [
    "# 改变Series标签为1的值\n",
    "s1[1] = 50\n",
    "\n",
    "# 输出series对象s1\n",
    "print(\"s1:\\n\",s1)\n",
    "\n",
    "# 输出数组对象np_rand 数组也被改变了\n",
    "print(\"np_rand:\",np_rand)"
   ]
  },
  {
   "cell_type": "code",
   "execution_count": 45,
   "metadata": {},
   "outputs": [
    {
     "data": {
      "text/plain": [
       "0    1\n",
       "1    2\n",
       "2    3\n",
       "3    4\n",
       "4    5\n",
       "5    6\n",
       "dtype: int64"
      ]
     },
     "execution_count": 45,
     "metadata": {},
     "output_type": "execute_result"
    }
   ],
   "source": [
    "# 当数据源非Series和ndarray时\n",
    "# 数组作为数据源\n",
    "my_list = [1,2,3,4,5,6]\n",
    "\n",
    "# 使用数组创建Series\n",
    "s2 = pd.Series(my_list)\n",
    "s2"
   ]
  },
  {
   "cell_type": "code",
   "execution_count": 46,
   "metadata": {},
   "outputs": [
    {
     "name": "stdout",
     "output_type": "stream",
     "text": [
      "s2[1]: 50\n",
      "s2: 0     1\n",
      "1    50\n",
      "2     3\n",
      "3     4\n",
      "4     5\n",
      "5     6\n",
      "dtype: int64\n",
      "mny_list: [1, 2, 3, 4, 5, 6]\n"
     ]
    }
   ],
   "source": [
    "# 这个时候再改变s2[1]的值\n",
    "s2[1] = 50\n",
    "print(\"s2[1]:\",s2[1])\n",
    "\n",
    "# 输出s2\n",
    "print(\"s2:\",s2)\n",
    "\n",
    "# 输出数组\n",
    "print(\"mny_list:\",my_list)"
   ]
  },
  {
   "cell_type": "markdown",
   "metadata": {},
   "source": [
    "### **Series的索引/切片**\n",
    "\n",
    "  ##### **1.下标索引**\n",
    "\n",
    "类似于列表索引"
   ]
  },
  {
   "cell_type": "code",
   "execution_count": 47,
   "metadata": {},
   "outputs": [
    {
     "name": "stdout",
     "output_type": "stream",
     "text": [
      "0    0.128863\n",
      "1    0.357681\n",
      "2    0.798062\n",
      "3    0.380072\n",
      "4    0.404843\n",
      "dtype: float64\n",
      "0.3800721877739305 <class 'numpy.float64'> float64\n"
     ]
    }
   ],
   "source": [
    "s = pd.Series(np.random.rand(5))\n",
    "print(s)\n",
    "print(s[3],type(s[3]),s[3].dtype)"
   ]
  },
  {
   "cell_type": "markdown",
   "metadata": {},
   "source": [
    "  ##### **1.标签索引**\n",
    "\n",
    "  当索引为object类型时，既可以使用标签索引也可以使用位置索引\n",
    "  \n",
    "  Series类似于固定大小的dict,把index中的索引标签当做key，而把Series序列中的元素值当做value，然后通过index索引标签来访问或者修改元素值\n",
    "\n",
    "- ##### 使用索标签访问单个元素值"
   ]
  },
  {
   "cell_type": "code",
   "execution_count": 48,
   "metadata": {},
   "outputs": [
    {
     "name": "stdout",
     "output_type": "stream",
     "text": [
      "0.962849450173799 <class 'numpy.float64'> float64\n"
     ]
    }
   ],
   "source": [
    "s = pd.Series(np.random.rand(5),index=list(\"abcde\"))\n",
    "print(s['b'],type(s['b']),s['b'].dtype)"
   ]
  },
  {
   "cell_type": "markdown",
   "metadata": {},
   "source": [
    "- ##### 使用索引标签访问多个元素值\n"
   ]
  },
  {
   "cell_type": "code",
   "execution_count": 49,
   "metadata": {},
   "outputs": [
    {
     "name": "stdout",
     "output_type": "stream",
     "text": [
      "a     6\n",
      "b     7\n",
      "c     8\n",
      "d     9\n",
      "e    10\n",
      "dtype: int64\n",
      "a    6\n",
      "b    7\n",
      "c    8\n",
      "dtype: int64\n"
     ]
    }
   ],
   "source": [
    "s = pd.Series([6,7,8,9,10],index=list(\"abcde\"))\n",
    "print(s)\n",
    "print(s[['a','b','c']])"
   ]
  },
  {
   "cell_type": "markdown",
   "metadata": {},
   "source": [
    "### 切片\n",
    "\n",
    "- Series使用标签切片运算与普通的python切片运算不同：Series使用标签切片时，其末端是包含的\n",
    "\n",
    "- Series使用python切片运算即使用位置数值切片，其末端是不包含的"
   ]
  },
  {
   "cell_type": "code",
   "execution_count": 50,
   "metadata": {},
   "outputs": [
    {
     "data": {
      "text/plain": [
       "0    0.493321\n",
       "1    0.469693\n",
       "2    0.360213\n",
       "3    0.881755\n",
       "4    0.511449\n",
       "5    0.203382\n",
       "6    0.362533\n",
       "7    0.483436\n",
       "8    0.679131\n",
       "9    0.123984\n",
       "dtype: float64"
      ]
     },
     "execution_count": 50,
     "metadata": {},
     "output_type": "execute_result"
    }
   ],
   "source": [
    "s = pd.Series(np.random.rand(10))\n",
    "s"
   ]
  },
  {
   "cell_type": "markdown",
   "metadata": {},
   "source": [
    "**位置索引和标签索引刚好一致，使用切片时如果是数值会认为是python的切片运算，不包含末端**"
   ]
  },
  {
   "cell_type": "code",
   "execution_count": 51,
   "metadata": {},
   "outputs": [
    {
     "data": {
      "text/plain": [
       "1    0.469693\n",
       "2    0.360213\n",
       "dtype: float64"
      ]
     },
     "execution_count": 51,
     "metadata": {},
     "output_type": "execute_result"
    }
   ],
   "source": [
    "s[1:3]"
   ]
  },
  {
   "cell_type": "code",
   "execution_count": 52,
   "metadata": {},
   "outputs": [
    {
     "name": "stdout",
     "output_type": "stream",
     "text": [
      "a    1\n",
      "b    2\n",
      "c    3\n",
      "d    4\n",
      "e    5\n",
      "dtype: int64\n",
      "b    2\n",
      "c    3\n",
      "d    4\n",
      "dtype: int64\n"
     ]
    }
   ],
   "source": [
    "s = pd.Series([1,2,3,4,5],index=['a','b','c','d','e'])\n",
    "print(s)\n",
    "print(s[1:4])"
   ]
  },
  {
   "cell_type": "code",
   "execution_count": 53,
   "metadata": {},
   "outputs": [
    {
     "data": {
      "text/plain": [
       "a    1\n",
       "b    2\n",
       "c    3\n",
       "d    4\n",
       "dtype: int64"
      ]
     },
     "execution_count": 53,
     "metadata": {},
     "output_type": "execute_result"
    }
   ],
   "source": [
    "s[\"a\":\"d\"]"
   ]
  },
  {
   "cell_type": "markdown",
   "metadata": {},
   "source": [
    "### **Series数据结构 基本技巧**\n",
    "\n",
    "#### **1.查看前几条和后几条数据**"
   ]
  },
  {
   "cell_type": "code",
   "execution_count": 54,
   "metadata": {},
   "outputs": [
    {
     "data": {
      "text/plain": [
       "0     0.751949\n",
       "1     0.569247\n",
       "2     0.785266\n",
       "3     0.113433\n",
       "4     0.049781\n",
       "5     0.716190\n",
       "6     0.081336\n",
       "7     0.498792\n",
       "8     0.601436\n",
       "9     0.857429\n",
       "10    0.550282\n",
       "11    0.598071\n",
       "12    0.089436\n",
       "13    0.220198\n",
       "14    0.806909\n",
       "dtype: float64"
      ]
     },
     "execution_count": 54,
     "metadata": {},
     "output_type": "execute_result"
    }
   ],
   "source": [
    "s = pd.Series(np.random.rand(15))\n",
    "s"
   ]
  },
  {
   "cell_type": "code",
   "execution_count": 55,
   "metadata": {},
   "outputs": [
    {
     "name": "stdout",
     "output_type": "stream",
     "text": [
      "0    0.751949\n",
      "1    0.569247\n",
      "2    0.785266\n",
      "3    0.113433\n",
      "4    0.049781\n",
      "dtype: float64\n",
      "0    0.751949\n",
      "dtype: float64\n"
     ]
    }
   ],
   "source": [
    "# 默认查看前5条数据\n",
    "print(s.head())\n",
    "# 默认查看前1条数据\n",
    "print(s.head(1))"
   ]
  },
  {
   "cell_type": "code",
   "execution_count": 56,
   "metadata": {},
   "outputs": [
    {
     "name": "stdout",
     "output_type": "stream",
     "text": [
      "10    0.550282\n",
      "11    0.598071\n",
      "12    0.089436\n",
      "13    0.220198\n",
      "14    0.806909\n",
      "dtype: float64\n"
     ]
    }
   ],
   "source": [
    "# 默认查看后5条数据\n",
    "print(s.tail())"
   ]
  },
  {
   "cell_type": "markdown",
   "metadata": {},
   "source": [
    "#### **2.重新索引:reindex**\n",
    "\n",
    "使用可选逻辑,使Series符合新索引\n",
    "\n",
    "将NaN放在上一个索引中没有值的位置。除非新索引等同于当前索引，并且生成新对象。"
   ]
  },
  {
   "cell_type": "code",
   "execution_count": 57,
   "metadata": {},
   "outputs": [
    {
     "name": "stdout",
     "output_type": "stream",
     "text": [
      "---------s---------\n",
      "a    0.612110\n",
      "b    0.115940\n",
      "c    0.580106\n",
      "d    0.690259\n",
      "e    0.363831\n",
      "dtype: float64\n",
      "========s1=========\n",
      "c    0.580106\n",
      "d    0.690259\n",
      "e    0.363831\n",
      "1         NaN\n",
      "2         NaN\n",
      "dtype: float64\n"
     ]
    }
   ],
   "source": [
    "s = pd.Series(np.random.rand(5),index=list(\"abcde\"))\n",
    "print(\"---------s---------\")\n",
    "print(s)\n",
    "\n",
    "# 新索引在上一个索引中不存在，生成新对象时，对应的值，设置为NaN\n",
    "s1 = s.reindex(list(\"cde12\"))\n",
    "print(\"========s1=========\")\n",
    "print(s1)"
   ]
  },
  {
   "cell_type": "code",
   "execution_count": 58,
   "metadata": {},
   "outputs": [
    {
     "name": "stdout",
     "output_type": "stream",
     "text": [
      "========s2=========\n",
      "c    0.580106\n",
      "d    0.690259\n",
      "e    0.363831\n",
      "3    0.000000\n",
      "4    0.000000\n",
      "dtype: float64\n"
     ]
    }
   ],
   "source": [
    "# 设置填充值\n",
    "s2 = s.reindex(list(\"cde34\"),fill_value=0)\n",
    "print(\"========s2=========\")\n",
    "print(s2)"
   ]
  },
  {
   "cell_type": "markdown",
   "metadata": {},
   "source": [
    "#### **3.对齐运算**\n",
    "\n",
    "是数据清洗的重要过程，可以按索引对齐进行运算，如果没对齐的位置则补NaN，最后也可以填充NaN"
   ]
  },
  {
   "cell_type": "code",
   "execution_count": 59,
   "metadata": {},
   "outputs": [
    {
     "name": "stdout",
     "output_type": "stream",
     "text": [
      "----------s1----------\n",
      "Hud       0.148470\n",
      "Monica    0.804471\n",
      "QB        0.188132\n",
      "dtype: float64\n",
      "==========s2==========\n",
      "Monica    0.786384\n",
      "QB        0.483064\n",
      "QTY       0.883519\n",
      "dtype: float64\n",
      "#########s1+s2#########\n",
      "Hud            NaN\n",
      "Monica    1.590855\n",
      "QB        0.671196\n",
      "QTY            NaN\n",
      "dtype: float64\n"
     ]
    }
   ],
   "source": [
    "s1 = pd.Series(np.random.rand(3),index=[\"Hud\",\"Monica\",\"QB\"])\n",
    "\n",
    "s2 = pd.Series(np.random.rand(3),index=[\"Monica\",\"QB\",\"QTY\"])\n",
    "\n",
    "print(\"----------s1----------\")\n",
    "print(s1)\n",
    "\n",
    "print(\"==========s2==========\")\n",
    "print(s2)\n",
    "\n",
    "print(\"#########s1+s2#########\")\n",
    "print(s1+s2)"
   ]
  },
  {
   "cell_type": "markdown",
   "metadata": {},
   "source": [
    "#### **4.删除和添加**\n",
    "\n",
    "- **删除**"
   ]
  },
  {
   "cell_type": "code",
   "execution_count": 60,
   "metadata": {},
   "outputs": [
    {
     "name": "stdout",
     "output_type": "stream",
     "text": [
      "a    0.965258\n",
      "b    0.247664\n",
      "c    0.149399\n",
      "d    0.406922\n",
      "e    0.516405\n",
      "dtype: float64\n",
      "a    0.965258\n",
      "c    0.149399\n",
      "d    0.406922\n",
      "e    0.516405\n",
      "dtype: float64\n",
      "==================\n",
      "a    0.965258\n",
      "b    0.247664\n",
      "c    0.149399\n",
      "d    0.406922\n",
      "e    0.516405\n",
      "dtype: float64\n"
     ]
    }
   ],
   "source": [
    "s = pd.Series(np.random.rand(5),index=list('abcde'))\n",
    "print(s)\n",
    "s1 = s.drop(\"b\") # 返回删除后的值，原值不改变，默认inplace=False\n",
    "print(s1)\n",
    "print(\"==================\")\n",
    "print(s)"
   ]
  },
  {
   "cell_type": "code",
   "execution_count": 61,
   "metadata": {},
   "outputs": [
    {
     "name": "stdout",
     "output_type": "stream",
     "text": [
      "None\n",
      "================\n",
      "a    0.096192\n",
      "c    0.959991\n",
      "d    0.605335\n",
      "e    0.445987\n",
      "dtype: float64\n"
     ]
    }
   ],
   "source": [
    "# 如果希望原值发生变化\n",
    "s = pd.Series(np.random.rand(5),index=list('abcde'))\n",
    "s1 = s.drop(\"b\",inplace=True) # 原值发生变化，返回None\n",
    "print(s1)\n",
    "print(\"================\")\n",
    "print(s)"
   ]
  },
  {
   "cell_type": "markdown",
   "metadata": {},
   "source": [
    "- **添加**"
   ]
  },
  {
   "cell_type": "code",
   "execution_count": 62,
   "metadata": {},
   "outputs": [
    {
     "name": "stdout",
     "output_type": "stream",
     "text": [
      "a    0.205843\n",
      "b    0.832822\n",
      "c    0.735631\n",
      "d    0.174597\n",
      "e    0.499566\n",
      "dtype: float64\n",
      "-=-=-=-=-=-=-=\n",
      "a    0.205843\n",
      "b    0.832822\n",
      "c    0.735631\n",
      "d    0.174597\n",
      "e    0.499566\n",
      "f    2.222222\n",
      "dtype: float64\n"
     ]
    }
   ],
   "source": [
    "s = pd.Series(np.random.rand(5),index=list('abcde'))\n",
    "print(s)\n",
    "\n",
    "s[\"f\"]=2.222222  # 有就添加 没有就修改\n",
    "print(\"-=-=-=-=-=-=-=\")\n",
    "print(s)"
   ]
  },
  {
   "cell_type": "markdown",
   "metadata": {},
   "source": [
    "#### **5.检测缺失值**\n",
    "\n",
    "isnull()和notnull()用于检测Series中的缺失值，所谓缺失值，顾名思义就是值不存在、丢失、缺少\n",
    "\n",
    "- isnull(): 如果为值不存在或者缺失，则返回True\n",
    "\n",
    "- notnull(): 如果值不存在或者缺失，则返回False"
   ]
  },
  {
   "cell_type": "code",
   "execution_count": 63,
   "metadata": {},
   "outputs": [
    {
     "name": "stdout",
     "output_type": "stream",
     "text": [
      "0    False\n",
      "1    False\n",
      "2    False\n",
      "3     True\n",
      "4    False\n",
      "5    False\n",
      "6     True\n",
      "7    False\n",
      "8    False\n",
      "dtype: bool\n",
      "0     True\n",
      "1     True\n",
      "2     True\n",
      "3    False\n",
      "4     True\n",
      "5     True\n",
      "6    False\n",
      "7     True\n",
      "8     True\n",
      "dtype: bool\n"
     ]
    }
   ],
   "source": [
    "s = pd.Series([1,2,3,None,5,6,None,8,9])\n",
    "print(pd.isnull(s))\n",
    "print(pd.notnull(s))"
   ]
  },
  {
   "cell_type": "markdown",
   "metadata": {},
   "source": [
    "### **DataFrame数据类型**\n",
    "\n",
    "DataFrame是Pandas的重要数据结构之一，也是在使用Pandas进行数据分析过程中最常用的结构之一，可以这么说，掌握了DataFrame的用法,你就拥有了学习数据分析的基本能力\n",
    "\n",
    "\n",
    "#### **认识DataFrame结构**\n",
    "\n",
    "DataFrame 一个表格型的数据结构，既有行标签(index),又有列标签(columns)，他也被称为异构数据表，所谓异构，指的是表格中的每列的数据类型可以不同，比如可以是字符串、浮点型、整型\n",
    "\n",
    "- DataFrame数据结构的特点主要是:\n",
    "  \n",
    "  - DataFrame每一列标签值允许使用不同的数据类型 \n",
    "\n",
    "  - DataFrame是表格型的数据结构，具有行和列\n",
    "\n",
    "  - DataFrame中的每个数据值都可以被修改\n",
    "\n",
    "  - DataFrame结构的行数和列数允许增加或者删除\n",
    "\n",
    "  - DataFrame有两个方向的标签轴，分别是行标签和列标签\n",
    "\n",
    "  - DataFrame可以对行和列执行算数运算\n",
    "\n",
    "\n",
    "\n",
    "#### **创建DataFrame对象**\n",
    "\n",
    "***pandas.DataFrame(data=None,index=None,columns=None,dtype=None,copy=None)***\n",
    "\n",
    "- data：输入的数据，可以是ndarray，series，list，dict，标量以及一个DataFrame \n",
    "\n",
    "- index：行标签，如果没有传递index值，则默认行标签是Rangelndex（0，1，2..…，n），n代表data的元素个数。\n",
    "\n",
    "- columns：列标签，如果没有传递columns值，则默认列标签是Rangelndex（0，1，2，…，n）\n",
    "\n",
    "- dtype：要强制的数据类型。只允许使用一种数据类型。如果没有，自行推断\n",
    "\n",
    "- copy：从输入复制数据。对于dict数据，copy=True，重新复制一份。对于DataFrame或ndarray输入，类似于copy=False\n",
    "\n",
    "\n",
    "\n",
    "**Pandas Data是一个二维的数据结构，类似二维数组**"
   ]
  },
  {
   "cell_type": "code",
   "execution_count": 64,
   "metadata": {},
   "outputs": [],
   "source": [
    "# 引入numpy和Pandas\n",
    "import numpy as np\n",
    "import pandas as pd"
   ]
  },
  {
   "cell_type": "markdown",
   "metadata": {},
   "source": [
    "**1.使用普通列表创建**"
   ]
  },
  {
   "cell_type": "code",
   "execution_count": 65,
   "metadata": {},
   "outputs": [
    {
     "name": "stdout",
     "output_type": "stream",
     "text": [
      "   0\n",
      "0  1\n",
      "1  2\n",
      "2  3\n",
      "3  4\n",
      "4  5\n"
     ]
    }
   ],
   "source": [
    "data = [1,2,3,4,5]\n",
    "df = pd.DataFrame(data)\n",
    "print(df)"
   ]
  },
  {
   "cell_type": "markdown",
   "metadata": {},
   "source": [
    "**2.使用嵌套列表的创建**"
   ]
  },
  {
   "cell_type": "code",
   "execution_count": 66,
   "metadata": {},
   "outputs": [
    {
     "name": "stdout",
     "output_type": "stream",
     "text": [
      "        0   1   2\n",
      "0     Hud  24   男\n",
      "1  Monica  22   女\n",
      "2      Qb   1  不详\n",
      "------------分配列标签-------------\n"
     ]
    },
    {
     "data": {
      "text/html": [
       "<div>\n",
       "<style scoped>\n",
       "    .dataframe tbody tr th:only-of-type {\n",
       "        vertical-align: middle;\n",
       "    }\n",
       "\n",
       "    .dataframe tbody tr th {\n",
       "        vertical-align: top;\n",
       "    }\n",
       "\n",
       "    .dataframe thead th {\n",
       "        text-align: right;\n",
       "    }\n",
       "</style>\n",
       "<table border=\"1\" class=\"dataframe\">\n",
       "  <thead>\n",
       "    <tr style=\"text-align: right;\">\n",
       "      <th></th>\n",
       "      <th>Name</th>\n",
       "      <th>Age</th>\n",
       "      <th>Sex</th>\n",
       "    </tr>\n",
       "  </thead>\n",
       "  <tbody>\n",
       "    <tr>\n",
       "      <th>0</th>\n",
       "      <td>Hud</td>\n",
       "      <td>24</td>\n",
       "      <td>男</td>\n",
       "    </tr>\n",
       "    <tr>\n",
       "      <th>1</th>\n",
       "      <td>Monica</td>\n",
       "      <td>22</td>\n",
       "      <td>女</td>\n",
       "    </tr>\n",
       "    <tr>\n",
       "      <th>2</th>\n",
       "      <td>Qb</td>\n",
       "      <td>1</td>\n",
       "      <td>不详</td>\n",
       "    </tr>\n",
       "  </tbody>\n",
       "</table>\n",
       "</div>"
      ],
      "text/plain": [
       "     Name  Age Sex\n",
       "0     Hud   24   男\n",
       "1  Monica   22   女\n",
       "2      Qb    1  不详"
      ]
     },
     "execution_count": 66,
     "metadata": {},
     "output_type": "execute_result"
    }
   ],
   "source": [
    "# 列表中的每个元素代表一行数据\n",
    "\n",
    "data = [['Hud',24,\"男\"],[\"Monica\",22,\"女\"],[\"Qb\",1,\"不详\"]]\n",
    "\n",
    "#不分配列标签\n",
    "df = pd.DataFrame(data)\n",
    "print(df)\n",
    "\n",
    "print(\"------------分配列标签-------------\")\n",
    "df1 = pd.DataFrame(data,columns=[\"Name\",\"Age\",\"Sex\"])\n",
    "df1"
   ]
  },
  {
   "cell_type": "markdown",
   "metadata": {},
   "source": [
    "**3.指定数值元素的数据类型为float**\n",
    "\n",
    "- 需要注意：dtype只能设置一个，设置多个列的数据类型，需要使用其他方式"
   ]
  },
  {
   "cell_type": "code",
   "execution_count": 67,
   "metadata": {},
   "outputs": [
    {
     "data": {
      "text/html": [
       "<div>\n",
       "<style scoped>\n",
       "    .dataframe tbody tr th:only-of-type {\n",
       "        vertical-align: middle;\n",
       "    }\n",
       "\n",
       "    .dataframe tbody tr th {\n",
       "        vertical-align: top;\n",
       "    }\n",
       "\n",
       "    .dataframe thead th {\n",
       "        text-align: right;\n",
       "    }\n",
       "</style>\n",
       "<table border=\"1\" class=\"dataframe\">\n",
       "  <thead>\n",
       "    <tr style=\"text-align: right;\">\n",
       "      <th></th>\n",
       "      <th>Name</th>\n",
       "      <th>Age</th>\n",
       "      <th>Sex</th>\n",
       "    </tr>\n",
       "  </thead>\n",
       "  <tbody>\n",
       "    <tr>\n",
       "      <th>0</th>\n",
       "      <td>Hud</td>\n",
       "      <td>24</td>\n",
       "      <td>男</td>\n",
       "    </tr>\n",
       "    <tr>\n",
       "      <th>1</th>\n",
       "      <td>Monica</td>\n",
       "      <td>22</td>\n",
       "      <td>女</td>\n",
       "    </tr>\n",
       "    <tr>\n",
       "      <th>2</th>\n",
       "      <td>Qb</td>\n",
       "      <td>1</td>\n",
       "      <td>不详</td>\n",
       "    </tr>\n",
       "  </tbody>\n",
       "</table>\n",
       "</div>"
      ],
      "text/plain": [
       "     Name  Age Sex\n",
       "0     Hud   24   男\n",
       "1  Monica   22   女\n",
       "2      Qb    1  不详"
      ]
     },
     "execution_count": 67,
     "metadata": {},
     "output_type": "execute_result"
    }
   ],
   "source": [
    "data = [['Hud',24,\"男\"],[\"Monica\",22,\"女\"],[\"Qb\",1,\"不详\"]]\n",
    "df = pd.DataFrame(data,columns=[\"Name\",\"Age\",\"Sex\"],dtype=int)\n",
    "df\n"
   ]
  },
  {
   "cell_type": "code",
   "execution_count": 68,
   "metadata": {},
   "outputs": [
    {
     "data": {
      "text/html": [
       "<div>\n",
       "<style scoped>\n",
       "    .dataframe tbody tr th:only-of-type {\n",
       "        vertical-align: middle;\n",
       "    }\n",
       "\n",
       "    .dataframe tbody tr th {\n",
       "        vertical-align: top;\n",
       "    }\n",
       "\n",
       "    .dataframe thead th {\n",
       "        text-align: right;\n",
       "    }\n",
       "</style>\n",
       "<table border=\"1\" class=\"dataframe\">\n",
       "  <thead>\n",
       "    <tr style=\"text-align: right;\">\n",
       "      <th></th>\n",
       "      <th>Name</th>\n",
       "      <th>Age</th>\n",
       "      <th>Sex</th>\n",
       "      <th>tall</th>\n",
       "    </tr>\n",
       "  </thead>\n",
       "  <tbody>\n",
       "    <tr>\n",
       "      <th>0</th>\n",
       "      <td>Hud</td>\n",
       "      <td>24.0</td>\n",
       "      <td>男</td>\n",
       "      <td>1.81</td>\n",
       "    </tr>\n",
       "    <tr>\n",
       "      <th>1</th>\n",
       "      <td>Monica</td>\n",
       "      <td>22.0</td>\n",
       "      <td>女</td>\n",
       "      <td>1.65</td>\n",
       "    </tr>\n",
       "    <tr>\n",
       "      <th>2</th>\n",
       "      <td>Qb</td>\n",
       "      <td>1.0</td>\n",
       "      <td>不详</td>\n",
       "      <td>0.04</td>\n",
       "    </tr>\n",
       "  </tbody>\n",
       "</table>\n",
       "</div>"
      ],
      "text/plain": [
       "     Name   Age Sex  tall\n",
       "0     Hud  24.0   男  1.81\n",
       "1  Monica  22.0   女  1.65\n",
       "2      Qb   1.0  不详  0.04"
      ]
     },
     "execution_count": 68,
     "metadata": {},
     "output_type": "execute_result"
    }
   ],
   "source": [
    "data = [['Hud',24,\"男\",1.81],[\"Monica\",22,\"女\",1.65],[\"Qb\",1,\"不详\",0.04]]\n",
    "# df = pd.DataFrame(data,columns=[\"Name\",\"Age\",\"Sex\",\"tall\"],dtype={str,int,str,float}) 錯誤\n",
    "\n",
    "df = pd.DataFrame(data,columns=[\"Name\",\"Age\",\"Sex\",\"tall\"],dtype=float)\n",
    "df"
   ]
  },
  {
   "cell_type": "markdown",
   "metadata": {},
   "source": [
    "**4.列表嵌套字典的方式创建DataFrame对象**\n",
    "\n",
    "列表嵌套字典可以作为输入数据传递给DataFrame构造函数，默认情况下，字典的键被用作列名"
   ]
  },
  {
   "cell_type": "code",
   "execution_count": 69,
   "metadata": {},
   "outputs": [
    {
     "data": {
      "text/html": [
       "<div>\n",
       "<style scoped>\n",
       "    .dataframe tbody tr th:only-of-type {\n",
       "        vertical-align: middle;\n",
       "    }\n",
       "\n",
       "    .dataframe tbody tr th {\n",
       "        vertical-align: top;\n",
       "    }\n",
       "\n",
       "    .dataframe thead th {\n",
       "        text-align: right;\n",
       "    }\n",
       "</style>\n",
       "<table border=\"1\" class=\"dataframe\">\n",
       "  <thead>\n",
       "    <tr style=\"text-align: right;\">\n",
       "      <th></th>\n",
       "      <th>a</th>\n",
       "      <th>b</th>\n",
       "      <th>c</th>\n",
       "    </tr>\n",
       "  </thead>\n",
       "  <tbody>\n",
       "    <tr>\n",
       "      <th>first</th>\n",
       "      <td>1</td>\n",
       "      <td>2</td>\n",
       "      <td>NaN</td>\n",
       "    </tr>\n",
       "    <tr>\n",
       "      <th>second</th>\n",
       "      <td>5</td>\n",
       "      <td>10</td>\n",
       "      <td>20.0</td>\n",
       "    </tr>\n",
       "  </tbody>\n",
       "</table>\n",
       "</div>"
      ],
      "text/plain": [
       "        a   b     c\n",
       "first   1   2   NaN\n",
       "second  5  10  20.0"
      ]
     },
     "execution_count": 69,
     "metadata": {},
     "output_type": "execute_result"
    }
   ],
   "source": [
    "data = [{'a':1,'b':2},{'a':5,'b':10,'c':20}]\n",
    "df = pd.DataFrame(data,index=[\"first\",\"second\"])\n",
    "df"
   ]
  },
  {
   "cell_type": "markdown",
   "metadata": {},
   "source": [
    "**5. Series创建DataFrame对象**\n",
    "\n",
    "你也可以传递一个字典形式的Series，从而创建一个DataFrame对象，其输出结果的行索引是所有index的合集"
   ]
  },
  {
   "cell_type": "code",
   "execution_count": 70,
   "metadata": {},
   "outputs": [
    {
     "data": {
      "text/html": [
       "<div>\n",
       "<style scoped>\n",
       "    .dataframe tbody tr th:only-of-type {\n",
       "        vertical-align: middle;\n",
       "    }\n",
       "\n",
       "    .dataframe tbody tr th {\n",
       "        vertical-align: top;\n",
       "    }\n",
       "\n",
       "    .dataframe thead th {\n",
       "        text-align: right;\n",
       "    }\n",
       "</style>\n",
       "<table border=\"1\" class=\"dataframe\">\n",
       "  <thead>\n",
       "    <tr style=\"text-align: right;\">\n",
       "      <th></th>\n",
       "      <th>one</th>\n",
       "      <th>two</th>\n",
       "    </tr>\n",
       "  </thead>\n",
       "  <tbody>\n",
       "    <tr>\n",
       "      <th>a</th>\n",
       "      <td>1.0</td>\n",
       "      <td>1</td>\n",
       "    </tr>\n",
       "    <tr>\n",
       "      <th>b</th>\n",
       "      <td>2.0</td>\n",
       "      <td>2</td>\n",
       "    </tr>\n",
       "    <tr>\n",
       "      <th>c</th>\n",
       "      <td>3.0</td>\n",
       "      <td>3</td>\n",
       "    </tr>\n",
       "    <tr>\n",
       "      <th>d</th>\n",
       "      <td>NaN</td>\n",
       "      <td>4</td>\n",
       "    </tr>\n",
       "  </tbody>\n",
       "</table>\n",
       "</div>"
      ],
      "text/plain": [
       "   one  two\n",
       "a  1.0    1\n",
       "b  2.0    2\n",
       "c  3.0    3\n",
       "d  NaN    4"
      ]
     },
     "execution_count": 70,
     "metadata": {},
     "output_type": "execute_result"
    }
   ],
   "source": [
    "d = {'one':pd.Series([1,2,3],index=['a','b','c']),\n",
    "    'two':pd.Series([1,2,3,4],index=['a','b','c','d'])}\n",
    "df = pd.DataFrame(d)\n",
    "df"
   ]
  },
  {
   "cell_type": "markdown",
   "metadata": {},
   "source": [
    "### **列操作DataFrame**\n",
    "\n",
    "DataFrame可以使用列标签来完成数据的选取、添加和删除操作。\n",
    "\n",
    "**1. 选取数据列**\n",
    "\n",
    "- 可以使用列索引，轻松实现数据选项"
   ]
  },
  {
   "cell_type": "code",
   "execution_count": 71,
   "metadata": {},
   "outputs": [
    {
     "name": "stdout",
     "output_type": "stream",
     "text": [
      "         Name  Age\n",
      "rank1     Hud   24\n",
      "rank2  Monica   22\n",
      "rank3      Qb    1\n",
      "========df['Name']取得Name列=======\n",
      "rank1       Hud\n",
      "rank2    Monica\n",
      "rank3        Qb\n",
      "Name: Name, dtype: object\n",
      "========df['Age']取得Age列=======\n",
      "rank1    24\n",
      "rank2    22\n",
      "rank3     1\n",
      "Name: Age, dtype: int64\n"
     ]
    }
   ],
   "source": [
    "data = {'Name':['Hud','Monica','Qb'],'Age':[24,22,1]}\n",
    "# 定义行标签\n",
    "index = ['rank1','rank2','rank3']\n",
    "\n",
    "# 通过字典定义DataFrame\n",
    "df = pd.DataFrame(data,index=index)\n",
    "print(df)\n",
    "print(\"========df['Name']取得Name列=======\")\n",
    "print(df['Name'])\n",
    "print(\"========df['Age']取得Age列=======\")\n",
    "print(df['Age'])"
   ]
  },
  {
   "cell_type": "code",
   "execution_count": 72,
   "metadata": {},
   "outputs": [
    {
     "data": {
      "text/html": [
       "<div>\n",
       "<style scoped>\n",
       "    .dataframe tbody tr th:only-of-type {\n",
       "        vertical-align: middle;\n",
       "    }\n",
       "\n",
       "    .dataframe tbody tr th {\n",
       "        vertical-align: top;\n",
       "    }\n",
       "\n",
       "    .dataframe thead th {\n",
       "        text-align: right;\n",
       "    }\n",
       "</style>\n",
       "<table border=\"1\" class=\"dataframe\">\n",
       "  <thead>\n",
       "    <tr style=\"text-align: right;\">\n",
       "      <th></th>\n",
       "      <th>Name</th>\n",
       "      <th>Age</th>\n",
       "    </tr>\n",
       "  </thead>\n",
       "  <tbody>\n",
       "    <tr>\n",
       "      <th>rank1</th>\n",
       "      <td>Hud</td>\n",
       "      <td>24</td>\n",
       "    </tr>\n",
       "    <tr>\n",
       "      <th>rank2</th>\n",
       "      <td>Monica</td>\n",
       "      <td>22</td>\n",
       "    </tr>\n",
       "    <tr>\n",
       "      <th>rank3</th>\n",
       "      <td>Qb</td>\n",
       "      <td>1</td>\n",
       "    </tr>\n",
       "  </tbody>\n",
       "</table>\n",
       "</div>"
      ],
      "text/plain": [
       "         Name  Age\n",
       "rank1     Hud   24\n",
       "rank2  Monica   22\n",
       "rank3      Qb    1"
      ]
     },
     "execution_count": 72,
     "metadata": {},
     "output_type": "execute_result"
    }
   ],
   "source": [
    "# 选取多列\n",
    "df[['Name','Age']]"
   ]
  },
  {
   "cell_type": "markdown",
   "metadata": {},
   "source": [
    "**2.列添加**\n",
    "\n",
    "- 使用columns列标签索引可以实现添加新的数据列，示例如下"
   ]
  },
  {
   "cell_type": "code",
   "execution_count": 73,
   "metadata": {},
   "outputs": [
    {
     "data": {
      "text/html": [
       "<div>\n",
       "<style scoped>\n",
       "    .dataframe tbody tr th:only-of-type {\n",
       "        vertical-align: middle;\n",
       "    }\n",
       "\n",
       "    .dataframe tbody tr th {\n",
       "        vertical-align: top;\n",
       "    }\n",
       "\n",
       "    .dataframe thead th {\n",
       "        text-align: right;\n",
       "    }\n",
       "</style>\n",
       "<table border=\"1\" class=\"dataframe\">\n",
       "  <thead>\n",
       "    <tr style=\"text-align: right;\">\n",
       "      <th></th>\n",
       "      <th>One</th>\n",
       "      <th>Two</th>\n",
       "    </tr>\n",
       "  </thead>\n",
       "  <tbody>\n",
       "    <tr>\n",
       "      <th>a</th>\n",
       "      <td>1.0</td>\n",
       "      <td>1</td>\n",
       "    </tr>\n",
       "    <tr>\n",
       "      <th>b</th>\n",
       "      <td>2.0</td>\n",
       "      <td>2</td>\n",
       "    </tr>\n",
       "    <tr>\n",
       "      <th>c</th>\n",
       "      <td>3.0</td>\n",
       "      <td>3</td>\n",
       "    </tr>\n",
       "    <tr>\n",
       "      <th>d</th>\n",
       "      <td>NaN</td>\n",
       "      <td>4</td>\n",
       "    </tr>\n",
       "  </tbody>\n",
       "</table>\n",
       "</div>"
      ],
      "text/plain": [
       "   One  Two\n",
       "a  1.0    1\n",
       "b  2.0    2\n",
       "c  3.0    3\n",
       "d  NaN    4"
      ]
     },
     "execution_count": 73,
     "metadata": {},
     "output_type": "execute_result"
    }
   ],
   "source": [
    "d = {'One':pd.Series([1,2,3],index=['a','b','c']),\n",
    "'Two':pd.Series([1,2,3,4],index=['a','b','c','d'])}\n",
    "df = pd.DataFrame(d)\n",
    "df"
   ]
  },
  {
   "cell_type": "code",
   "execution_count": 74,
   "metadata": {},
   "outputs": [
    {
     "name": "stdout",
     "output_type": "stream",
     "text": [
      "通过Series添加一个新的列\n"
     ]
    },
    {
     "data": {
      "text/html": [
       "<div>\n",
       "<style scoped>\n",
       "    .dataframe tbody tr th:only-of-type {\n",
       "        vertical-align: middle;\n",
       "    }\n",
       "\n",
       "    .dataframe tbody tr th {\n",
       "        vertical-align: top;\n",
       "    }\n",
       "\n",
       "    .dataframe thead th {\n",
       "        text-align: right;\n",
       "    }\n",
       "</style>\n",
       "<table border=\"1\" class=\"dataframe\">\n",
       "  <thead>\n",
       "    <tr style=\"text-align: right;\">\n",
       "      <th></th>\n",
       "      <th>One</th>\n",
       "      <th>Two</th>\n",
       "      <th>Three</th>\n",
       "    </tr>\n",
       "  </thead>\n",
       "  <tbody>\n",
       "    <tr>\n",
       "      <th>a</th>\n",
       "      <td>1.0</td>\n",
       "      <td>1</td>\n",
       "      <td>10.0</td>\n",
       "    </tr>\n",
       "    <tr>\n",
       "      <th>b</th>\n",
       "      <td>2.0</td>\n",
       "      <td>2</td>\n",
       "      <td>20.0</td>\n",
       "    </tr>\n",
       "    <tr>\n",
       "      <th>c</th>\n",
       "      <td>3.0</td>\n",
       "      <td>3</td>\n",
       "      <td>30.0</td>\n",
       "    </tr>\n",
       "    <tr>\n",
       "      <th>d</th>\n",
       "      <td>NaN</td>\n",
       "      <td>4</td>\n",
       "      <td>NaN</td>\n",
       "    </tr>\n",
       "  </tbody>\n",
       "</table>\n",
       "</div>"
      ],
      "text/plain": [
       "   One  Two  Three\n",
       "a  1.0    1   10.0\n",
       "b  2.0    2   20.0\n",
       "c  3.0    3   30.0\n",
       "d  NaN    4    NaN"
      ]
     },
     "execution_count": 74,
     "metadata": {},
     "output_type": "execute_result"
    }
   ],
   "source": [
    "# 使用df['列']='值'，插入新的数据列\n",
    "print(\"通过Series添加一个新的列\")\n",
    "df['Three']=pd.Series([10,20,30],index=['a','b','c'])\n",
    "df"
   ]
  },
  {
   "cell_type": "code",
   "execution_count": 75,
   "metadata": {},
   "outputs": [
    {
     "data": {
      "text/html": [
       "<div>\n",
       "<style scoped>\n",
       "    .dataframe tbody tr th:only-of-type {\n",
       "        vertical-align: middle;\n",
       "    }\n",
       "\n",
       "    .dataframe tbody tr th {\n",
       "        vertical-align: top;\n",
       "    }\n",
       "\n",
       "    .dataframe thead th {\n",
       "        text-align: right;\n",
       "    }\n",
       "</style>\n",
       "<table border=\"1\" class=\"dataframe\">\n",
       "  <thead>\n",
       "    <tr style=\"text-align: right;\">\n",
       "      <th></th>\n",
       "      <th>One</th>\n",
       "      <th>Two</th>\n",
       "      <th>Three</th>\n",
       "      <th>Four</th>\n",
       "    </tr>\n",
       "  </thead>\n",
       "  <tbody>\n",
       "    <tr>\n",
       "      <th>a</th>\n",
       "      <td>1.0</td>\n",
       "      <td>1</td>\n",
       "      <td>10.0</td>\n",
       "      <td>2.0</td>\n",
       "    </tr>\n",
       "    <tr>\n",
       "      <th>b</th>\n",
       "      <td>2.0</td>\n",
       "      <td>2</td>\n",
       "      <td>20.0</td>\n",
       "      <td>4.0</td>\n",
       "    </tr>\n",
       "    <tr>\n",
       "      <th>c</th>\n",
       "      <td>3.0</td>\n",
       "      <td>3</td>\n",
       "      <td>30.0</td>\n",
       "      <td>6.0</td>\n",
       "    </tr>\n",
       "    <tr>\n",
       "      <th>d</th>\n",
       "      <td>NaN</td>\n",
       "      <td>4</td>\n",
       "      <td>NaN</td>\n",
       "      <td>NaN</td>\n",
       "    </tr>\n",
       "  </tbody>\n",
       "</table>\n",
       "</div>"
      ],
      "text/plain": [
       "   One  Two  Three  Four\n",
       "a  1.0    1   10.0   2.0\n",
       "b  2.0    2   20.0   4.0\n",
       "c  3.0    3   30.0   6.0\n",
       "d  NaN    4    NaN   NaN"
      ]
     },
     "execution_count": 75,
     "metadata": {},
     "output_type": "execute_result"
    }
   ],
   "source": [
    "# 将已经存在的数据列相加运算，从而创建一个新的列\n",
    "df['Four']=df['One']+pd.Series([1,2,3,4],index=['a','b','c','d'])\n",
    "df"
   ]
  },
  {
   "cell_type": "markdown",
   "metadata": {},
   "source": [
    "- **insert()方法添加**\n",
    "\n",
    "上述方法，我们初次使用了FataFrame的算数运算，这和Numpy非常相似，除了使用df[]=value的方式外，还可以使用insert方法插入新的列\n",
    "\n",
    "***df.insert(loc,column,value,allow_duplicates=FALSE)***\n",
    "\n",
    "- loc: 整型，插入索引，必须验证0<=loc<=len(列)\n",
    "\n",
    "- column: 插入列的标签，类型可以是(字符串/数字/散列对象)\n",
    "\n",
    "- value: 数值，Series或者数组\n",
    "\n",
    "- allow_duplicates: 允许重复，可以有相同的列标签数据，默认是False"
   ]
  },
  {
   "cell_type": "code",
   "execution_count": 76,
   "metadata": {},
   "outputs": [
    {
     "name": "stdout",
     "output_type": "stream",
     "text": [
      "     Name  Age\n",
      "0     Hud   24\n",
      "1  Monica   22\n",
      "2      Qb    1\n",
      "========insert()插入数据========\n",
      "     Name  weight  Age\n",
      "0     Hud    81.0   24\n",
      "1  Monica    47.0   22\n",
      "2      Qb     4.5    1\n"
     ]
    }
   ],
   "source": [
    "info = [['Hud',24],['Monica',22],['Qb',1]]\n",
    "df = pd.DataFrame(info,columns=['Name','Age'])\n",
    "print(df)\n",
    "# 数值1代表插入到columns列表的索引位置\n",
    "df.insert(1,column='weight',value=[81,47,4.5])\n",
    "print(\"========insert()插入数据========\")\n",
    "print(df)"
   ]
  },
  {
   "cell_type": "markdown",
   "metadata": {},
   "source": [
    "- **删除数据列**\n",
    "\n",
    "    通过del()和pop()都能够删除DataFrame中的数据列,pop()有返回值\n",
    "\n",
    "    示例如下:"
   ]
  },
  {
   "cell_type": "code",
   "execution_count": 77,
   "metadata": {},
   "outputs": [
    {
     "data": {
      "text/html": [
       "<div>\n",
       "<style scoped>\n",
       "    .dataframe tbody tr th:only-of-type {\n",
       "        vertical-align: middle;\n",
       "    }\n",
       "\n",
       "    .dataframe tbody tr th {\n",
       "        vertical-align: top;\n",
       "    }\n",
       "\n",
       "    .dataframe thead th {\n",
       "        text-align: right;\n",
       "    }\n",
       "</style>\n",
       "<table border=\"1\" class=\"dataframe\">\n",
       "  <thead>\n",
       "    <tr style=\"text-align: right;\">\n",
       "      <th></th>\n",
       "      <th>One</th>\n",
       "      <th>Two</th>\n",
       "      <th>Three</th>\n",
       "    </tr>\n",
       "  </thead>\n",
       "  <tbody>\n",
       "    <tr>\n",
       "      <th>a</th>\n",
       "      <td>1.0</td>\n",
       "      <td>1</td>\n",
       "      <td>10</td>\n",
       "    </tr>\n",
       "    <tr>\n",
       "      <th>b</th>\n",
       "      <td>2.0</td>\n",
       "      <td>2</td>\n",
       "      <td>20</td>\n",
       "    </tr>\n",
       "    <tr>\n",
       "      <th>c</th>\n",
       "      <td>3.0</td>\n",
       "      <td>3</td>\n",
       "      <td>30</td>\n",
       "    </tr>\n",
       "    <tr>\n",
       "      <th>d</th>\n",
       "      <td>NaN</td>\n",
       "      <td>4</td>\n",
       "      <td>40</td>\n",
       "    </tr>\n",
       "  </tbody>\n",
       "</table>\n",
       "</div>"
      ],
      "text/plain": [
       "   One  Two  Three\n",
       "a  1.0    1     10\n",
       "b  2.0    2     20\n",
       "c  3.0    3     30\n",
       "d  NaN    4     40"
      ]
     },
     "execution_count": 77,
     "metadata": {},
     "output_type": "execute_result"
    }
   ],
   "source": [
    "d = {'One':pd.Series([1,2,3],index=['a','b','c']),\n",
    "'Two':pd.Series([1,2,3,4],index=['a','b','c','d']),\n",
    "'Three':pd.Series([10,20,30,40],index=['a','b','c','d'])}\n",
    "df = pd.DataFrame(d)\n",
    "df"
   ]
  },
  {
   "cell_type": "code",
   "execution_count": 78,
   "metadata": {},
   "outputs": [
    {
     "name": "stdout",
     "output_type": "stream",
     "text": [
      "=======df['Three']=======\n",
      "   One  Two\n",
      "a  1.0    1\n",
      "b  2.0    2\n",
      "c  3.0    3\n",
      "d  NaN    4\n",
      "=========df.pop('Two')========\n",
      "res_pop: a    1\n",
      "b    2\n",
      "c    3\n",
      "d    4\n",
      "Name: Two, dtype: int64\n",
      "df:    One\n",
      "a  1.0\n",
      "b  2.0\n",
      "c  3.0\n",
      "d  NaN\n"
     ]
    }
   ],
   "source": [
    "# 使用del删除\n",
    "del df['Three']\n",
    "print(\"=======df['Three']=======\")\n",
    "print(df)\n",
    "# 使用pop删除\n",
    "res_pop = df.pop('Two')\n",
    "print(\"=========df.pop('Two')========\")\n",
    "print(\"res_pop:\",res_pop)\n",
    "print(\"df:\",df)"
   ]
  },
  {
   "cell_type": "markdown",
   "metadata": {},
   "source": [
    "### **行操作DataFrame**\n",
    "\n",
    "了解了上述的列索引操作后，行索引操作就变得简单\n",
    "\n",
    "**1. 标签选取**\n",
    "\n",
    "  - 行操作需要借助loc属性来完成：按标签或者布尔数组访问一组行和列"
   ]
  },
  {
   "cell_type": "code",
   "execution_count": 79,
   "metadata": {},
   "outputs": [
    {
     "name": "stdout",
     "output_type": "stream",
     "text": [
      "原始df:\n",
      "   One  Two  Three\n",
      "a  1.0    1     10\n",
      "b  2.0    2     20\n",
      "c  3.0    3     30\n",
      "d  NaN    4     40\n",
      "=======b=======\n",
      "One       2.0\n",
      "Two       2.0\n",
      "Three    20.0\n",
      "Name: b, dtype: float64\n"
     ]
    }
   ],
   "source": [
    "# 定义字典，生成数据\n",
    "d = {'One':pd.Series([1,2,3],index=['a','b','c']),\n",
    "'Two':pd.Series([1,2,3,4],index=['a','b','c','d']),\n",
    "'Three':pd.Series([10,20,30,40],index=['a','b','c','d'])}\n",
    "df = pd.DataFrame(d)\n",
    "print(\"原始df:\")\n",
    "print(df)\n",
    "# 确定标签为b的数据\n",
    "print(\"=======b=======\")\n",
    "print(df.loc['b'])"
   ]
  },
  {
   "cell_type": "markdown",
   "metadata": {},
   "source": [
    "**注意：loc只允许接收两个参数分别是行和列**\n",
    "\n",
    "b行,one列交叉的数据"
   ]
  },
  {
   "cell_type": "code",
   "execution_count": 80,
   "metadata": {},
   "outputs": [
    {
     "data": {
      "text/plain": [
       "2.0"
      ]
     },
     "execution_count": 80,
     "metadata": {},
     "output_type": "execute_result"
    }
   ],
   "source": [
    "df.loc['b','One']"
   ]
  },
  {
   "cell_type": "markdown",
   "metadata": {},
   "source": [
    "**行和列还可以使用切片**"
   ]
  },
  {
   "cell_type": "code",
   "execution_count": 81,
   "metadata": {},
   "outputs": [
    {
     "data": {
      "text/plain": [
       "b    2.0\n",
       "c    3.0\n",
       "d    NaN\n",
       "Name: One, dtype: float64"
      ]
     },
     "execution_count": 81,
     "metadata": {},
     "output_type": "execute_result"
    }
   ],
   "source": [
    "# 标签为b的行到标签为d的行，对应标签为'One'的列\n",
    "df.loc['b':'d','One']"
   ]
  },
  {
   "cell_type": "markdown",
   "metadata": {},
   "source": [
    "**2. 数值型索引和切片**\n",
    "\n",
    "- 使用数值型索引需要使用`iloc`属性\n",
    "\n",
    "直接使用索引，会优先查找的是列标签，如果找不到会报错，列没有位置索引\n",
    "\n",
    "- 可以使用`iloc`: 行基于整数位置的按位置选择索引"
   ]
  },
  {
   "cell_type": "code",
   "execution_count": 82,
   "metadata": {},
   "outputs": [
    {
     "data": {
      "text/html": [
       "<div>\n",
       "<style scoped>\n",
       "    .dataframe tbody tr th:only-of-type {\n",
       "        vertical-align: middle;\n",
       "    }\n",
       "\n",
       "    .dataframe tbody tr th {\n",
       "        vertical-align: top;\n",
       "    }\n",
       "\n",
       "    .dataframe thead th {\n",
       "        text-align: right;\n",
       "    }\n",
       "</style>\n",
       "<table border=\"1\" class=\"dataframe\">\n",
       "  <thead>\n",
       "    <tr style=\"text-align: right;\">\n",
       "      <th></th>\n",
       "      <th>Name</th>\n",
       "      <th>Age</th>\n",
       "    </tr>\n",
       "  </thead>\n",
       "  <tbody>\n",
       "    <tr>\n",
       "      <th>rank1</th>\n",
       "      <td>Hud</td>\n",
       "      <td>24</td>\n",
       "    </tr>\n",
       "    <tr>\n",
       "      <th>rank2</th>\n",
       "      <td>Monica</td>\n",
       "      <td>22</td>\n",
       "    </tr>\n",
       "    <tr>\n",
       "      <th>rank3</th>\n",
       "      <td>Qb</td>\n",
       "      <td>1</td>\n",
       "    </tr>\n",
       "  </tbody>\n",
       "</table>\n",
       "</div>"
      ],
      "text/plain": [
       "         Name  Age\n",
       "rank1     Hud   24\n",
       "rank2  Monica   22\n",
       "rank3      Qb    1"
      ]
     },
     "execution_count": 82,
     "metadata": {},
     "output_type": "execute_result"
    }
   ],
   "source": [
    "data = {'Name':['Hud','Monica','Qb'],'Age':[24,22,1]}\n",
    "# 定义行标签\n",
    "index = ['rank1','rank2','rank3']\n",
    "# 通过字典创建DataFrame\n",
    "df = pd.DataFrame(data,index=index)\n",
    "df"
   ]
  },
  {
   "cell_type": "code",
   "execution_count": 83,
   "metadata": {},
   "outputs": [
    {
     "data": {
      "text/plain": [
       "Name    Qb\n",
       "Age      1\n",
       "Name: rank3, dtype: object"
      ]
     },
     "execution_count": 83,
     "metadata": {},
     "output_type": "execute_result"
    }
   ],
   "source": [
    "# 获得位置索引为2的数据\n",
    "df.iloc[2]"
   ]
  },
  {
   "cell_type": "code",
   "execution_count": 84,
   "metadata": {},
   "outputs": [
    {
     "data": {
      "text/html": [
       "<div>\n",
       "<style scoped>\n",
       "    .dataframe tbody tr th:only-of-type {\n",
       "        vertical-align: middle;\n",
       "    }\n",
       "\n",
       "    .dataframe tbody tr th {\n",
       "        vertical-align: top;\n",
       "    }\n",
       "\n",
       "    .dataframe thead th {\n",
       "        text-align: right;\n",
       "    }\n",
       "</style>\n",
       "<table border=\"1\" class=\"dataframe\">\n",
       "  <thead>\n",
       "    <tr style=\"text-align: right;\">\n",
       "      <th></th>\n",
       "      <th>Name</th>\n",
       "      <th>Age</th>\n",
       "    </tr>\n",
       "  </thead>\n",
       "  <tbody>\n",
       "    <tr>\n",
       "      <th>rank1</th>\n",
       "      <td>Hud</td>\n",
       "      <td>24</td>\n",
       "    </tr>\n",
       "    <tr>\n",
       "      <th>rank3</th>\n",
       "      <td>Qb</td>\n",
       "      <td>1</td>\n",
       "    </tr>\n",
       "  </tbody>\n",
       "</table>\n",
       "</div>"
      ],
      "text/plain": [
       "      Name  Age\n",
       "rank1  Hud   24\n",
       "rank3   Qb    1"
      ]
     },
     "execution_count": 84,
     "metadata": {},
     "output_type": "execute_result"
    }
   ],
   "source": [
    "# 获得位置索引分别为0和2的数据\n",
    "df.iloc[[0,2]]"
   ]
  },
  {
   "cell_type": "code",
   "execution_count": 85,
   "metadata": {},
   "outputs": [
    {
     "data": {
      "text/plain": [
       "24"
      ]
     },
     "execution_count": 85,
     "metadata": {},
     "output_type": "execute_result"
    }
   ],
   "source": [
    "# 表示行索引为0，列索引为1的数据\n",
    "df.iloc[0,1]"
   ]
  },
  {
   "cell_type": "markdown",
   "metadata": {},
   "source": [
    "#### 注意：\n",
    "\n",
    "- loc使用的是标签\n",
    "\n",
    "- iloc使用的是位置索引\n",
    "\n",
    "        \n",
    "**两者不能混用**  "
   ]
  },
  {
   "attachments": {},
   "cell_type": "markdown",
   "metadata": {},
   "source": [
    "**3.添加数据行**\n",
    "\n",
    "使用`append()`函数，可以将新的数据行添加到DataFrame中,该函数会在行末追加数据行\n",
    "\n",
    "***df.append(other,ignore_index=False,verify_integrity=False,sort=False)***\n",
    "\n",
    "将other追加到调用者的末尾，**返回一个新的对象**，\"other\"行中不在调用者中的列将作为新列添加。\n",
    "\n",
    "- other: DataFrame或Series/dict類对象，或这些对象的列表\n",
    "\n",
    "- ignore_index: 默认为False,如果True将不再适用index标签\n",
    "\n",
    "- verify_integrity: 默认为False，如果为True，则在创建具有重复项索引时引发ValueError\n",
    "\n",
    "- sort: 排序"
   ]
  },
  {
   "cell_type": "code",
   "execution_count": 86,
   "metadata": {},
   "outputs": [
    {
     "data": {
      "text/html": [
       "<div>\n",
       "<style scoped>\n",
       "    .dataframe tbody tr th:only-of-type {\n",
       "        vertical-align: middle;\n",
       "    }\n",
       "\n",
       "    .dataframe tbody tr th {\n",
       "        vertical-align: top;\n",
       "    }\n",
       "\n",
       "    .dataframe thead th {\n",
       "        text-align: right;\n",
       "    }\n",
       "</style>\n",
       "<table border=\"1\" class=\"dataframe\">\n",
       "  <thead>\n",
       "    <tr style=\"text-align: right;\">\n",
       "      <th></th>\n",
       "      <th>Name</th>\n",
       "      <th>Age</th>\n",
       "      <th>Tall</th>\n",
       "    </tr>\n",
       "  </thead>\n",
       "  <tbody>\n",
       "    <tr>\n",
       "      <th>a</th>\n",
       "      <td>Hud</td>\n",
       "      <td>24</td>\n",
       "      <td>1.80</td>\n",
       "    </tr>\n",
       "    <tr>\n",
       "      <th>b</th>\n",
       "      <td>Monica</td>\n",
       "      <td>22</td>\n",
       "      <td>1.65</td>\n",
       "    </tr>\n",
       "    <tr>\n",
       "      <th>c</th>\n",
       "      <td>Qb</td>\n",
       "      <td>1</td>\n",
       "      <td>0.40</td>\n",
       "    </tr>\n",
       "  </tbody>\n",
       "</table>\n",
       "</div>"
      ],
      "text/plain": [
       "     Name  Age  Tall\n",
       "a     Hud   24  1.80\n",
       "b  Monica   22  1.65\n",
       "c      Qb    1  0.40"
      ]
     },
     "execution_count": 86,
     "metadata": {},
     "output_type": "execute_result"
    }
   ],
   "source": [
    "data =  {\n",
    "        'Name':['Hud','Monica','Qb'],\n",
    "        'Age':[24,22,1],\n",
    "        'Tall':[1.80,1.65,0.4]\n",
    "}\n",
    "df = pd.DataFrame(data,index=['a','b','c'])\n",
    "df"
   ]
  },
  {
   "cell_type": "code",
   "execution_count": 87,
   "metadata": {},
   "outputs": [
    {
     "data": {
      "text/html": [
       "<div>\n",
       "<style scoped>\n",
       "    .dataframe tbody tr th:only-of-type {\n",
       "        vertical-align: middle;\n",
       "    }\n",
       "\n",
       "    .dataframe tbody tr th {\n",
       "        vertical-align: top;\n",
       "    }\n",
       "\n",
       "    .dataframe thead th {\n",
       "        text-align: right;\n",
       "    }\n",
       "</style>\n",
       "<table border=\"1\" class=\"dataframe\">\n",
       "  <thead>\n",
       "    <tr style=\"text-align: right;\">\n",
       "      <th></th>\n",
       "      <th>Name</th>\n",
       "      <th>Age</th>\n",
       "      <th>Tall</th>\n",
       "    </tr>\n",
       "  </thead>\n",
       "  <tbody>\n",
       "    <tr>\n",
       "      <th>0</th>\n",
       "      <td>Hud</td>\n",
       "      <td>24</td>\n",
       "      <td>1.80</td>\n",
       "    </tr>\n",
       "    <tr>\n",
       "      <th>1</th>\n",
       "      <td>Monica</td>\n",
       "      <td>22</td>\n",
       "      <td>1.65</td>\n",
       "    </tr>\n",
       "    <tr>\n",
       "      <th>2</th>\n",
       "      <td>Qb</td>\n",
       "      <td>1</td>\n",
       "      <td>0.40</td>\n",
       "    </tr>\n",
       "    <tr>\n",
       "      <th>3</th>\n",
       "      <td>SunXX</td>\n",
       "      <td>49</td>\n",
       "      <td>1.63</td>\n",
       "    </tr>\n",
       "  </tbody>\n",
       "</table>\n",
       "</div>"
      ],
      "text/plain": [
       "     Name  Age  Tall\n",
       "0     Hud   24  1.80\n",
       "1  Monica   22  1.65\n",
       "2      Qb    1  0.40\n",
       "3   SunXX   49  1.63"
      ]
     },
     "execution_count": 87,
     "metadata": {},
     "output_type": "execute_result"
    }
   ],
   "source": [
    "d2 = {'Name':\"SunXX\",\"Tall\":1.63,'Age':49}\n",
    "# 在行末追加新的数据行\n",
    "# df3 = df.append(d2) 这里会报错，因为不知道行标签该给什么\n",
    "df3 = df.append(d2,ignore_index=True)\n",
    "df3"
   ]
  },
  {
   "cell_type": "code",
   "execution_count": 88,
   "metadata": {},
   "outputs": [
    {
     "name": "stdout",
     "output_type": "stream",
     "text": [
      "Name     QTY\n",
      "Age       24\n",
      "Tall    1.81\n",
      "Name: d, dtype: object\n",
      "=====================\n",
      "     Name  Age  Tall\n",
      "a     Hud   24  1.80\n",
      "b  Monica   22  1.65\n",
      "c      Qb    1  0.40\n",
      "d     QTY   24  1.81\n"
     ]
    }
   ],
   "source": [
    "# 或者转化为一个series\n",
    "d2 = {\"Name\":\"QTY\",\"Age\":24,\"Tall\":1.81}\n",
    "s = pd.Series(d2,name=\"d\")\n",
    "print(s)\n",
    "# 在行末尾追加新的数据行\n",
    "df3 = df.append(s)\n",
    "print(\"=====================\")\n",
    "print(df3)"
   ]
  },
  {
   "attachments": {},
   "cell_type": "markdown",
   "metadata": {},
   "source": [
    "**2) 追加列表**\n",
    "\n",
    "- 如果list是一维的，则以列的形式追加\n",
    "\n",
    "- 如果list是二维的，则以行的形式追加\n",
    "\n",
    "- 如果list是三维的，只添加一个值\n",
    "\n",
    "\n",
    "\n",
    "\n",
    "\n",
    "\n",
    "\n",
    "      "
   ]
  },
  {
   "attachments": {},
   "cell_type": "markdown",
   "metadata": {},
   "source": [
    "**list 是一维的，则以列的形式追加**"
   ]
  },
  {
   "cell_type": "code",
   "execution_count": 89,
   "metadata": {},
   "outputs": [
    {
     "name": "stdout",
     "output_type": "stream",
     "text": [
      "   0  1  2  3\n",
      "a  1  2  3  4\n",
      "b  5  6  7  8\n",
      "    0    1    2    3\n",
      "a   1  2.0  3.0  4.0\n",
      "b   5  6.0  7.0  8.0\n",
      "0  10  NaN  NaN  NaN\n",
      "1  20  NaN  NaN  NaN\n"
     ]
    }
   ],
   "source": [
    "data = [[1,2,3,4],[5,6,7,8]]\n",
    "df = pd.DataFrame(data,index=['a','b'])\n",
    "print(df)\n",
    "a1 = [10,20]\n",
    "df3 = df.append(a1)\n",
    "print(df3)"
   ]
  },
  {
   "attachments": {},
   "cell_type": "markdown",
   "metadata": {},
   "source": [
    "**追加一个二维的**"
   ]
  },
  {
   "cell_type": "code",
   "execution_count": 90,
   "metadata": {},
   "outputs": [
    {
     "data": {
      "text/html": [
       "<div>\n",
       "<style scoped>\n",
       "    .dataframe tbody tr th:only-of-type {\n",
       "        vertical-align: middle;\n",
       "    }\n",
       "\n",
       "    .dataframe tbody tr th {\n",
       "        vertical-align: top;\n",
       "    }\n",
       "\n",
       "    .dataframe thead th {\n",
       "        text-align: right;\n",
       "    }\n",
       "</style>\n",
       "<table border=\"1\" class=\"dataframe\">\n",
       "  <thead>\n",
       "    <tr style=\"text-align: right;\">\n",
       "      <th></th>\n",
       "      <th>0</th>\n",
       "      <th>1</th>\n",
       "      <th>2</th>\n",
       "      <th>3</th>\n",
       "    </tr>\n",
       "  </thead>\n",
       "  <tbody>\n",
       "    <tr>\n",
       "      <th>0</th>\n",
       "      <td>1</td>\n",
       "      <td>2</td>\n",
       "      <td>3</td>\n",
       "      <td>4.0</td>\n",
       "    </tr>\n",
       "    <tr>\n",
       "      <th>1</th>\n",
       "      <td>5</td>\n",
       "      <td>6</td>\n",
       "      <td>7</td>\n",
       "      <td>8.0</td>\n",
       "    </tr>\n",
       "    <tr>\n",
       "      <th>2</th>\n",
       "      <td>10</td>\n",
       "      <td>20</td>\n",
       "      <td>30</td>\n",
       "      <td>NaN</td>\n",
       "    </tr>\n",
       "  </tbody>\n",
       "</table>\n",
       "</div>"
      ],
      "text/plain": [
       "    0   1   2    3\n",
       "0   1   2   3  4.0\n",
       "1   5   6   7  8.0\n",
       "2  10  20  30  NaN"
      ]
     },
     "execution_count": 90,
     "metadata": {},
     "output_type": "execute_result"
    }
   ],
   "source": [
    "a1 = [[10,\"20\",30]]\n",
    "df4 = df.append(a1,ignore_index=True)\n",
    "df4"
   ]
  },
  {
   "cell_type": "code",
   "execution_count": 91,
   "metadata": {},
   "outputs": [
    {
     "data": {
      "text/html": [
       "<div>\n",
       "<style scoped>\n",
       "    .dataframe tbody tr th:only-of-type {\n",
       "        vertical-align: middle;\n",
       "    }\n",
       "\n",
       "    .dataframe tbody tr th {\n",
       "        vertical-align: top;\n",
       "    }\n",
       "\n",
       "    .dataframe thead th {\n",
       "        text-align: right;\n",
       "    }\n",
       "</style>\n",
       "<table border=\"1\" class=\"dataframe\">\n",
       "  <thead>\n",
       "    <tr style=\"text-align: right;\">\n",
       "      <th></th>\n",
       "      <th>Name</th>\n",
       "      <th>Age</th>\n",
       "      <th>Tall</th>\n",
       "    </tr>\n",
       "  </thead>\n",
       "  <tbody>\n",
       "    <tr>\n",
       "      <th>0</th>\n",
       "      <td>Hud</td>\n",
       "      <td>24</td>\n",
       "      <td>1.80</td>\n",
       "    </tr>\n",
       "    <tr>\n",
       "      <th>1</th>\n",
       "      <td>Monica</td>\n",
       "      <td>22</td>\n",
       "      <td>1.65</td>\n",
       "    </tr>\n",
       "    <tr>\n",
       "      <th>2</th>\n",
       "      <td>Qb</td>\n",
       "      <td>1</td>\n",
       "      <td>0.40</td>\n",
       "    </tr>\n",
       "    <tr>\n",
       "      <th>0</th>\n",
       "      <td>10</td>\n",
       "      <td>20</td>\n",
       "      <td>30.00</td>\n",
       "    </tr>\n",
       "    <tr>\n",
       "      <th>1</th>\n",
       "      <td>2</td>\n",
       "      <td>5</td>\n",
       "      <td>6.00</td>\n",
       "    </tr>\n",
       "  </tbody>\n",
       "</table>\n",
       "</div>"
      ],
      "text/plain": [
       "     Name Age   Tall\n",
       "0     Hud  24   1.80\n",
       "1  Monica  22   1.65\n",
       "2      Qb   1   0.40\n",
       "0      10  20  30.00\n",
       "1       2   5   6.00"
      ]
     },
     "execution_count": 91,
     "metadata": {},
     "output_type": "execute_result"
    }
   ],
   "source": [
    "data =  {\n",
    "        'Name':['Hud','Monica','Qb'],\n",
    "        'Age':[24,22,1],\n",
    "        'Tall':[1.80,1.65,0.4]\n",
    "}\n",
    "df = pd.DataFrame(data)\n",
    "a1 = [[10,\"20\",30],[2,5,6]]\n",
    "df2 = pd.DataFrame(a1,columns=[\"Name\",\"Age\",\"Tall\"])\n",
    "df4 = df.append(df2)\n",
    "df4"
   ]
  },
  {
   "attachments": {},
   "cell_type": "markdown",
   "metadata": {},
   "source": [
    "**追加三维的数据**"
   ]
  },
  {
   "cell_type": "code",
   "execution_count": 92,
   "metadata": {},
   "outputs": [
    {
     "data": {
      "text/html": [
       "<div>\n",
       "<style scoped>\n",
       "    .dataframe tbody tr th:only-of-type {\n",
       "        vertical-align: middle;\n",
       "    }\n",
       "\n",
       "    .dataframe tbody tr th {\n",
       "        vertical-align: top;\n",
       "    }\n",
       "\n",
       "    .dataframe thead th {\n",
       "        text-align: right;\n",
       "    }\n",
       "</style>\n",
       "<table border=\"1\" class=\"dataframe\">\n",
       "  <thead>\n",
       "    <tr style=\"text-align: right;\">\n",
       "      <th></th>\n",
       "      <th>0</th>\n",
       "      <th>1</th>\n",
       "      <th>2</th>\n",
       "      <th>3</th>\n",
       "    </tr>\n",
       "  </thead>\n",
       "  <tbody>\n",
       "    <tr>\n",
       "      <th>a</th>\n",
       "      <td>1</td>\n",
       "      <td>2.0</td>\n",
       "      <td>3.0</td>\n",
       "      <td>4.0</td>\n",
       "    </tr>\n",
       "    <tr>\n",
       "      <th>b</th>\n",
       "      <td>5</td>\n",
       "      <td>6.0</td>\n",
       "      <td>7.0</td>\n",
       "      <td>8.0</td>\n",
       "    </tr>\n",
       "    <tr>\n",
       "      <th>0</th>\n",
       "      <td>[1, 2, 3, 4]</td>\n",
       "      <td>NaN</td>\n",
       "      <td>NaN</td>\n",
       "      <td>NaN</td>\n",
       "    </tr>\n",
       "  </tbody>\n",
       "</table>\n",
       "</div>"
      ],
      "text/plain": [
       "              0    1    2    3\n",
       "a             1  2.0  3.0  4.0\n",
       "b             5  6.0  7.0  8.0\n",
       "0  [1, 2, 3, 4]  NaN  NaN  NaN"
      ]
     },
     "execution_count": 92,
     "metadata": {},
     "output_type": "execute_result"
    }
   ],
   "source": [
    "data = [[1,2,3,4],[5,6,7,8]]\n",
    "df = pd.DataFrame(data,index=['a','b'])\n",
    "s = [[[1,2,3,4]]]\n",
    "df2 = df.append(s)\n",
    "df2"
   ]
  },
  {
   "attachments": {},
   "cell_type": "markdown",
   "metadata": {},
   "source": [
    "**4.刪除数据行**\n",
    "\n",
    "可以使用行索引标签，从DataFrame中删除某一行数据，如果索引标签存在重复，那么他将被一起删除"
   ]
  },
  {
   "cell_type": "code",
   "execution_count": 93,
   "metadata": {},
   "outputs": [
    {
     "name": "stdout",
     "output_type": "stream",
     "text": [
      "============源数据===========\n",
      "   a  b\n",
      "0  1  2\n",
      "1  3  4\n",
      "0  5  6\n",
      "1  7  8\n",
      "============修改后的df1=============\n",
      "   a  b\n",
      "1  3  4\n",
      "1  7  8\n",
      "============源数据df===========\n",
      "   a  b\n",
      "0  1  2\n",
      "1  3  4\n",
      "0  5  6\n",
      "1  7  8\n"
     ]
    }
   ],
   "source": [
    "df1 = pd.DataFrame([[1,2],[3,4]],columns=['a','b'])\n",
    "df2 = pd.DataFrame([[5,6],[7,8]],columns=['a','b'])\n",
    "\n",
    "df = df1.append(df2)\n",
    "print(\"============源数据===========\")\n",
    "print(df)\n",
    "# 这里使用drop方法，drop方法默认不会更改源数据\n",
    "df1 = df.drop(0)\n",
    "print(\"============修改后的df1=============\")\n",
    "print(df1)\n",
    "print(\"============源数据df===========\")\n",
    "print(df)"
   ]
  },
  {
   "cell_type": "code",
   "execution_count": 94,
   "metadata": {},
   "outputs": [
    {
     "data": {
      "text/html": [
       "<div>\n",
       "<style scoped>\n",
       "    .dataframe tbody tr th:only-of-type {\n",
       "        vertical-align: middle;\n",
       "    }\n",
       "\n",
       "    .dataframe tbody tr th {\n",
       "        vertical-align: top;\n",
       "    }\n",
       "\n",
       "    .dataframe thead th {\n",
       "        text-align: right;\n",
       "    }\n",
       "</style>\n",
       "<table border=\"1\" class=\"dataframe\">\n",
       "  <thead>\n",
       "    <tr style=\"text-align: right;\">\n",
       "      <th></th>\n",
       "      <th>Name</th>\n",
       "      <th>Age</th>\n",
       "      <th>Tall</th>\n",
       "    </tr>\n",
       "  </thead>\n",
       "  <tbody>\n",
       "    <tr>\n",
       "      <th>0</th>\n",
       "      <td>Hud</td>\n",
       "      <td>24</td>\n",
       "      <td>1.80</td>\n",
       "    </tr>\n",
       "    <tr>\n",
       "      <th>1</th>\n",
       "      <td>Monica</td>\n",
       "      <td>22</td>\n",
       "      <td>1.65</td>\n",
       "    </tr>\n",
       "    <tr>\n",
       "      <th>2</th>\n",
       "      <td>Qb</td>\n",
       "      <td>1</td>\n",
       "      <td>0.40</td>\n",
       "    </tr>\n",
       "    <tr>\n",
       "      <th>3</th>\n",
       "      <td>QTY</td>\n",
       "      <td>24</td>\n",
       "      <td>1.81</td>\n",
       "    </tr>\n",
       "  </tbody>\n",
       "</table>\n",
       "</div>"
      ],
      "text/plain": [
       "     Name  Age  Tall\n",
       "0     Hud   24  1.80\n",
       "1  Monica   22  1.65\n",
       "2      Qb    1  0.40\n",
       "3     QTY   24  1.81"
      ]
     },
     "execution_count": 94,
     "metadata": {},
     "output_type": "execute_result"
    }
   ],
   "source": [
    "data =  {\n",
    "        'Name':['Hud','Monica','Qb','QTY'],\n",
    "        'Age':[24,22,1,24],\n",
    "        'Tall':[1.80,1.65,0.4,1.81]\n",
    "}\n",
    "df = pd.DataFrame(data)\n",
    "df"
   ]
  },
  {
   "attachments": {},
   "cell_type": "markdown",
   "metadata": {},
   "source": [
    "- **转置**"
   ]
  },
  {
   "cell_type": "code",
   "execution_count": 95,
   "metadata": {},
   "outputs": [
    {
     "data": {
      "text/html": [
       "<div>\n",
       "<style scoped>\n",
       "    .dataframe tbody tr th:only-of-type {\n",
       "        vertical-align: middle;\n",
       "    }\n",
       "\n",
       "    .dataframe tbody tr th {\n",
       "        vertical-align: top;\n",
       "    }\n",
       "\n",
       "    .dataframe thead th {\n",
       "        text-align: right;\n",
       "    }\n",
       "</style>\n",
       "<table border=\"1\" class=\"dataframe\">\n",
       "  <thead>\n",
       "    <tr style=\"text-align: right;\">\n",
       "      <th></th>\n",
       "      <th>0</th>\n",
       "      <th>1</th>\n",
       "      <th>2</th>\n",
       "      <th>3</th>\n",
       "    </tr>\n",
       "  </thead>\n",
       "  <tbody>\n",
       "    <tr>\n",
       "      <th>Name</th>\n",
       "      <td>Hud</td>\n",
       "      <td>Monica</td>\n",
       "      <td>Qb</td>\n",
       "      <td>QTY</td>\n",
       "    </tr>\n",
       "    <tr>\n",
       "      <th>Age</th>\n",
       "      <td>24</td>\n",
       "      <td>22</td>\n",
       "      <td>1</td>\n",
       "      <td>24</td>\n",
       "    </tr>\n",
       "    <tr>\n",
       "      <th>Tall</th>\n",
       "      <td>1.8</td>\n",
       "      <td>1.65</td>\n",
       "      <td>0.4</td>\n",
       "      <td>1.81</td>\n",
       "    </tr>\n",
       "  </tbody>\n",
       "</table>\n",
       "</div>"
      ],
      "text/plain": [
       "        0       1    2     3\n",
       "Name  Hud  Monica   Qb   QTY\n",
       "Age    24      22    1    24\n",
       "Tall  1.8    1.65  0.4  1.81"
      ]
     },
     "execution_count": 95,
     "metadata": {},
     "output_type": "execute_result"
    }
   ],
   "source": [
    "df.T"
   ]
  },
  {
   "attachments": {},
   "cell_type": "markdown",
   "metadata": {},
   "source": [
    "- **axes**\n",
    "\n",
    "返回一个行标签，列标签组成的列表"
   ]
  },
  {
   "cell_type": "code",
   "execution_count": 96,
   "metadata": {},
   "outputs": [
    {
     "data": {
      "text/plain": [
       "[RangeIndex(start=0, stop=4, step=1),\n",
       " Index(['Name', 'Age', 'Tall'], dtype='object')]"
      ]
     },
     "execution_count": 96,
     "metadata": {},
     "output_type": "execute_result"
    }
   ],
   "source": [
    "df.axes"
   ]
  },
  {
   "attachments": {},
   "cell_type": "markdown",
   "metadata": {},
   "source": [
    "- **dtypes**\n",
    "\n",
    "返回Series每一列的数据类型"
   ]
  },
  {
   "cell_type": "code",
   "execution_count": 97,
   "metadata": {},
   "outputs": [
    {
     "data": {
      "text/plain": [
       "Name     object\n",
       "Age       int64\n",
       "Tall    float64\n",
       "dtype: object"
      ]
     },
     "execution_count": 97,
     "metadata": {},
     "output_type": "execute_result"
    }
   ],
   "source": [
    "df.dtypes"
   ]
  },
  {
   "attachments": {},
   "cell_type": "markdown",
   "metadata": {},
   "source": [
    "- **empty**\n",
    "\n",
    "返回一个布尔值，判断输出的数据对象是否为空，若为TRUE表示对象为空"
   ]
  },
  {
   "cell_type": "code",
   "execution_count": 98,
   "metadata": {},
   "outputs": [
    {
     "data": {
      "text/plain": [
       "False"
      ]
     },
     "execution_count": 98,
     "metadata": {},
     "output_type": "execute_result"
    }
   ],
   "source": [
    "df.empty"
   ]
  },
  {
   "cell_type": "code",
   "execution_count": 99,
   "metadata": {},
   "outputs": [
    {
     "data": {
      "text/plain": [
       "True"
      ]
     },
     "execution_count": 99,
     "metadata": {},
     "output_type": "execute_result"
    }
   ],
   "source": [
    "df_empty = pd.DataFrame()\n",
    "df_empty.empty"
   ]
  },
  {
   "attachments": {},
   "cell_type": "markdown",
   "metadata": {},
   "source": [
    "#### **修改标签名**\n",
    "\n",
    "***DataFrame.rename(index=None,columns=None,inplace=False)***\n",
    "\n",
    "- **index**: 修改后的行标签\n",
    "\n",
    "- **columns**: 修改后的列标签\n",
    "\n",
    "- **inplace**: 默认为False,不改变源数据，返回修改后的数据，True则更改源数据"
   ]
  },
  {
   "cell_type": "code",
   "execution_count": 100,
   "metadata": {},
   "outputs": [
    {
     "data": {
      "text/html": [
       "<div>\n",
       "<style scoped>\n",
       "    .dataframe tbody tr th:only-of-type {\n",
       "        vertical-align: middle;\n",
       "    }\n",
       "\n",
       "    .dataframe tbody tr th {\n",
       "        vertical-align: top;\n",
       "    }\n",
       "\n",
       "    .dataframe thead th {\n",
       "        text-align: right;\n",
       "    }\n",
       "</style>\n",
       "<table border=\"1\" class=\"dataframe\">\n",
       "  <thead>\n",
       "    <tr style=\"text-align: right;\">\n",
       "      <th></th>\n",
       "      <th>Name</th>\n",
       "      <th>Age</th>\n",
       "      <th>Tall</th>\n",
       "    </tr>\n",
       "  </thead>\n",
       "  <tbody>\n",
       "    <tr>\n",
       "      <th>0</th>\n",
       "      <td>Hud</td>\n",
       "      <td>24</td>\n",
       "      <td>1.80</td>\n",
       "    </tr>\n",
       "    <tr>\n",
       "      <th>1</th>\n",
       "      <td>Monica</td>\n",
       "      <td>22</td>\n",
       "      <td>1.65</td>\n",
       "    </tr>\n",
       "    <tr>\n",
       "      <th>2</th>\n",
       "      <td>Qb</td>\n",
       "      <td>1</td>\n",
       "      <td>0.40</td>\n",
       "    </tr>\n",
       "    <tr>\n",
       "      <th>3</th>\n",
       "      <td>QTY</td>\n",
       "      <td>24</td>\n",
       "      <td>1.81</td>\n",
       "    </tr>\n",
       "  </tbody>\n",
       "</table>\n",
       "</div>"
      ],
      "text/plain": [
       "     Name  Age  Tall\n",
       "0     Hud   24  1.80\n",
       "1  Monica   22  1.65\n",
       "2      Qb    1  0.40\n",
       "3     QTY   24  1.81"
      ]
     },
     "execution_count": 100,
     "metadata": {},
     "output_type": "execute_result"
    }
   ],
   "source": [
    "df"
   ]
  },
  {
   "cell_type": "code",
   "execution_count": 101,
   "metadata": {},
   "outputs": [
    {
     "data": {
      "text/html": [
       "<div>\n",
       "<style scoped>\n",
       "    .dataframe tbody tr th:only-of-type {\n",
       "        vertical-align: middle;\n",
       "    }\n",
       "\n",
       "    .dataframe tbody tr th {\n",
       "        vertical-align: top;\n",
       "    }\n",
       "\n",
       "    .dataframe thead th {\n",
       "        text-align: right;\n",
       "    }\n",
       "</style>\n",
       "<table border=\"1\" class=\"dataframe\">\n",
       "  <thead>\n",
       "    <tr style=\"text-align: right;\">\n",
       "      <th></th>\n",
       "      <th>Name</th>\n",
       "      <th>Age</th>\n",
       "      <th>Tall</th>\n",
       "    </tr>\n",
       "  </thead>\n",
       "  <tbody>\n",
       "    <tr>\n",
       "      <th>row1</th>\n",
       "      <td>Hud</td>\n",
       "      <td>24</td>\n",
       "      <td>1.80</td>\n",
       "    </tr>\n",
       "    <tr>\n",
       "      <th>row2</th>\n",
       "      <td>Monica</td>\n",
       "      <td>22</td>\n",
       "      <td>1.65</td>\n",
       "    </tr>\n",
       "    <tr>\n",
       "      <th>row3</th>\n",
       "      <td>Qb</td>\n",
       "      <td>1</td>\n",
       "      <td>0.40</td>\n",
       "    </tr>\n",
       "    <tr>\n",
       "      <th>row4</th>\n",
       "      <td>QTY</td>\n",
       "      <td>24</td>\n",
       "      <td>1.81</td>\n",
       "    </tr>\n",
       "  </tbody>\n",
       "</table>\n",
       "</div>"
      ],
      "text/plain": [
       "        Name  Age  Tall\n",
       "row1     Hud   24  1.80\n",
       "row2  Monica   22  1.65\n",
       "row3      Qb    1  0.40\n",
       "row4     QTY   24  1.81"
      ]
     },
     "execution_count": 101,
     "metadata": {},
     "output_type": "execute_result"
    }
   ],
   "source": [
    "# 修改df的行标签\n",
    "df.rename(index={0:\"row1\",1:\"row2\",2:\"row3\",3:\"row4\"})"
   ]
  },
  {
   "cell_type": "code",
   "execution_count": 102,
   "metadata": {},
   "outputs": [
    {
     "data": {
      "text/html": [
       "<div>\n",
       "<style scoped>\n",
       "    .dataframe tbody tr th:only-of-type {\n",
       "        vertical-align: middle;\n",
       "    }\n",
       "\n",
       "    .dataframe tbody tr th {\n",
       "        vertical-align: top;\n",
       "    }\n",
       "\n",
       "    .dataframe thead th {\n",
       "        text-align: right;\n",
       "    }\n",
       "</style>\n",
       "<table border=\"1\" class=\"dataframe\">\n",
       "  <thead>\n",
       "    <tr style=\"text-align: right;\">\n",
       "      <th></th>\n",
       "      <th>姓名</th>\n",
       "      <th>年龄</th>\n",
       "      <th>身高</th>\n",
       "    </tr>\n",
       "  </thead>\n",
       "  <tbody>\n",
       "    <tr>\n",
       "      <th>0</th>\n",
       "      <td>Hud</td>\n",
       "      <td>24</td>\n",
       "      <td>1.80</td>\n",
       "    </tr>\n",
       "    <tr>\n",
       "      <th>1</th>\n",
       "      <td>Monica</td>\n",
       "      <td>22</td>\n",
       "      <td>1.65</td>\n",
       "    </tr>\n",
       "    <tr>\n",
       "      <th>2</th>\n",
       "      <td>Qb</td>\n",
       "      <td>1</td>\n",
       "      <td>0.40</td>\n",
       "    </tr>\n",
       "    <tr>\n",
       "      <th>3</th>\n",
       "      <td>QTY</td>\n",
       "      <td>24</td>\n",
       "      <td>1.81</td>\n",
       "    </tr>\n",
       "  </tbody>\n",
       "</table>\n",
       "</div>"
      ],
      "text/plain": [
       "       姓名  年龄    身高\n",
       "0     Hud  24  1.80\n",
       "1  Monica  22  1.65\n",
       "2      Qb   1  0.40\n",
       "3     QTY  24  1.81"
      ]
     },
     "execution_count": 102,
     "metadata": {},
     "output_type": "execute_result"
    }
   ],
   "source": [
    "# 修改变量df的列标签\n",
    "df.rename(columns={\"Name\":\"姓名\",\"Age\":\"年龄\",\"Tall\":\"身高\"})"
   ]
  },
  {
   "cell_type": "code",
   "execution_count": 103,
   "metadata": {},
   "outputs": [
    {
     "data": {
      "text/html": [
       "<div>\n",
       "<style scoped>\n",
       "    .dataframe tbody tr th:only-of-type {\n",
       "        vertical-align: middle;\n",
       "    }\n",
       "\n",
       "    .dataframe tbody tr th {\n",
       "        vertical-align: top;\n",
       "    }\n",
       "\n",
       "    .dataframe thead th {\n",
       "        text-align: right;\n",
       "    }\n",
       "</style>\n",
       "<table border=\"1\" class=\"dataframe\">\n",
       "  <thead>\n",
       "    <tr style=\"text-align: right;\">\n",
       "      <th></th>\n",
       "      <th>姓名</th>\n",
       "      <th>年龄</th>\n",
       "      <th>身高</th>\n",
       "    </tr>\n",
       "  </thead>\n",
       "  <tbody>\n",
       "    <tr>\n",
       "      <th>row1</th>\n",
       "      <td>Hud</td>\n",
       "      <td>24</td>\n",
       "      <td>1.80</td>\n",
       "    </tr>\n",
       "    <tr>\n",
       "      <th>row2</th>\n",
       "      <td>Monica</td>\n",
       "      <td>22</td>\n",
       "      <td>1.65</td>\n",
       "    </tr>\n",
       "    <tr>\n",
       "      <th>row3</th>\n",
       "      <td>Qb</td>\n",
       "      <td>1</td>\n",
       "      <td>0.40</td>\n",
       "    </tr>\n",
       "    <tr>\n",
       "      <th>row4</th>\n",
       "      <td>QTY</td>\n",
       "      <td>24</td>\n",
       "      <td>1.81</td>\n",
       "    </tr>\n",
       "  </tbody>\n",
       "</table>\n",
       "</div>"
      ],
      "text/plain": [
       "          姓名  年龄    身高\n",
       "row1     Hud  24  1.80\n",
       "row2  Monica  22  1.65\n",
       "row3      Qb   1  0.40\n",
       "row4     QTY  24  1.81"
      ]
     },
     "execution_count": 103,
     "metadata": {},
     "output_type": "execute_result"
    }
   ],
   "source": [
    "# 添加inplace参数，修改源数据\n",
    "df.rename(index={0:\"row1\",1:\"row2\",2:\"row3\",3:\"row4\"},columns={\"Name\":\"姓名\",\"Age\":\"年龄\",\"Tall\":\"身高\"},inplace=True)\n",
    "df"
   ]
  },
  {
   "attachments": {},
   "cell_type": "markdown",
   "metadata": {},
   "source": [
    "#### **Info()函数**\n",
    "\n",
    "用于打印DataFrame的简要摘要，显示有关DataFrame的信息，包括索引的数据类型dtype，非空值的数量和内存使用情况。"
   ]
  },
  {
   "cell_type": "code",
   "execution_count": 104,
   "metadata": {},
   "outputs": [
    {
     "data": {
      "text/html": [
       "<div>\n",
       "<style scoped>\n",
       "    .dataframe tbody tr th:only-of-type {\n",
       "        vertical-align: middle;\n",
       "    }\n",
       "\n",
       "    .dataframe tbody tr th {\n",
       "        vertical-align: top;\n",
       "    }\n",
       "\n",
       "    .dataframe thead th {\n",
       "        text-align: right;\n",
       "    }\n",
       "</style>\n",
       "<table border=\"1\" class=\"dataframe\">\n",
       "  <thead>\n",
       "    <tr style=\"text-align: right;\">\n",
       "      <th></th>\n",
       "      <th>姓名</th>\n",
       "      <th>年龄</th>\n",
       "      <th>身高</th>\n",
       "    </tr>\n",
       "  </thead>\n",
       "  <tbody>\n",
       "    <tr>\n",
       "      <th>0</th>\n",
       "      <td>Hud</td>\n",
       "      <td>24</td>\n",
       "      <td>1.80</td>\n",
       "    </tr>\n",
       "    <tr>\n",
       "      <th>1</th>\n",
       "      <td>Monica</td>\n",
       "      <td>22</td>\n",
       "      <td>1.65</td>\n",
       "    </tr>\n",
       "    <tr>\n",
       "      <th>2</th>\n",
       "      <td>Qb</td>\n",
       "      <td>1</td>\n",
       "      <td>0.40</td>\n",
       "    </tr>\n",
       "    <tr>\n",
       "      <th>3</th>\n",
       "      <td>QTY</td>\n",
       "      <td>24</td>\n",
       "      <td>1.81</td>\n",
       "    </tr>\n",
       "    <tr>\n",
       "      <th>4</th>\n",
       "      <td>Gqc</td>\n",
       "      <td>22</td>\n",
       "      <td>1.65</td>\n",
       "    </tr>\n",
       "  </tbody>\n",
       "</table>\n",
       "</div>"
      ],
      "text/plain": [
       "       姓名  年龄    身高\n",
       "0     Hud  24  1.80\n",
       "1  Monica  22  1.65\n",
       "2      Qb   1  0.40\n",
       "3     QTY  24  1.81\n",
       "4     Gqc  22  1.65"
      ]
     },
     "execution_count": 104,
     "metadata": {},
     "output_type": "execute_result"
    }
   ],
   "source": [
    "# 创建一组数据\n",
    "data =  {\n",
    "        'Name':['Hud','Monica','Qb','QTY'],\n",
    "        'Age':[24,22,1,24],\n",
    "        'Tall':[1.80,1.65,0.4,1.81]\n",
    "}\n",
    "data1 = {\"姓名\":\"Gqc\",\"年龄\":22,\"身高\":1.65}\n",
    "# 将数据追加到df数据中\n",
    "df = df.append(data1,ignore_index=True)\n",
    "df"
   ]
  },
  {
   "cell_type": "code",
   "execution_count": 105,
   "metadata": {},
   "outputs": [
    {
     "name": "stdout",
     "output_type": "stream",
     "text": [
      "<class 'pandas.core.frame.DataFrame'>\n",
      "RangeIndex: 5 entries, 0 to 4\n",
      "Data columns (total 3 columns):\n",
      " #   Column  Non-Null Count  Dtype  \n",
      "---  ------  --------------  -----  \n",
      " 0   姓名      5 non-null      object \n",
      " 1   年龄      5 non-null      int64  \n",
      " 2   身高      5 non-null      float64\n",
      "dtypes: float64(1), int64(1), object(1)\n",
      "memory usage: 248.0+ bytes\n"
     ]
    }
   ],
   "source": [
    "df.info()"
   ]
  },
  {
   "attachments": {},
   "cell_type": "markdown",
   "metadata": {},
   "source": [
    "#### **df.sort_index()**\n",
    "\n",
    "***sort_index(axis=0,ascending=True,inplace=False)***\n",
    "\n",
    "作用: 默认根据行标签对所有行进行排序，或根据列标签对所有列进行排序，或根据指定某列或某几列对行排序。\n",
    "\n",
    "**注意:**df.sort_index()可以完成和df.sort_values()完全相同的功能，但python更推荐只用f.sort_index()进行排序，其他方式使用df.sort_values()。\n",
    "\n",
    "- **axis:** 0按照行名排序,1按照列名排序\n",
    "\n",
    "- **ascending:** 默认True升序排列,False降序排列\n",
    "\n",
    "- **inplace:** 默认False,否则替换源数据"
   ]
  },
  {
   "cell_type": "code",
   "execution_count": 106,
   "metadata": {},
   "outputs": [
    {
     "data": {
      "text/html": [
       "<div>\n",
       "<style scoped>\n",
       "    .dataframe tbody tr th:only-of-type {\n",
       "        vertical-align: middle;\n",
       "    }\n",
       "\n",
       "    .dataframe tbody tr th {\n",
       "        vertical-align: top;\n",
       "    }\n",
       "\n",
       "    .dataframe thead th {\n",
       "        text-align: right;\n",
       "    }\n",
       "</style>\n",
       "<table border=\"1\" class=\"dataframe\">\n",
       "  <thead>\n",
       "    <tr style=\"text-align: right;\">\n",
       "      <th></th>\n",
       "      <th>b</th>\n",
       "      <th>a</th>\n",
       "      <th>c</th>\n",
       "    </tr>\n",
       "  </thead>\n",
       "  <tbody>\n",
       "    <tr>\n",
       "      <th>2</th>\n",
       "      <td>1</td>\n",
       "      <td>4</td>\n",
       "      <td>1</td>\n",
       "    </tr>\n",
       "    <tr>\n",
       "      <th>0</th>\n",
       "      <td>2</td>\n",
       "      <td>3</td>\n",
       "      <td>3</td>\n",
       "    </tr>\n",
       "    <tr>\n",
       "      <th>1</th>\n",
       "      <td>2</td>\n",
       "      <td>2</td>\n",
       "      <td>8</td>\n",
       "    </tr>\n",
       "    <tr>\n",
       "      <th>3</th>\n",
       "      <td>3</td>\n",
       "      <td>1</td>\n",
       "      <td>2</td>\n",
       "    </tr>\n",
       "  </tbody>\n",
       "</table>\n",
       "</div>"
      ],
      "text/plain": [
       "   b  a  c\n",
       "2  1  4  1\n",
       "0  2  3  3\n",
       "1  2  2  8\n",
       "3  3  1  2"
      ]
     },
     "execution_count": 106,
     "metadata": {},
     "output_type": "execute_result"
    }
   ],
   "source": [
    "df = pd.DataFrame({'b':[1,2,2,3],'a':[4,3,2,1],'c':[1,3,8,2]},index=[2,0,1,3])\n",
    "df"
   ]
  },
  {
   "cell_type": "code",
   "execution_count": 107,
   "metadata": {},
   "outputs": [
    {
     "data": {
      "text/html": [
       "<div>\n",
       "<style scoped>\n",
       "    .dataframe tbody tr th:only-of-type {\n",
       "        vertical-align: middle;\n",
       "    }\n",
       "\n",
       "    .dataframe tbody tr th {\n",
       "        vertical-align: top;\n",
       "    }\n",
       "\n",
       "    .dataframe thead th {\n",
       "        text-align: right;\n",
       "    }\n",
       "</style>\n",
       "<table border=\"1\" class=\"dataframe\">\n",
       "  <thead>\n",
       "    <tr style=\"text-align: right;\">\n",
       "      <th></th>\n",
       "      <th>b</th>\n",
       "      <th>a</th>\n",
       "      <th>c</th>\n",
       "    </tr>\n",
       "  </thead>\n",
       "  <tbody>\n",
       "    <tr>\n",
       "      <th>0</th>\n",
       "      <td>2</td>\n",
       "      <td>3</td>\n",
       "      <td>3</td>\n",
       "    </tr>\n",
       "    <tr>\n",
       "      <th>1</th>\n",
       "      <td>2</td>\n",
       "      <td>2</td>\n",
       "      <td>8</td>\n",
       "    </tr>\n",
       "    <tr>\n",
       "      <th>2</th>\n",
       "      <td>1</td>\n",
       "      <td>4</td>\n",
       "      <td>1</td>\n",
       "    </tr>\n",
       "    <tr>\n",
       "      <th>3</th>\n",
       "      <td>3</td>\n",
       "      <td>1</td>\n",
       "      <td>2</td>\n",
       "    </tr>\n",
       "  </tbody>\n",
       "</table>\n",
       "</div>"
      ],
      "text/plain": [
       "   b  a  c\n",
       "0  2  3  3\n",
       "1  2  2  8\n",
       "2  1  4  1\n",
       "3  3  1  2"
      ]
     },
     "execution_count": 107,
     "metadata": {},
     "output_type": "execute_result"
    }
   ],
   "source": [
    "# 默认按“行标签”升序排序\n",
    "df.sort_index()"
   ]
  },
  {
   "cell_type": "code",
   "execution_count": 108,
   "metadata": {},
   "outputs": [
    {
     "data": {
      "text/html": [
       "<div>\n",
       "<style scoped>\n",
       "    .dataframe tbody tr th:only-of-type {\n",
       "        vertical-align: middle;\n",
       "    }\n",
       "\n",
       "    .dataframe tbody tr th {\n",
       "        vertical-align: top;\n",
       "    }\n",
       "\n",
       "    .dataframe thead th {\n",
       "        text-align: right;\n",
       "    }\n",
       "</style>\n",
       "<table border=\"1\" class=\"dataframe\">\n",
       "  <thead>\n",
       "    <tr style=\"text-align: right;\">\n",
       "      <th></th>\n",
       "      <th>a</th>\n",
       "      <th>b</th>\n",
       "      <th>c</th>\n",
       "    </tr>\n",
       "  </thead>\n",
       "  <tbody>\n",
       "    <tr>\n",
       "      <th>2</th>\n",
       "      <td>4</td>\n",
       "      <td>1</td>\n",
       "      <td>1</td>\n",
       "    </tr>\n",
       "    <tr>\n",
       "      <th>0</th>\n",
       "      <td>3</td>\n",
       "      <td>2</td>\n",
       "      <td>3</td>\n",
       "    </tr>\n",
       "    <tr>\n",
       "      <th>1</th>\n",
       "      <td>2</td>\n",
       "      <td>2</td>\n",
       "      <td>8</td>\n",
       "    </tr>\n",
       "    <tr>\n",
       "      <th>3</th>\n",
       "      <td>1</td>\n",
       "      <td>3</td>\n",
       "      <td>2</td>\n",
       "    </tr>\n",
       "  </tbody>\n",
       "</table>\n",
       "</div>"
      ],
      "text/plain": [
       "   a  b  c\n",
       "2  4  1  1\n",
       "0  3  2  3\n",
       "1  2  2  8\n",
       "3  1  3  2"
      ]
     },
     "execution_count": 108,
     "metadata": {},
     "output_type": "execute_result"
    }
   ],
   "source": [
    "# 按列标签升序排序\n",
    "df.sort_index(axis=1)"
   ]
  },
  {
   "attachments": {},
   "cell_type": "markdown",
   "metadata": {},
   "source": [
    "#### **df.sort_values()**\n",
    "\n",
    "***DataFrame.sort_values(by,axis=0,ascending=True,inplace=False,kind='quicksort',na_position='last')***\n",
    "\n",
    "**作用:既可以根据列数据，也可以根据行数据排序**\n",
    "\n",
    "**注意:** 必须指定by参数，即必须指定哪几行、哪几列；无法根据index名和columns名排序(由sort_index()执行)\n",
    "\n",
    "  - by: str or list of str;如果axis=0 那么by='列名';如果axis=1,那么by=\"行名\"\n",
    "\n",
    "  - axis: (0 or 'index',1 or 'columns'),default 0,默认按照列排序，即纵向排序;如果为1,则是横向排序\n",
    "\n",
    "  - ascending: 布尔型，True则升序，如果by=['列名','列名2'],则该参数可以是[True,False],即第一个字段升序,第二个降序\n",
    "\n",
    "  - inplace: 布尔型，是否替换源数据\n",
    "\n",
    "  - na_position:{'first','last'},default 'last',默认缺失值排在最后面。\n"
   ]
  },
  {
   "cell_type": "code",
   "execution_count": 109,
   "metadata": {},
   "outputs": [
    {
     "data": {
      "text/html": [
       "<div>\n",
       "<style scoped>\n",
       "    .dataframe tbody tr th:only-of-type {\n",
       "        vertical-align: middle;\n",
       "    }\n",
       "\n",
       "    .dataframe tbody tr th {\n",
       "        vertical-align: top;\n",
       "    }\n",
       "\n",
       "    .dataframe thead th {\n",
       "        text-align: right;\n",
       "    }\n",
       "</style>\n",
       "<table border=\"1\" class=\"dataframe\">\n",
       "  <thead>\n",
       "    <tr style=\"text-align: right;\">\n",
       "      <th></th>\n",
       "      <th>b</th>\n",
       "      <th>a</th>\n",
       "      <th>c</th>\n",
       "    </tr>\n",
       "  </thead>\n",
       "  <tbody>\n",
       "    <tr>\n",
       "      <th>2</th>\n",
       "      <td>1</td>\n",
       "      <td>4</td>\n",
       "      <td>1</td>\n",
       "    </tr>\n",
       "    <tr>\n",
       "      <th>0</th>\n",
       "      <td>2</td>\n",
       "      <td>3</td>\n",
       "      <td>3</td>\n",
       "    </tr>\n",
       "    <tr>\n",
       "      <th>1</th>\n",
       "      <td>2</td>\n",
       "      <td>2</td>\n",
       "      <td>8</td>\n",
       "    </tr>\n",
       "    <tr>\n",
       "      <th>3</th>\n",
       "      <td>3</td>\n",
       "      <td>1</td>\n",
       "      <td>2</td>\n",
       "    </tr>\n",
       "  </tbody>\n",
       "</table>\n",
       "</div>"
      ],
      "text/plain": [
       "   b  a  c\n",
       "2  1  4  1\n",
       "0  2  3  3\n",
       "1  2  2  8\n",
       "3  3  1  2"
      ]
     },
     "execution_count": 109,
     "metadata": {},
     "output_type": "execute_result"
    }
   ],
   "source": [
    "df"
   ]
  },
  {
   "cell_type": "code",
   "execution_count": 110,
   "metadata": {},
   "outputs": [
    {
     "data": {
      "text/html": [
       "<div>\n",
       "<style scoped>\n",
       "    .dataframe tbody tr th:only-of-type {\n",
       "        vertical-align: middle;\n",
       "    }\n",
       "\n",
       "    .dataframe tbody tr th {\n",
       "        vertical-align: top;\n",
       "    }\n",
       "\n",
       "    .dataframe thead th {\n",
       "        text-align: right;\n",
       "    }\n",
       "</style>\n",
       "<table border=\"1\" class=\"dataframe\">\n",
       "  <thead>\n",
       "    <tr style=\"text-align: right;\">\n",
       "      <th></th>\n",
       "      <th>b</th>\n",
       "      <th>a</th>\n",
       "      <th>c</th>\n",
       "    </tr>\n",
       "  </thead>\n",
       "  <tbody>\n",
       "    <tr>\n",
       "      <th>2</th>\n",
       "      <td>1</td>\n",
       "      <td>4</td>\n",
       "      <td>1</td>\n",
       "    </tr>\n",
       "    <tr>\n",
       "      <th>0</th>\n",
       "      <td>2</td>\n",
       "      <td>3</td>\n",
       "      <td>3</td>\n",
       "    </tr>\n",
       "    <tr>\n",
       "      <th>1</th>\n",
       "      <td>2</td>\n",
       "      <td>2</td>\n",
       "      <td>8</td>\n",
       "    </tr>\n",
       "    <tr>\n",
       "      <th>3</th>\n",
       "      <td>3</td>\n",
       "      <td>1</td>\n",
       "      <td>2</td>\n",
       "    </tr>\n",
       "  </tbody>\n",
       "</table>\n",
       "</div>"
      ],
      "text/plain": [
       "   b  a  c\n",
       "2  1  4  1\n",
       "0  2  3  3\n",
       "1  2  2  8\n",
       "3  3  1  2"
      ]
     },
     "execution_count": 110,
     "metadata": {},
     "output_type": "execute_result"
    }
   ],
   "source": [
    "# 按照b列升序排序\n",
    "df.sort_values(by='b')"
   ]
  },
  {
   "cell_type": "code",
   "execution_count": 111,
   "metadata": {},
   "outputs": [
    {
     "data": {
      "text/html": [
       "<div>\n",
       "<style scoped>\n",
       "    .dataframe tbody tr th:only-of-type {\n",
       "        vertical-align: middle;\n",
       "    }\n",
       "\n",
       "    .dataframe tbody tr th {\n",
       "        vertical-align: top;\n",
       "    }\n",
       "\n",
       "    .dataframe thead th {\n",
       "        text-align: right;\n",
       "    }\n",
       "</style>\n",
       "<table border=\"1\" class=\"dataframe\">\n",
       "  <thead>\n",
       "    <tr style=\"text-align: right;\">\n",
       "      <th></th>\n",
       "      <th>b</th>\n",
       "      <th>a</th>\n",
       "      <th>c</th>\n",
       "    </tr>\n",
       "  </thead>\n",
       "  <tbody>\n",
       "    <tr>\n",
       "      <th>3</th>\n",
       "      <td>3</td>\n",
       "      <td>1</td>\n",
       "      <td>2</td>\n",
       "    </tr>\n",
       "    <tr>\n",
       "      <th>1</th>\n",
       "      <td>2</td>\n",
       "      <td>2</td>\n",
       "      <td>8</td>\n",
       "    </tr>\n",
       "    <tr>\n",
       "      <th>0</th>\n",
       "      <td>2</td>\n",
       "      <td>3</td>\n",
       "      <td>3</td>\n",
       "    </tr>\n",
       "    <tr>\n",
       "      <th>2</th>\n",
       "      <td>1</td>\n",
       "      <td>4</td>\n",
       "      <td>1</td>\n",
       "    </tr>\n",
       "  </tbody>\n",
       "</table>\n",
       "</div>"
      ],
      "text/plain": [
       "   b  a  c\n",
       "3  3  1  2\n",
       "1  2  2  8\n",
       "0  2  3  3\n",
       "2  1  4  1"
      ]
     },
     "execution_count": 111,
     "metadata": {},
     "output_type": "execute_result"
    }
   ],
   "source": [
    "# 先按b列降序，再按a列升序排序\n",
    "df.sort_values(by=['b','a'],ascending=[False,True])"
   ]
  },
  {
   "cell_type": "code",
   "execution_count": 112,
   "metadata": {},
   "outputs": [
    {
     "name": "stdout",
     "output_type": "stream",
     "text": [
      "   b  a  c\n",
      "2  1  4  1\n",
      "0  2  3  3\n",
      "1  2  2  8\n",
      "3  3  1  2\n"
     ]
    },
    {
     "data": {
      "text/html": [
       "<div>\n",
       "<style scoped>\n",
       "    .dataframe tbody tr th:only-of-type {\n",
       "        vertical-align: middle;\n",
       "    }\n",
       "\n",
       "    .dataframe tbody tr th {\n",
       "        vertical-align: top;\n",
       "    }\n",
       "\n",
       "    .dataframe thead th {\n",
       "        text-align: right;\n",
       "    }\n",
       "</style>\n",
       "<table border=\"1\" class=\"dataframe\">\n",
       "  <thead>\n",
       "    <tr style=\"text-align: right;\">\n",
       "      <th></th>\n",
       "      <th>a</th>\n",
       "      <th>c</th>\n",
       "      <th>b</th>\n",
       "    </tr>\n",
       "  </thead>\n",
       "  <tbody>\n",
       "    <tr>\n",
       "      <th>2</th>\n",
       "      <td>4</td>\n",
       "      <td>1</td>\n",
       "      <td>1</td>\n",
       "    </tr>\n",
       "    <tr>\n",
       "      <th>0</th>\n",
       "      <td>3</td>\n",
       "      <td>3</td>\n",
       "      <td>2</td>\n",
       "    </tr>\n",
       "    <tr>\n",
       "      <th>1</th>\n",
       "      <td>2</td>\n",
       "      <td>8</td>\n",
       "      <td>2</td>\n",
       "    </tr>\n",
       "    <tr>\n",
       "      <th>3</th>\n",
       "      <td>1</td>\n",
       "      <td>2</td>\n",
       "      <td>3</td>\n",
       "    </tr>\n",
       "  </tbody>\n",
       "</table>\n",
       "</div>"
      ],
      "text/plain": [
       "   a  c  b\n",
       "2  4  1  1\n",
       "0  3  3  2\n",
       "1  2  8  2\n",
       "3  1  2  3"
      ]
     },
     "execution_count": 112,
     "metadata": {},
     "output_type": "execute_result"
    }
   ],
   "source": [
    "# 按照行3升序排序\n",
    "print(df)\n",
    "df.sort_values(by=3,axis=1) #必须指定axis=1"
   ]
  },
  {
   "cell_type": "code",
   "execution_count": 113,
   "metadata": {},
   "outputs": [
    {
     "data": {
      "text/html": [
       "<div>\n",
       "<style scoped>\n",
       "    .dataframe tbody tr th:only-of-type {\n",
       "        vertical-align: middle;\n",
       "    }\n",
       "\n",
       "    .dataframe tbody tr th {\n",
       "        vertical-align: top;\n",
       "    }\n",
       "\n",
       "    .dataframe thead th {\n",
       "        text-align: right;\n",
       "    }\n",
       "</style>\n",
       "<table border=\"1\" class=\"dataframe\">\n",
       "  <thead>\n",
       "    <tr style=\"text-align: right;\">\n",
       "      <th></th>\n",
       "      <th>a</th>\n",
       "      <th>c</th>\n",
       "      <th>b</th>\n",
       "    </tr>\n",
       "  </thead>\n",
       "  <tbody>\n",
       "    <tr>\n",
       "      <th>2</th>\n",
       "      <td>4</td>\n",
       "      <td>1</td>\n",
       "      <td>1</td>\n",
       "    </tr>\n",
       "    <tr>\n",
       "      <th>0</th>\n",
       "      <td>3</td>\n",
       "      <td>3</td>\n",
       "      <td>2</td>\n",
       "    </tr>\n",
       "    <tr>\n",
       "      <th>1</th>\n",
       "      <td>2</td>\n",
       "      <td>8</td>\n",
       "      <td>2</td>\n",
       "    </tr>\n",
       "    <tr>\n",
       "      <th>3</th>\n",
       "      <td>1</td>\n",
       "      <td>2</td>\n",
       "      <td>3</td>\n",
       "    </tr>\n",
       "  </tbody>\n",
       "</table>\n",
       "</div>"
      ],
      "text/plain": [
       "   a  c  b\n",
       "2  4  1  1\n",
       "0  3  3  2\n",
       "1  2  8  2\n",
       "3  1  2  3"
      ]
     },
     "execution_count": 113,
     "metadata": {},
     "output_type": "execute_result"
    }
   ],
   "source": [
    "# 按行3升序，行0降序排列\n",
    "df.sort_values(by=[3,0],axis=1,ascending=[True,False])"
   ]
  },
  {
   "attachments": {},
   "cell_type": "markdown",
   "metadata": {},
   "source": [
    "### **time模块**\n",
    "\n",
    "不牵扯时区的问题，便于计算\n",
    "\n",
    "- a.timestamp时间戳，时间戳表示的是从1970年1月1日00:00:00开始按秒计算的偏移量\n",
    "\n",
    "- b.struct_time时间元组,共有9个元素组\n",
    "\n",
    "- c.format time格式化时间,已格式化的结构使时间更具有可读性，包括自定义的格式和固定格式\n"
   ]
  },
  {
   "cell_type": "code",
   "execution_count": 1,
   "metadata": {},
   "outputs": [],
   "source": [
    "# 导入time模块\n",
    "import time"
   ]
  },
  {
   "cell_type": "code",
   "execution_count": 115,
   "metadata": {},
   "outputs": [
    {
     "data": {
      "text/plain": [
       "1672111923.4700077"
      ]
     },
     "execution_count": 115,
     "metadata": {},
     "output_type": "execute_result"
    }
   ],
   "source": [
    "# 生成timestamp\n",
    "time.time()"
   ]
  },
  {
   "cell_type": "code",
   "execution_count": 116,
   "metadata": {},
   "outputs": [
    {
     "data": {
      "text/plain": [
       "1672111923"
      ]
     },
     "execution_count": 116,
     "metadata": {},
     "output_type": "execute_result"
    }
   ],
   "source": [
    "int(time.time())"
   ]
  },
  {
   "cell_type": "code",
   "execution_count": 117,
   "metadata": {},
   "outputs": [
    {
     "name": "stdout",
     "output_type": "stream",
     "text": [
      "程序消耗时间 5.049642562866211\n"
     ]
    }
   ],
   "source": [
    "# 程序开始时间\n",
    "start_time = time.time()\n",
    "\n",
    "# 程序\n",
    "s = \"\"\n",
    "for i in range(5):\n",
    "    s += str(i)\n",
    "    # 睡眠1秒\n",
    "    time.sleep(1)\n",
    "end_time=time.time()\n",
    "\n",
    "print(\"程序消耗时间\",end_time-start_time)"
   ]
  },
  {
   "cell_type": "code",
   "execution_count": 118,
   "metadata": {},
   "outputs": [
    {
     "name": "stdout",
     "output_type": "stream",
     "text": [
      "time.struct_time(tm_year=2022, tm_mon=12, tm_mday=27, tm_hour=11, tm_min=32, tm_sec=8, tm_wday=1, tm_yday=361, tm_isdst=0)\n"
     ]
    }
   ],
   "source": [
    "# 生成struct_time\n",
    "my_time = time.localtime()\n",
    "print(my_time)"
   ]
  },
  {
   "cell_type": "code",
   "execution_count": 119,
   "metadata": {},
   "outputs": [
    {
     "name": "stdout",
     "output_type": "stream",
     "text": [
      "年: 2022\n",
      "月: 12\n",
      "日: 27\n"
     ]
    }
   ],
   "source": [
    "print(\"年:\",my_time.tm_year)\n",
    "print(\"月:\",my_time.tm_mon)\n",
    "print(\"日:\",my_time.tm_mday)"
   ]
  },
  {
   "cell_type": "code",
   "execution_count": 2,
   "metadata": {},
   "outputs": [
    {
     "data": {
      "text/plain": [
       "time.struct_time(tm_year=2022, tm_mon=12, tm_mday=20, tm_hour=15, tm_min=16, tm_sec=26, tm_wday=1, tm_yday=354, tm_isdst=0)"
      ]
     },
     "execution_count": 2,
     "metadata": {},
     "output_type": "execute_result"
    }
   ],
   "source": [
    "# 将timestamp转化为struct_time\n",
    "time = time.localtime(1671520586.7540326)\n",
    "time"
   ]
  },
  {
   "cell_type": "code",
   "execution_count": 121,
   "metadata": {},
   "outputs": [
    {
     "data": {
      "text/plain": [
       "time.struct_time(tm_year=2022, tm_mon=6, tm_mday=6, tm_hour=20, tm_min=0, tm_sec=0, tm_wday=0, tm_yday=157, tm_isdst=-1)"
      ]
     },
     "execution_count": 121,
     "metadata": {},
     "output_type": "execute_result"
    }
   ],
   "source": [
    "# 格式化字符串到struct_time\n",
    "time.strptime(\"2022-06-06 20:00:00\",'%Y-%m-%d %X')"
   ]
  },
  {
   "cell_type": "code",
   "execution_count": 122,
   "metadata": {},
   "outputs": [
    {
     "data": {
      "text/plain": [
       "time.struct_time(tm_year=2022, tm_mon=12, tm_mday=27, tm_hour=11, tm_min=32, tm_sec=8, tm_wday=1, tm_yday=361, tm_isdst=0)"
      ]
     },
     "execution_count": 122,
     "metadata": {},
     "output_type": "execute_result"
    }
   ],
   "source": [
    "# 转换为我们能看懂的格式\n",
    "time.localtime(time.time())"
   ]
  },
  {
   "cell_type": "code",
   "execution_count": 123,
   "metadata": {},
   "outputs": [
    {
     "data": {
      "text/plain": [
       "1672111928.9225547"
      ]
     },
     "execution_count": 123,
     "metadata": {},
     "output_type": "execute_result"
    }
   ],
   "source": [
    "time.time()"
   ]
  },
  {
   "cell_type": "code",
   "execution_count": 124,
   "metadata": {},
   "outputs": [
    {
     "data": {
      "text/plain": [
       "'2022-12-27'"
      ]
     },
     "execution_count": 124,
     "metadata": {},
     "output_type": "execute_result"
    }
   ],
   "source": [
    "# 显示当前时间格式化后的时间\n",
    "time.strftime(\"%Y-%m-%d\")"
   ]
  },
  {
   "cell_type": "code",
   "execution_count": 125,
   "metadata": {},
   "outputs": [
    {
     "data": {
      "text/plain": [
       "'2022-12-20'"
      ]
     },
     "execution_count": 125,
     "metadata": {},
     "output_type": "execute_result"
    }
   ],
   "source": [
    "# 显示指定struct_time的时间\n",
    "time.strftime(\"%Y-%m-%d\",time.localtime(1671533586))"
   ]
  },
  {
   "attachments": {},
   "cell_type": "markdown",
   "metadata": {},
   "source": [
    "### datetime模块\n",
    "\n",
    "datetime模块重新封装了time模块，提供更多接口，提供的类有:date,time,datetime,timedelta,tzinfo\n",
    "\n",
    "**1.date类**\n",
    "\n",
    "datetime.date(year,month,day)\n",
    "\n",
    "**静态方法和字段**\n",
    "\n",
    "- date.today():返回一个表示当前本地日期的date对象\n",
    "\n",
    "- date.fromtimestamp(timestamp)根据给定的时间戳，返回一个date对象"
   ]
  },
  {
   "cell_type": "code",
   "execution_count": 3,
   "metadata": {},
   "outputs": [
    {
     "name": "stdout",
     "output_type": "stream",
     "text": [
      "date.today(): 2022-12-29\n",
      "date.fromtimestamp(): 2022-12-29\n"
     ]
    }
   ],
   "source": [
    "from datetime import date\n",
    "import time\n",
    "print(\"date.today():\",date.today())\n",
    "print(\"date.fromtimestamp():\",date.fromtimestamp(time.time()))"
   ]
  },
  {
   "attachments": {},
   "cell_type": "markdown",
   "metadata": {},
   "source": [
    "### 生成时间戳范围\n",
    "\n",
    "有时候，我们可能想生成某个范围内的时间戳，例如，我想要生成\"2018-6-26\"这一天之后的8天的时间戳\n",
    "\n",
    "我们可以使用`date_range`和`bdate_range`来完成时间戳范围的生成\n",
    "\n",
    "- **date_range()返回固定频率的DatetimeIndex**\n",
    "\n",
    "***date_range(start=None,end=None,periods=None,freq=None,tz=None,normalize=False,name=None,closed=None,kwargs)***\n",
    "\n",
    "返回等距时间点的范围(其中任意两个相邻点之间的差值由指定频率指定)，以便他们都满足开始<[=]x<[=]end\n",
    "\n",
    "- start: 生成日期的左边界\n",
    "\n",
    "- end: 生成日期的右边界\n",
    "\n",
    "- periods: 要生成的周期数\n",
    "\n",
    "- freq: 频率，default'D',频率字符串可以有倍数,'5H'\n",
    "\n",
    "- tz: 时区用于返回本地化日期时间索引的时区名称，例如'Asia/Hong_Kong'。默认情况下，生成的DatetimeIndex是时区初始索引。\n",
    "\n",
    "- normalize: 默认False,在生成日期范围之前，将开始/结束日期标准化\n",
    "\n",
    "- name: 默认None 设置返回DatetimeIndex name\n",
    "\n",
    "1. **指定值**\n",
    "  \n",
    "  - 默认是包含开始和结束时间，默认频率使用的D(天)"
   ]
  },
  {
   "cell_type": "code",
   "execution_count": 127,
   "metadata": {},
   "outputs": [
    {
     "data": {
      "text/plain": [
       "DatetimeIndex(['2022-02-19', '2022-02-20', '2022-02-21', '2022-02-22'], dtype='datetime64[ns]', freq='D')"
      ]
     },
     "execution_count": 127,
     "metadata": {},
     "output_type": "execute_result"
    }
   ],
   "source": [
    "pd.date_range(start='19/2/2022',end='22/2/2022')"
   ]
  },
  {
   "cell_type": "code",
   "execution_count": 128,
   "metadata": {},
   "outputs": [
    {
     "data": {
      "text/plain": [
       "DatetimeIndex(['2022-01-01', '2022-01-02', '2022-01-03', '2022-01-04',\n",
       "               '2022-01-05', '2022-01-06', '2022-01-07', '2022-01-08',\n",
       "               '2022-01-09', '2022-01-10',\n",
       "               ...\n",
       "               '2022-12-23', '2022-12-24', '2022-12-25', '2022-12-26',\n",
       "               '2022-12-27', '2022-12-28', '2022-12-29', '2022-12-30',\n",
       "               '2022-12-31', '2023-01-01'],\n",
       "              dtype='datetime64[ns]', length=366, freq='D')"
      ]
     },
     "execution_count": 128,
     "metadata": {},
     "output_type": "execute_result"
    }
   ],
   "source": [
    "pd.date_range(start='2022',end='2023')"
   ]
  },
  {
   "attachments": {},
   "cell_type": "markdown",
   "metadata": {},
   "source": [
    " **2.指定开始时期，设置期间数**"
   ]
  },
  {
   "cell_type": "code",
   "execution_count": 129,
   "metadata": {},
   "outputs": [
    {
     "data": {
      "text/plain": [
       "DatetimeIndex(['2022-01-01', '2022-01-02', '2022-01-03', '2022-01-04',\n",
       "               '2022-01-05', '2022-01-06', '2022-01-07', '2022-01-08',\n",
       "               '2022-01-09', '2022-01-10', '2022-01-11', '2022-01-12',\n",
       "               '2022-01-13', '2022-01-14', '2022-01-15', '2022-01-16',\n",
       "               '2022-01-17', '2022-01-18', '2022-01-19', '2022-01-20',\n",
       "               '2022-01-21', '2022-01-22', '2022-01-23', '2022-01-24',\n",
       "               '2022-01-25', '2022-01-26', '2022-01-27', '2022-01-28',\n",
       "               '2022-01-29', '2022-01-30'],\n",
       "              dtype='datetime64[ns]', freq='D')"
      ]
     },
     "execution_count": 129,
     "metadata": {},
     "output_type": "execute_result"
    }
   ],
   "source": [
    "pd.date_range(start='1/1/2022',periods=30)"
   ]
  },
  {
   "cell_type": "code",
   "execution_count": 130,
   "metadata": {},
   "outputs": [
    {
     "data": {
      "text/plain": [
       "DatetimeIndex(['2022-02-19', '2022-03-05', '2022-03-19'], dtype='datetime64[ns]', freq=None)"
      ]
     },
     "execution_count": 130,
     "metadata": {},
     "output_type": "execute_result"
    }
   ],
   "source": [
    "# 指定开始、结束和期间；频率自动生成(线性间隔)\n",
    "pd.date_range(start='2022-2-19',end='2022-3-19',periods=3)"
   ]
  },
  {
   "attachments": {},
   "cell_type": "markdown",
   "metadata": {},
   "source": [
    "| freq        | 描述                                                    |\n",
    "| ----------- | ------------------------------------------------------- |\n",
    "| Y           | 年                                                      |\n",
    "| M           | 月                                                      |\n",
    "| D           | 天(默认)                                                |\n",
    "| T(MIN)      | 分钟                                                    |\n",
    "| S           | 秒                                                      |\n",
    "| L           | 毫秒                                                    |\n",
    "| U           | 微秒                                                    |\n",
    "| A-DEC       | 每年指定月份的最后一个日历日                            |\n",
    "| W-MON       | 指定每月的哪个星期开始                                  |\n",
    "| WOM_2MON    | 指定每几个月的第几个星期(这里是第二个星期)              |\n",
    "| Q-DEC(Q-月) | 指定月为季度末，每个季度末最后一月的最后一个日历日      |\n",
    "| B.(M,Q,A),S | 分别代表了工作日,(以月/季度/年为频率)最接近月初的那一天 |\n",
    "| B           | 工作日                                                  |"
   ]
  },
  {
   "cell_type": "code",
   "execution_count": 131,
   "metadata": {},
   "outputs": [
    {
     "data": {
      "text/plain": [
       "DatetimeIndex(['2022-12-05', '2022-12-12', '2022-12-19', '2022-12-26'], dtype='datetime64[ns]', freq='W-MON')"
      ]
     },
     "execution_count": 131,
     "metadata": {},
     "output_type": "execute_result"
    }
   ],
   "source": [
    "# W-MON:从指定星期几开始算起，每周\n",
    "pd.date_range('2022/12/1','2022/12/26',freq='W-MON')"
   ]
  },
  {
   "cell_type": "code",
   "execution_count": 132,
   "metadata": {},
   "outputs": [
    {
     "data": {
      "text/plain": [
       "DatetimeIndex(['2022-12-13'], dtype='datetime64[ns]', freq='WOM-2TUE')"
      ]
     },
     "execution_count": 132,
     "metadata": {},
     "output_type": "execute_result"
    }
   ],
   "source": [
    "# WOM-2MON：每月的第几个星期几开始算，这里是每月的第二个星期二\n",
    "pd.date_range('2022/12/1','2022/12/26',freq='WOM-2TUE')"
   ]
  },
  {
   "cell_type": "code",
   "execution_count": 133,
   "metadata": {},
   "outputs": [
    {
     "data": {
      "text/plain": [
       "DatetimeIndex(['2022-12-01', '2022-12-02', '2022-12-03', '2022-12-04',\n",
       "               '2022-12-05', '2022-12-06', '2022-12-07', '2022-12-08',\n",
       "               '2022-12-09', '2022-12-10', '2022-12-11', '2022-12-12',\n",
       "               '2022-12-13', '2022-12-14', '2022-12-15', '2022-12-16',\n",
       "               '2022-12-17', '2022-12-18', '2022-12-19', '2022-12-20',\n",
       "               '2022-12-21', '2022-12-22', '2022-12-23', '2022-12-24',\n",
       "               '2022-12-25', '2022-12-26'],\n",
       "              dtype='datetime64[ns]', freq='D')"
      ]
     },
     "execution_count": 133,
     "metadata": {},
     "output_type": "execute_result"
    }
   ],
   "source": [
    "# 默认freq='D'，每个日历日\n",
    "pd.date_range('2022/12/1','2022/12/26')"
   ]
  },
  {
   "cell_type": "code",
   "execution_count": 134,
   "metadata": {},
   "outputs": [
    {
     "data": {
      "text/plain": [
       "DatetimeIndex(['2022-12-01', '2022-12-02', '2022-12-05', '2022-12-06',\n",
       "               '2022-12-07', '2022-12-08', '2022-12-09', '2022-12-12',\n",
       "               '2022-12-13', '2022-12-14', '2022-12-15', '2022-12-16',\n",
       "               '2022-12-19', '2022-12-20', '2022-12-21', '2022-12-22',\n",
       "               '2022-12-23', '2022-12-26', '2022-12-27', '2022-12-28',\n",
       "               '2022-12-29', '2022-12-30'],\n",
       "              dtype='datetime64[ns]', freq='B')"
      ]
     },
     "execution_count": 134,
     "metadata": {},
     "output_type": "execute_result"
    }
   ],
   "source": [
    "# 每个工作日\n",
    "pd.date_range('2022/12/1','2022/12/31',freq='B')"
   ]
  },
  {
   "cell_type": "code",
   "execution_count": 135,
   "metadata": {},
   "outputs": [
    {
     "data": {
      "text/plain": [
       "DatetimeIndex(['2022-12-01 00:00:00', '2022-12-01 01:00:00',\n",
       "               '2022-12-01 02:00:00', '2022-12-01 03:00:00',\n",
       "               '2022-12-01 04:00:00', '2022-12-01 05:00:00',\n",
       "               '2022-12-01 06:00:00', '2022-12-01 07:00:00',\n",
       "               '2022-12-01 08:00:00', '2022-12-01 09:00:00',\n",
       "               '2022-12-01 10:00:00', '2022-12-01 11:00:00',\n",
       "               '2022-12-01 12:00:00', '2022-12-01 13:00:00',\n",
       "               '2022-12-01 14:00:00', '2022-12-01 15:00:00',\n",
       "               '2022-12-01 16:00:00', '2022-12-01 17:00:00',\n",
       "               '2022-12-01 18:00:00', '2022-12-01 19:00:00',\n",
       "               '2022-12-01 20:00:00', '2022-12-01 21:00:00',\n",
       "               '2022-12-01 22:00:00', '2022-12-01 23:00:00',\n",
       "               '2022-12-02 00:00:00'],\n",
       "              dtype='datetime64[ns]', freq='H')"
      ]
     },
     "execution_count": 135,
     "metadata": {},
     "output_type": "execute_result"
    }
   ],
   "source": [
    "# 每小时\n",
    "pd.date_range('2022/12/1','2022/12/2',freq='H')"
   ]
  },
  {
   "cell_type": "code",
   "execution_count": 136,
   "metadata": {},
   "outputs": [
    {
     "data": {
      "text/plain": [
       "DatetimeIndex(['2022-01-01 12:00:00', '2022-01-01 12:01:00',\n",
       "               '2022-01-01 12:02:00', '2022-01-01 12:03:00',\n",
       "               '2022-01-01 12:04:00', '2022-01-01 12:05:00',\n",
       "               '2022-01-01 12:06:00', '2022-01-01 12:07:00',\n",
       "               '2022-01-01 12:08:00', '2022-01-01 12:09:00',\n",
       "               '2022-01-01 12:10:00'],\n",
       "              dtype='datetime64[ns]', freq='T')"
      ]
     },
     "execution_count": 136,
     "metadata": {},
     "output_type": "execute_result"
    }
   ],
   "source": [
    "# 每分钟\n",
    "pd.date_range('2022/1/1 12:00','2022/1/1 12:10',freq='T')"
   ]
  },
  {
   "cell_type": "code",
   "execution_count": 137,
   "metadata": {},
   "outputs": [
    {
     "data": {
      "text/plain": [
       "DatetimeIndex(['2022-01-01 12:00:00', '2022-01-01 12:00:01',\n",
       "               '2022-01-01 12:00:02', '2022-01-01 12:00:03',\n",
       "               '2022-01-01 12:00:04', '2022-01-01 12:00:05',\n",
       "               '2022-01-01 12:00:06', '2022-01-01 12:00:07',\n",
       "               '2022-01-01 12:00:08', '2022-01-01 12:00:09',\n",
       "               '2022-01-01 12:00:10'],\n",
       "              dtype='datetime64[ns]', freq='S')"
      ]
     },
     "execution_count": 137,
     "metadata": {},
     "output_type": "execute_result"
    }
   ],
   "source": [
    "# 每秒\n",
    "pd.date_range('2022/1/1 12:00:00','2022/1/1 12:00:10',freq='S')"
   ]
  },
  {
   "cell_type": "code",
   "execution_count": 138,
   "metadata": {},
   "outputs": [
    {
     "data": {
      "text/plain": [
       "DatetimeIndex([       '2022-01-01 12:00:00', '2022-01-01 12:00:00.001000',\n",
       "               '2022-01-01 12:00:00.002000', '2022-01-01 12:00:00.003000',\n",
       "               '2022-01-01 12:00:00.004000', '2022-01-01 12:00:00.005000',\n",
       "               '2022-01-01 12:00:00.006000', '2022-01-01 12:00:00.007000',\n",
       "               '2022-01-01 12:00:00.008000', '2022-01-01 12:00:00.009000',\n",
       "               ...\n",
       "               '2022-01-01 12:10:00.991000', '2022-01-01 12:10:00.992000',\n",
       "               '2022-01-01 12:10:00.993000', '2022-01-01 12:10:00.994000',\n",
       "               '2022-01-01 12:10:00.995000', '2022-01-01 12:10:00.996000',\n",
       "               '2022-01-01 12:10:00.997000', '2022-01-01 12:10:00.998000',\n",
       "               '2022-01-01 12:10:00.999000',        '2022-01-01 12:10:01'],\n",
       "              dtype='datetime64[ns]', length=601001, freq='L')"
      ]
     },
     "execution_count": 138,
     "metadata": {},
     "output_type": "execute_result"
    }
   ],
   "source": [
    "# 每毫秒\n",
    "pd.date_range('2022/1/1 12:00:00','2022/1/1 12:10:01',freq='L')"
   ]
  },
  {
   "cell_type": "code",
   "execution_count": 139,
   "metadata": {},
   "outputs": [
    {
     "data": {
      "text/plain": [
       "DatetimeIndex([       '2022-01-01 12:00:00', '2022-01-01 12:00:00.000001',\n",
       "               '2022-01-01 12:00:00.000002', '2022-01-01 12:00:00.000003',\n",
       "               '2022-01-01 12:00:00.000004', '2022-01-01 12:00:00.000005',\n",
       "               '2022-01-01 12:00:00.000006', '2022-01-01 12:00:00.000007',\n",
       "               '2022-01-01 12:00:00.000008', '2022-01-01 12:00:00.000009',\n",
       "               ...\n",
       "               '2022-01-01 12:10:00.999991', '2022-01-01 12:10:00.999992',\n",
       "               '2022-01-01 12:10:00.999993', '2022-01-01 12:10:00.999994',\n",
       "               '2022-01-01 12:10:00.999995', '2022-01-01 12:10:00.999996',\n",
       "               '2022-01-01 12:10:00.999997', '2022-01-01 12:10:00.999998',\n",
       "               '2022-01-01 12:10:00.999999',        '2022-01-01 12:10:01'],\n",
       "              dtype='datetime64[ns]', length=601000001, freq='U')"
      ]
     },
     "execution_count": 139,
     "metadata": {},
     "output_type": "execute_result"
    }
   ],
   "source": [
    "# 每微秒\n",
    "pd.date_range('2022/1/1 12:00:00','2022/1/1 12:10:01',freq='U')"
   ]
  },
  {
   "cell_type": "code",
   "execution_count": 140,
   "metadata": {},
   "outputs": [
    {
     "data": {
      "text/plain": [
       "DatetimeIndex(['2022-01-31', '2022-02-28', '2022-03-31', '2022-04-30',\n",
       "               '2022-05-31', '2022-06-30', '2022-07-31', '2022-08-31',\n",
       "               '2022-09-30', '2022-10-31', '2022-11-30', '2022-12-31'],\n",
       "              dtype='datetime64[ns]', freq='M')"
      ]
     },
     "execution_count": 140,
     "metadata": {},
     "output_type": "execute_result"
    }
   ],
   "source": [
    "# M:每月最后一个日历日\n",
    "pd.date_range('2022','2023',freq='M')"
   ]
  },
  {
   "cell_type": "code",
   "execution_count": 141,
   "metadata": {},
   "outputs": [
    {
     "name": "stdout",
     "output_type": "stream",
     "text": [
      "DatetimeIndex(['2022-03-31', '2022-06-30', '2022-09-30', '2022-12-31'], dtype='datetime64[ns]', freq='Q-DEC')\n"
     ]
    }
   ],
   "source": [
    "# Q-月:指定月为季度末，每个季度末最后一月的最后一个日历日\n",
    "print(pd.date_range('2022','2023',freq='Q-DEC'))"
   ]
  },
  {
   "cell_type": "code",
   "execution_count": 142,
   "metadata": {},
   "outputs": [
    {
     "name": "stdout",
     "output_type": "stream",
     "text": [
      "DatetimeIndex(['2022-01-31'], dtype='datetime64[ns]', freq='A-JAN')\n"
     ]
    }
   ],
   "source": [
    "# A-月:每年指定月份的最后一个日历日\n",
    "print(pd.date_range('2022','2023',freq='A-JAN'))"
   ]
  },
  {
   "cell_type": "code",
   "execution_count": 143,
   "metadata": {},
   "outputs": [
    {
     "data": {
      "text/plain": [
       "DatetimeIndex(['2022-01-31', '2022-02-28', '2022-03-31', '2022-04-29',\n",
       "               '2022-05-31', '2022-06-30', '2022-07-29', '2022-08-31',\n",
       "               '2022-09-30', '2022-10-31', '2022-11-30', '2022-12-30'],\n",
       "              dtype='datetime64[ns]', freq='BM')"
      ]
     },
     "execution_count": 143,
     "metadata": {},
     "output_type": "execute_result"
    }
   ],
   "source": [
    "# B,(M,Q,A),S-->分别代表了工作日(以月/季度/年为频率) BM:每月最后一个工作日\n",
    "pd.date_range('2022','2023',freq='BM')"
   ]
  },
  {
   "cell_type": "code",
   "execution_count": 144,
   "metadata": {},
   "outputs": [
    {
     "name": "stdout",
     "output_type": "stream",
     "text": [
      "DatetimeIndex(['2022-01-01', '2022-01-08', '2022-01-15', '2022-01-22',\n",
      "               '2022-01-29'],\n",
      "              dtype='datetime64[ns]', freq='7D')\n",
      "DatetimeIndex(['2022-01-01 00:00:00', '2022-01-01 02:30:00',\n",
      "               '2022-01-01 05:00:00', '2022-01-01 07:30:00',\n",
      "               '2022-01-01 10:00:00', '2022-01-01 12:30:00',\n",
      "               '2022-01-01 15:00:00', '2022-01-01 17:30:00',\n",
      "               '2022-01-01 20:00:00', '2022-01-01 22:30:00'],\n",
      "              dtype='datetime64[ns]', freq='150T')\n",
      "DatetimeIndex(['2022-01-31', '2022-03-31', '2022-05-31', '2022-07-31',\n",
      "               '2022-09-30', '2022-11-30'],\n",
      "              dtype='datetime64[ns]', freq='2M')\n"
     ]
    }
   ],
   "source": [
    "# pd.date_range():日期范围,复合频率\n",
    "print(pd.date_range('2022/1/1','2022/2/1',freq='7D'))  #间隔7天\n",
    "print(pd.date_range('2022/1/1','2022/1/2',freq='2h30min'))  #间隔2h30min\n",
    "print(pd.date_range('2022','2023',freq='2M'))   # 间隔两个月 每个月的最后一天\n"
   ]
  },
  {
   "attachments": {},
   "cell_type": "markdown",
   "metadata": {},
   "source": [
    "**3.normalize: 在生成日期范围之前,将开始/结束日期标准化**"
   ]
  },
  {
   "cell_type": "code",
   "execution_count": 145,
   "metadata": {},
   "outputs": [
    {
     "data": {
      "text/plain": [
       "DatetimeIndex(['2021-01-01 15:30:00', '2021-01-02 15:30:00',\n",
       "               '2021-01-03 15:30:00', '2021-01-04 15:30:00',\n",
       "               '2021-01-05 15:30:00', '2021-01-06 15:30:00',\n",
       "               '2021-01-07 15:30:00', '2021-01-08 15:30:00',\n",
       "               '2021-01-09 15:30:00', '2021-01-10 15:30:00'],\n",
       "              dtype='datetime64[ns]', freq='D')"
      ]
     },
     "execution_count": 145,
     "metadata": {},
     "output_type": "execute_result"
    }
   ],
   "source": [
    "pd.date_range(start='1/1/2021 15:30',periods=10)"
   ]
  },
  {
   "cell_type": "code",
   "execution_count": 146,
   "metadata": {},
   "outputs": [
    {
     "data": {
      "text/plain": [
       "DatetimeIndex(['2021-01-01', '2021-01-02', '2021-01-03', '2021-01-04',\n",
       "               '2021-01-05', '2021-01-06', '2021-01-07', '2021-01-08',\n",
       "               '2021-01-09', '2021-01-10'],\n",
       "              dtype='datetime64[ns]', name='mypd', freq='D')"
      ]
     },
     "execution_count": 146,
     "metadata": {},
     "output_type": "execute_result"
    }
   ],
   "source": [
    "pd.date_range(start='1/1/2021 15:30',periods=10,name='mypd',normalize=True)"
   ]
  },
  {
   "cell_type": "code",
   "execution_count": 147,
   "metadata": {},
   "outputs": [
    {
     "data": {
      "text/plain": [
       "DatetimeIndex(['2021-01-01 15:30:00', '2021-01-01 16:30:00',\n",
       "               '2021-01-01 17:30:00', '2021-01-01 18:30:00',\n",
       "               '2021-01-01 19:30:00', '2021-01-01 20:30:00',\n",
       "               '2021-01-01 21:30:00', '2021-01-01 22:30:00',\n",
       "               '2021-01-01 23:30:00', '2021-01-02 00:30:00'],\n",
       "              dtype='datetime64[ns]', name='mypd', freq='H')"
      ]
     },
     "execution_count": 147,
     "metadata": {},
     "output_type": "execute_result"
    }
   ],
   "source": [
    "pd.date_range(start='1/1/2021 15:30',periods=10,name='mypd',freq='H')"
   ]
  },
  {
   "cell_type": "code",
   "execution_count": 148,
   "metadata": {},
   "outputs": [
    {
     "data": {
      "text/plain": [
       "DatetimeIndex(['2021-01-01 00:00:00', '2021-01-01 01:00:00',\n",
       "               '2021-01-01 02:00:00', '2021-01-01 03:00:00',\n",
       "               '2021-01-01 04:00:00', '2021-01-01 05:00:00',\n",
       "               '2021-01-01 06:00:00', '2021-01-01 07:00:00',\n",
       "               '2021-01-01 08:00:00', '2021-01-01 09:00:00'],\n",
       "              dtype='datetime64[ns]', name='mypd', freq='H')"
      ]
     },
     "execution_count": 148,
     "metadata": {},
     "output_type": "execute_result"
    }
   ],
   "source": [
    "pd.date_range(start='1/1/2021 15:30',periods=10,name='mypd',freq='H',normalize=True)"
   ]
  },
  {
   "cell_type": "code",
   "execution_count": 149,
   "metadata": {},
   "outputs": [
    {
     "data": {
      "text/plain": [
       "DatetimeIndex(['2022-01-01', '2022-01-02', '2022-01-03', '2022-01-04',\n",
       "               '2022-01-05', '2022-01-06', '2022-01-07', '2022-01-08'],\n",
       "              dtype='datetime64[ns]', freq='D')"
      ]
     },
     "execution_count": 149,
     "metadata": {},
     "output_type": "execute_result"
    }
   ],
   "source": [
    "#closed 包含left还是right 默认start和right都包含\n",
    "pd.date_range(start='1/1/2022',end='1/08/2022')"
   ]
  },
  {
   "cell_type": "code",
   "execution_count": 150,
   "metadata": {},
   "outputs": [
    {
     "data": {
      "text/plain": [
       "DatetimeIndex(['2022-01-01', '2022-01-02', '2022-01-03', '2022-01-04',\n",
       "               '2022-01-05', '2022-01-06', '2022-01-07'],\n",
       "              dtype='datetime64[ns]', freq='D')"
      ]
     },
     "execution_count": 150,
     "metadata": {},
     "output_type": "execute_result"
    }
   ],
   "source": [
    "pd.date_range(start='1/1/2022',end='1/08/2022',closed='left')"
   ]
  },
  {
   "attachments": {},
   "cell_type": "markdown",
   "metadata": {},
   "source": [
    "***bdate_range(start=None,end=None,periods=None,freq='B')***\n",
    "\n",
    "返回固定频率的DatetimeIndex，默认频率为工作日"
   ]
  },
  {
   "cell_type": "code",
   "execution_count": 151,
   "metadata": {},
   "outputs": [
    {
     "data": {
      "text/plain": [
       "DatetimeIndex(['2022-06-01', '2022-06-02', '2022-06-03', '2022-06-06',\n",
       "               '2022-06-07', '2022-06-08', '2022-06-09', '2022-06-10',\n",
       "               '2022-06-13', '2022-06-14', '2022-06-15', '2022-06-16',\n",
       "               '2022-06-17', '2022-06-20'],\n",
       "              dtype='datetime64[ns]', freq='B')"
      ]
     },
     "execution_count": 151,
     "metadata": {},
     "output_type": "execute_result"
    }
   ],
   "source": [
    "pd.bdate_range(start='2022-6-1',end='2022-6-20')"
   ]
  },
  {
   "attachments": {},
   "cell_type": "markdown",
   "metadata": {},
   "source": [
    "**4.时期频率转换**\n",
    "\n",
    "***asfreq(freq,method=None,how=None,normalize=False,fill_value=None)***\n",
    "\n",
    "将时间序列转换为指定的频率\n",
    "\n",
    "- 如果此数据帧的索引是PeriodIndex,则新索引是使用PeriodIndex转换原始索引的结果\n",
    "\n",
    "- 否则,新指数相当于pd,date_range(start,end,freq=freq),其中start和end分别是原始索引中的第一个和最后一个条目\n",
    "\n",
    "- 与新索引中未出现在原始索引的任何时间同步对应的值将为空(NaN)，除非提供了填充此类未知值的方法\n"
   ]
  },
  {
   "cell_type": "code",
   "execution_count": 152,
   "metadata": {},
   "outputs": [
    {
     "name": "stdout",
     "output_type": "stream",
     "text": [
      "2022-01-01    0.073814\n",
      "2022-01-02    0.010846\n",
      "2022-01-03    0.999061\n",
      "2022-01-04    0.373579\n",
      "Freq: D, dtype: float64\n"
     ]
    }
   ],
   "source": [
    "# asfrq: 时期频率转换\n",
    "\n",
    "ts = pd.Series(np.random.rand(4),index=pd.date_range('20220101','20220104'))\n",
    "print(ts)"
   ]
  },
  {
   "cell_type": "code",
   "execution_count": 153,
   "metadata": {},
   "outputs": [
    {
     "data": {
      "text/plain": [
       "2022-01-01 00:00:00    0.073814\n",
       "2022-01-01 04:00:00         NaN\n",
       "2022-01-01 08:00:00         NaN\n",
       "2022-01-01 12:00:00         NaN\n",
       "2022-01-01 16:00:00         NaN\n",
       "2022-01-01 20:00:00         NaN\n",
       "2022-01-02 00:00:00    0.010846\n",
       "2022-01-02 04:00:00         NaN\n",
       "2022-01-02 08:00:00         NaN\n",
       "2022-01-02 12:00:00         NaN\n",
       "2022-01-02 16:00:00         NaN\n",
       "2022-01-02 20:00:00         NaN\n",
       "2022-01-03 00:00:00    0.999061\n",
       "2022-01-03 04:00:00         NaN\n",
       "2022-01-03 08:00:00         NaN\n",
       "2022-01-03 12:00:00         NaN\n",
       "2022-01-03 16:00:00         NaN\n",
       "2022-01-03 20:00:00         NaN\n",
       "2022-01-04 00:00:00    0.373579\n",
       "Freq: 4H, dtype: float64"
      ]
     },
     "execution_count": 153,
     "metadata": {},
     "output_type": "execute_result"
    }
   ],
   "source": [
    "ts.asfreq('4H')"
   ]
  },
  {
   "cell_type": "code",
   "execution_count": 154,
   "metadata": {},
   "outputs": [
    {
     "data": {
      "text/plain": [
       "2022-01-01 00:00:00    0.073814\n",
       "2022-01-01 04:00:00    0.073814\n",
       "2022-01-01 08:00:00    0.073814\n",
       "2022-01-01 12:00:00    0.073814\n",
       "2022-01-01 16:00:00    0.073814\n",
       "2022-01-01 20:00:00    0.073814\n",
       "2022-01-02 00:00:00    0.010846\n",
       "2022-01-02 04:00:00    0.010846\n",
       "2022-01-02 08:00:00    0.010846\n",
       "2022-01-02 12:00:00    0.010846\n",
       "2022-01-02 16:00:00    0.010846\n",
       "2022-01-02 20:00:00    0.010846\n",
       "2022-01-03 00:00:00    0.999061\n",
       "2022-01-03 04:00:00    0.999061\n",
       "2022-01-03 08:00:00    0.999061\n",
       "2022-01-03 12:00:00    0.999061\n",
       "2022-01-03 16:00:00    0.999061\n",
       "2022-01-03 20:00:00    0.999061\n",
       "2022-01-04 00:00:00    0.373579\n",
       "Freq: 4H, dtype: float64"
      ]
     },
     "execution_count": 154,
     "metadata": {},
     "output_type": "execute_result"
    }
   ],
   "source": [
    "ts.asfreq('4H',method='ffill')"
   ]
  },
  {
   "cell_type": "code",
   "execution_count": 155,
   "metadata": {},
   "outputs": [
    {
     "data": {
      "text/plain": [
       "2022-01-01 00:00:00    0.073814\n",
       "2022-01-01 04:00:00    0.010846\n",
       "2022-01-01 08:00:00    0.010846\n",
       "2022-01-01 12:00:00    0.010846\n",
       "2022-01-01 16:00:00    0.010846\n",
       "2022-01-01 20:00:00    0.010846\n",
       "2022-01-02 00:00:00    0.010846\n",
       "2022-01-02 04:00:00    0.999061\n",
       "2022-01-02 08:00:00    0.999061\n",
       "2022-01-02 12:00:00    0.999061\n",
       "2022-01-02 16:00:00    0.999061\n",
       "2022-01-02 20:00:00    0.999061\n",
       "2022-01-03 00:00:00    0.999061\n",
       "2022-01-03 04:00:00    0.373579\n",
       "2022-01-03 08:00:00    0.373579\n",
       "2022-01-03 12:00:00    0.373579\n",
       "2022-01-03 16:00:00    0.373579\n",
       "2022-01-03 20:00:00    0.373579\n",
       "2022-01-04 00:00:00    0.373579\n",
       "Freq: 4H, dtype: float64"
      ]
     },
     "execution_count": 155,
     "metadata": {},
     "output_type": "execute_result"
    }
   ],
   "source": [
    "ts.asfreq('4H',method='bfill')"
   ]
  },
  {
   "attachments": {},
   "cell_type": "markdown",
   "metadata": {},
   "source": [
    "**5.shift()-时间频率进行位移**\n",
    "\n",
    "***shift(periods=1,freq=None,axis=0,fill-value=None)***\n",
    "\n",
    "按所需的时段数和可选的时间频率进行移位索引。\n",
    "\n",
    "如果未传递`freq`，则在不重新调整数据的情况下移动索引，如果传递了freq(在这种情况下，索引必须是date或者datetime，否则会引发NOtimplementedError)，只要在索引中设置了freq或推断的_freq属性，就可以推断freq\n",
    "\n",
    "- periods:要转换的时段数，可以是正面的也可以是负面的\n",
    "\n",
    "- freq: 如果指定了freq，则索引值会位移，但数据不会重新对齐，也就是说，如果要在移动时扩展索引并保留原始数据\n",
    "\n",
    "- axis:{0 or 'index',1 or 'columns'}转换方向\n",
    "\n",
    "- fill_value: 填充值"
   ]
  },
  {
   "cell_type": "code",
   "execution_count": 166,
   "metadata": {},
   "outputs": [
    {
     "data": {
      "text/html": [
       "<div>\n",
       "<style scoped>\n",
       "    .dataframe tbody tr th:only-of-type {\n",
       "        vertical-align: middle;\n",
       "    }\n",
       "\n",
       "    .dataframe tbody tr th {\n",
       "        vertical-align: top;\n",
       "    }\n",
       "\n",
       "    .dataframe thead th {\n",
       "        text-align: right;\n",
       "    }\n",
       "</style>\n",
       "<table border=\"1\" class=\"dataframe\">\n",
       "  <thead>\n",
       "    <tr style=\"text-align: right;\">\n",
       "      <th></th>\n",
       "      <th>A</th>\n",
       "      <th>B</th>\n",
       "      <th>C</th>\n",
       "      <th>D</th>\n",
       "    </tr>\n",
       "  </thead>\n",
       "  <tbody>\n",
       "    <tr>\n",
       "      <th>2022-12-24</th>\n",
       "      <td>0.633317</td>\n",
       "      <td>0.501079</td>\n",
       "      <td>0.387190</td>\n",
       "      <td>0.623127</td>\n",
       "    </tr>\n",
       "    <tr>\n",
       "      <th>2022-12-25</th>\n",
       "      <td>0.074382</td>\n",
       "      <td>0.886531</td>\n",
       "      <td>0.435037</td>\n",
       "      <td>0.059872</td>\n",
       "    </tr>\n",
       "    <tr>\n",
       "      <th>2022-12-26</th>\n",
       "      <td>0.576288</td>\n",
       "      <td>0.929858</td>\n",
       "      <td>0.206699</td>\n",
       "      <td>0.830161</td>\n",
       "    </tr>\n",
       "    <tr>\n",
       "      <th>2022-12-27</th>\n",
       "      <td>0.739472</td>\n",
       "      <td>0.228800</td>\n",
       "      <td>0.686617</td>\n",
       "      <td>0.690406</td>\n",
       "    </tr>\n",
       "  </tbody>\n",
       "</table>\n",
       "</div>"
      ],
      "text/plain": [
       "                   A         B         C         D\n",
       "2022-12-24  0.633317  0.501079  0.387190  0.623127\n",
       "2022-12-25  0.074382  0.886531  0.435037  0.059872\n",
       "2022-12-26  0.576288  0.929858  0.206699  0.830161\n",
       "2022-12-27  0.739472  0.228800  0.686617  0.690406"
      ]
     },
     "execution_count": 166,
     "metadata": {},
     "output_type": "execute_result"
    }
   ],
   "source": [
    "import numpy as np\n",
    "df = pd.DataFrame(np.random.rand(16).reshape((4,4)),\n",
    "                  index=pd.date_range('20221224','20221227'),\n",
    "                  columns=list('ABCD'))\n",
    "df"
   ]
  },
  {
   "cell_type": "code",
   "execution_count": 167,
   "metadata": {},
   "outputs": [
    {
     "data": {
      "text/html": [
       "<div>\n",
       "<style scoped>\n",
       "    .dataframe tbody tr th:only-of-type {\n",
       "        vertical-align: middle;\n",
       "    }\n",
       "\n",
       "    .dataframe tbody tr th {\n",
       "        vertical-align: top;\n",
       "    }\n",
       "\n",
       "    .dataframe thead th {\n",
       "        text-align: right;\n",
       "    }\n",
       "</style>\n",
       "<table border=\"1\" class=\"dataframe\">\n",
       "  <thead>\n",
       "    <tr style=\"text-align: right;\">\n",
       "      <th></th>\n",
       "      <th>A</th>\n",
       "      <th>B</th>\n",
       "      <th>C</th>\n",
       "      <th>D</th>\n",
       "    </tr>\n",
       "  </thead>\n",
       "  <tbody>\n",
       "    <tr>\n",
       "      <th>2022-12-24</th>\n",
       "      <td>NaN</td>\n",
       "      <td>NaN</td>\n",
       "      <td>NaN</td>\n",
       "      <td>NaN</td>\n",
       "    </tr>\n",
       "    <tr>\n",
       "      <th>2022-12-25</th>\n",
       "      <td>NaN</td>\n",
       "      <td>NaN</td>\n",
       "      <td>NaN</td>\n",
       "      <td>NaN</td>\n",
       "    </tr>\n",
       "    <tr>\n",
       "      <th>2022-12-26</th>\n",
       "      <td>0.633317</td>\n",
       "      <td>0.501079</td>\n",
       "      <td>0.387190</td>\n",
       "      <td>0.623127</td>\n",
       "    </tr>\n",
       "    <tr>\n",
       "      <th>2022-12-27</th>\n",
       "      <td>0.074382</td>\n",
       "      <td>0.886531</td>\n",
       "      <td>0.435037</td>\n",
       "      <td>0.059872</td>\n",
       "    </tr>\n",
       "  </tbody>\n",
       "</table>\n",
       "</div>"
      ],
      "text/plain": [
       "                   A         B         C         D\n",
       "2022-12-24       NaN       NaN       NaN       NaN\n",
       "2022-12-25       NaN       NaN       NaN       NaN\n",
       "2022-12-26  0.633317  0.501079  0.387190  0.623127\n",
       "2022-12-27  0.074382  0.886531  0.435037  0.059872"
      ]
     },
     "execution_count": 167,
     "metadata": {},
     "output_type": "execute_result"
    }
   ],
   "source": [
    "# 正数，数值后移(滞后),模式为行\n",
    "df.shift(periods=2)"
   ]
  },
  {
   "cell_type": "code",
   "execution_count": 168,
   "metadata": {},
   "outputs": [
    {
     "data": {
      "text/html": [
       "<div>\n",
       "<style scoped>\n",
       "    .dataframe tbody tr th:only-of-type {\n",
       "        vertical-align: middle;\n",
       "    }\n",
       "\n",
       "    .dataframe tbody tr th {\n",
       "        vertical-align: top;\n",
       "    }\n",
       "\n",
       "    .dataframe thead th {\n",
       "        text-align: right;\n",
       "    }\n",
       "</style>\n",
       "<table border=\"1\" class=\"dataframe\">\n",
       "  <thead>\n",
       "    <tr style=\"text-align: right;\">\n",
       "      <th></th>\n",
       "      <th>A</th>\n",
       "      <th>B</th>\n",
       "      <th>C</th>\n",
       "      <th>D</th>\n",
       "    </tr>\n",
       "  </thead>\n",
       "  <tbody>\n",
       "    <tr>\n",
       "      <th>2022-12-24</th>\n",
       "      <td>NaN</td>\n",
       "      <td>0.633317</td>\n",
       "      <td>0.501079</td>\n",
       "      <td>0.387190</td>\n",
       "    </tr>\n",
       "    <tr>\n",
       "      <th>2022-12-25</th>\n",
       "      <td>NaN</td>\n",
       "      <td>0.074382</td>\n",
       "      <td>0.886531</td>\n",
       "      <td>0.435037</td>\n",
       "    </tr>\n",
       "    <tr>\n",
       "      <th>2022-12-26</th>\n",
       "      <td>NaN</td>\n",
       "      <td>0.576288</td>\n",
       "      <td>0.929858</td>\n",
       "      <td>0.206699</td>\n",
       "    </tr>\n",
       "    <tr>\n",
       "      <th>2022-12-27</th>\n",
       "      <td>NaN</td>\n",
       "      <td>0.739472</td>\n",
       "      <td>0.228800</td>\n",
       "      <td>0.686617</td>\n",
       "    </tr>\n",
       "  </tbody>\n",
       "</table>\n",
       "</div>"
      ],
      "text/plain": [
       "             A         B         C         D\n",
       "2022-12-24 NaN  0.633317  0.501079  0.387190\n",
       "2022-12-25 NaN  0.074382  0.886531  0.435037\n",
       "2022-12-26 NaN  0.576288  0.929858  0.206699\n",
       "2022-12-27 NaN  0.739472  0.228800  0.686617"
      ]
     },
     "execution_count": 168,
     "metadata": {},
     "output_type": "execute_result"
    }
   ],
   "source": [
    "# 正数，数值后移(滞后),模式为列\n",
    "df.shift(periods=1,axis='columns')"
   ]
  },
  {
   "cell_type": "code",
   "execution_count": 170,
   "metadata": {},
   "outputs": [
    {
     "data": {
      "text/html": [
       "<div>\n",
       "<style scoped>\n",
       "    .dataframe tbody tr th:only-of-type {\n",
       "        vertical-align: middle;\n",
       "    }\n",
       "\n",
       "    .dataframe tbody tr th {\n",
       "        vertical-align: top;\n",
       "    }\n",
       "\n",
       "    .dataframe thead th {\n",
       "        text-align: right;\n",
       "    }\n",
       "</style>\n",
       "<table border=\"1\" class=\"dataframe\">\n",
       "  <thead>\n",
       "    <tr style=\"text-align: right;\">\n",
       "      <th></th>\n",
       "      <th>A</th>\n",
       "      <th>B</th>\n",
       "      <th>C</th>\n",
       "      <th>D</th>\n",
       "    </tr>\n",
       "  </thead>\n",
       "  <tbody>\n",
       "    <tr>\n",
       "      <th>2022-12-24</th>\n",
       "      <td>0.000000</td>\n",
       "      <td>0.000000</td>\n",
       "      <td>0.000000</td>\n",
       "      <td>0.000000</td>\n",
       "    </tr>\n",
       "    <tr>\n",
       "      <th>2022-12-25</th>\n",
       "      <td>0.000000</td>\n",
       "      <td>0.000000</td>\n",
       "      <td>0.000000</td>\n",
       "      <td>0.000000</td>\n",
       "    </tr>\n",
       "    <tr>\n",
       "      <th>2022-12-26</th>\n",
       "      <td>0.633317</td>\n",
       "      <td>0.501079</td>\n",
       "      <td>0.387190</td>\n",
       "      <td>0.623127</td>\n",
       "    </tr>\n",
       "    <tr>\n",
       "      <th>2022-12-27</th>\n",
       "      <td>0.074382</td>\n",
       "      <td>0.886531</td>\n",
       "      <td>0.435037</td>\n",
       "      <td>0.059872</td>\n",
       "    </tr>\n",
       "  </tbody>\n",
       "</table>\n",
       "</div>"
      ],
      "text/plain": [
       "                   A         B         C         D\n",
       "2022-12-24  0.000000  0.000000  0.000000  0.000000\n",
       "2022-12-25  0.000000  0.000000  0.000000  0.000000\n",
       "2022-12-26  0.633317  0.501079  0.387190  0.623127\n",
       "2022-12-27  0.074382  0.886531  0.435037  0.059872"
      ]
     },
     "execution_count": 170,
     "metadata": {},
     "output_type": "execute_result"
    }
   ],
   "source": [
    "# 正数，数值后移(滞后),NaN填充为0\n",
    "df.shift(periods=2,fill_value=0)"
   ]
  },
  {
   "cell_type": "code",
   "execution_count": 172,
   "metadata": {},
   "outputs": [
    {
     "data": {
      "text/html": [
       "<div>\n",
       "<style scoped>\n",
       "    .dataframe tbody tr th:only-of-type {\n",
       "        vertical-align: middle;\n",
       "    }\n",
       "\n",
       "    .dataframe tbody tr th {\n",
       "        vertical-align: top;\n",
       "    }\n",
       "\n",
       "    .dataframe thead th {\n",
       "        text-align: right;\n",
       "    }\n",
       "</style>\n",
       "<table border=\"1\" class=\"dataframe\">\n",
       "  <thead>\n",
       "    <tr style=\"text-align: right;\">\n",
       "      <th></th>\n",
       "      <th>A</th>\n",
       "      <th>B</th>\n",
       "      <th>C</th>\n",
       "      <th>D</th>\n",
       "    </tr>\n",
       "  </thead>\n",
       "  <tbody>\n",
       "    <tr>\n",
       "      <th>2022-12-25</th>\n",
       "      <td>0.633317</td>\n",
       "      <td>0.501079</td>\n",
       "      <td>0.387190</td>\n",
       "      <td>0.623127</td>\n",
       "    </tr>\n",
       "    <tr>\n",
       "      <th>2022-12-26</th>\n",
       "      <td>0.074382</td>\n",
       "      <td>0.886531</td>\n",
       "      <td>0.435037</td>\n",
       "      <td>0.059872</td>\n",
       "    </tr>\n",
       "    <tr>\n",
       "      <th>2022-12-27</th>\n",
       "      <td>0.576288</td>\n",
       "      <td>0.929858</td>\n",
       "      <td>0.206699</td>\n",
       "      <td>0.830161</td>\n",
       "    </tr>\n",
       "    <tr>\n",
       "      <th>2022-12-28</th>\n",
       "      <td>0.739472</td>\n",
       "      <td>0.228800</td>\n",
       "      <td>0.686617</td>\n",
       "      <td>0.690406</td>\n",
       "    </tr>\n",
       "  </tbody>\n",
       "</table>\n",
       "</div>"
      ],
      "text/plain": [
       "                   A         B         C         D\n",
       "2022-12-25  0.633317  0.501079  0.387190  0.623127\n",
       "2022-12-26  0.074382  0.886531  0.435037  0.059872\n",
       "2022-12-27  0.576288  0.929858  0.206699  0.830161\n",
       "2022-12-28  0.739472  0.228800  0.686617  0.690406"
      ]
     },
     "execution_count": 172,
     "metadata": {},
     "output_type": "execute_result"
    }
   ],
   "source": [
    "# 当设置freq时 对时间索引移动\n",
    "df.shift(periods=1,freq='D')"
   ]
  },
  {
   "cell_type": "code",
   "execution_count": 173,
   "metadata": {},
   "outputs": [
    {
     "data": {
      "text/html": [
       "<div>\n",
       "<style scoped>\n",
       "    .dataframe tbody tr th:only-of-type {\n",
       "        vertical-align: middle;\n",
       "    }\n",
       "\n",
       "    .dataframe tbody tr th {\n",
       "        vertical-align: top;\n",
       "    }\n",
       "\n",
       "    .dataframe thead th {\n",
       "        text-align: right;\n",
       "    }\n",
       "</style>\n",
       "<table border=\"1\" class=\"dataframe\">\n",
       "  <thead>\n",
       "    <tr style=\"text-align: right;\">\n",
       "      <th></th>\n",
       "      <th>A</th>\n",
       "      <th>B</th>\n",
       "      <th>C</th>\n",
       "      <th>D</th>\n",
       "    </tr>\n",
       "  </thead>\n",
       "  <tbody>\n",
       "    <tr>\n",
       "      <th>2022-12-24</th>\n",
       "      <td>NaN</td>\n",
       "      <td>NaN</td>\n",
       "      <td>NaN</td>\n",
       "      <td>NaN</td>\n",
       "    </tr>\n",
       "    <tr>\n",
       "      <th>2022-12-25</th>\n",
       "      <td>0.633317</td>\n",
       "      <td>0.501079</td>\n",
       "      <td>0.387190</td>\n",
       "      <td>0.623127</td>\n",
       "    </tr>\n",
       "    <tr>\n",
       "      <th>2022-12-26</th>\n",
       "      <td>0.074382</td>\n",
       "      <td>0.886531</td>\n",
       "      <td>0.435037</td>\n",
       "      <td>0.059872</td>\n",
       "    </tr>\n",
       "    <tr>\n",
       "      <th>2022-12-27</th>\n",
       "      <td>0.576288</td>\n",
       "      <td>0.929858</td>\n",
       "      <td>0.206699</td>\n",
       "      <td>0.830161</td>\n",
       "    </tr>\n",
       "  </tbody>\n",
       "</table>\n",
       "</div>"
      ],
      "text/plain": [
       "                   A         B         C         D\n",
       "2022-12-24       NaN       NaN       NaN       NaN\n",
       "2022-12-25  0.633317  0.501079  0.387190  0.623127\n",
       "2022-12-26  0.074382  0.886531  0.435037  0.059872\n",
       "2022-12-27  0.576288  0.929858  0.206699  0.830161"
      ]
     },
     "execution_count": 173,
     "metadata": {},
     "output_type": "execute_result"
    }
   ],
   "source": [
    "df.shift(1)"
   ]
  },
  {
   "cell_type": "code",
   "execution_count": 174,
   "metadata": {},
   "outputs": [
    {
     "name": "stdout",
     "output_type": "stream",
     "text": [
      "                   A         B         C          D\n",
      "2022-12-24       NaN       NaN       NaN        NaN\n",
      "2022-12-25 -0.882551  0.769245  0.123575  -0.903917\n",
      "2022-12-26  6.747636  0.048872 -0.524870  12.865681\n",
      "2022-12-27  0.283163 -0.753941  2.321820  -0.168347\n"
     ]
    }
   ],
   "source": [
    "# 计算变化百分比，这里计算:该时间戳与上一个时间戳相比，变化百分比\n",
    "per = df/df.shift(1) -1\n",
    "print(per)"
   ]
  },
  {
   "attachments": {},
   "cell_type": "markdown",
   "metadata": {},
   "source": [
    "**6.Pandas时期:Period()**"
   ]
  },
  {
   "cell_type": "code",
   "execution_count": 175,
   "metadata": {},
   "outputs": [
    {
     "data": {
      "text/plain": [
       "Period('2022', 'A-DEC')"
      ]
     },
     "execution_count": 175,
     "metadata": {},
     "output_type": "execute_result"
    }
   ],
   "source": [
    "p= pd.Period('2022')\n",
    "p"
   ]
  },
  {
   "cell_type": "code",
   "execution_count": 176,
   "metadata": {},
   "outputs": [
    {
     "data": {
      "text/plain": [
       "Period('2022-01', 'M')"
      ]
     },
     "execution_count": 176,
     "metadata": {},
     "output_type": "execute_result"
    }
   ],
   "source": [
    "p= pd.Period('2022',freq=\"M\")\n",
    "p"
   ]
  },
  {
   "attachments": {},
   "cell_type": "markdown",
   "metadata": {},
   "source": [
    "- 通过加减正数可以实现对Period的移动"
   ]
  },
  {
   "cell_type": "code",
   "execution_count": 177,
   "metadata": {},
   "outputs": [
    {
     "name": "stdout",
     "output_type": "stream",
     "text": [
      "2022-02\n",
      "2021-12\n"
     ]
    }
   ],
   "source": [
    "print(p+1)\n",
    "print(p-1)"
   ]
  },
  {
   "attachments": {},
   "cell_type": "markdown",
   "metadata": {},
   "source": [
    "- 如果两个Period对象拥有相同的频率,则他们的差就是他们之间的单位数量"
   ]
  },
  {
   "cell_type": "code",
   "execution_count": 178,
   "metadata": {},
   "outputs": [
    {
     "name": "stdout",
     "output_type": "stream",
     "text": [
      "2022-01 <class 'pandas._libs.tslibs.period.Period'>\n"
     ]
    }
   ],
   "source": [
    "p = pd.Period('2022-1',freq='M')\n",
    "print(p,type(p))"
   ]
  },
  {
   "cell_type": "code",
   "execution_count": 179,
   "metadata": {},
   "outputs": [
    {
     "data": {
      "text/plain": [
       "<22 * MonthEnds>"
      ]
     },
     "execution_count": 179,
     "metadata": {},
     "output_type": "execute_result"
    }
   ],
   "source": [
    "pd.Period('2023-11',freq='M') - p"
   ]
  },
  {
   "attachments": {},
   "cell_type": "markdown",
   "metadata": {},
   "source": [
    "**period_range()函数可以用来创建规则的时期范围**"
   ]
  },
  {
   "cell_type": "code",
   "execution_count": 180,
   "metadata": {},
   "outputs": [
    {
     "data": {
      "text/plain": [
       "PeriodIndex(['2022-06-01', '2022-06-02', '2022-06-03', '2022-06-04',\n",
       "             '2022-06-05', '2022-06-06', '2022-06-07', '2022-06-08',\n",
       "             '2022-06-09', '2022-06-10',\n",
       "             ...\n",
       "             '2022-11-22', '2022-11-23', '2022-11-24', '2022-11-25',\n",
       "             '2022-11-26', '2022-11-27', '2022-11-28', '2022-11-29',\n",
       "             '2022-11-30', '2022-12-01'],\n",
       "            dtype='period[D]', length=184, freq='D')"
      ]
     },
     "execution_count": 180,
     "metadata": {},
     "output_type": "execute_result"
    }
   ],
   "source": [
    "rng=pd.period_range('2022/6/1','2022/12/1')\n",
    "rng"
   ]
  },
  {
   "attachments": {},
   "cell_type": "markdown",
   "metadata": {},
   "source": [
    "**PeriodIndex类的构造函数允许直接使用一组字符串表示一段时期**"
   ]
  },
  {
   "cell_type": "code",
   "execution_count": 181,
   "metadata": {},
   "outputs": [
    {
     "data": {
      "text/plain": [
       "PeriodIndex(['2001-03', '2001-04', '2001-05'], dtype='period[M]', freq='M')"
      ]
     },
     "execution_count": 181,
     "metadata": {},
     "output_type": "execute_result"
    }
   ],
   "source": [
    "values=['200103','200104','200105']\n",
    "# 必须指定freq\n",
    "index = pd.PeriodIndex(values,freq='M')\n",
    "index"
   ]
  },
  {
   "attachments": {},
   "cell_type": "markdown",
   "metadata": {},
   "source": [
    "**时间戳与时期之间的转化:pd.to_period(),pd.to_timestamp()**"
   ]
  },
  {
   "cell_type": "code",
   "execution_count": 183,
   "metadata": {},
   "outputs": [
    {
     "name": "stdout",
     "output_type": "stream",
     "text": [
      "DatetimeIndex(['2022-01-31', '2022-02-28', '2022-03-31', '2022-04-30',\n",
      "               '2022-05-31', '2022-06-30', '2022-07-31', '2022-08-31',\n",
      "               '2022-09-30', '2022-10-31'],\n",
      "              dtype='datetime64[ns]', freq='M')\n",
      "PeriodIndex(['2017-01', '2017-02', '2017-03', '2017-04', '2017-05', '2017-06',\n",
      "             '2017-07', '2017-08', '2017-09', '2017-10', '2017-11', '2017-12',\n",
      "             '2018-01'],\n",
      "            dtype='period[M]', freq='M')\n"
     ]
    }
   ],
   "source": [
    "rng = pd.date_range('2022/1/1',periods=10,freq='M')\n",
    "prng = pd.period_range('2017','2018',freq='M')\n",
    "print(rng)\n",
    "print(prng)"
   ]
  },
  {
   "cell_type": "code",
   "execution_count": 184,
   "metadata": {},
   "outputs": [
    {
     "data": {
      "text/plain": [
       "2022-01-31    0.925281\n",
       "2022-02-28    0.831780\n",
       "2022-03-31    0.073456\n",
       "2022-04-30    0.546475\n",
       "2022-05-31    0.861212\n",
       "2022-06-30    0.377043\n",
       "2022-07-31    0.836996\n",
       "2022-08-31    0.497833\n",
       "2022-09-30    0.473045\n",
       "2022-10-31    0.726608\n",
       "Freq: M, dtype: float64"
      ]
     },
     "execution_count": 184,
     "metadata": {},
     "output_type": "execute_result"
    }
   ],
   "source": [
    "ts1 = pd.Series(np.random.rand(len(rng)),index=rng)\n",
    "ts1"
   ]
  },
  {
   "cell_type": "code",
   "execution_count": 185,
   "metadata": {},
   "outputs": [
    {
     "data": {
      "text/plain": [
       "2022-01    0.925281\n",
       "2022-02    0.831780\n",
       "2022-03    0.073456\n",
       "2022-04    0.546475\n",
       "2022-05    0.861212\n",
       "Freq: M, dtype: float64"
      ]
     },
     "execution_count": 185,
     "metadata": {},
     "output_type": "execute_result"
    }
   ],
   "source": [
    "# 每月的最后一日，转换为每月\n",
    "ts1.to_period().head()"
   ]
  },
  {
   "cell_type": "code",
   "execution_count": 187,
   "metadata": {},
   "outputs": [
    {
     "data": {
      "text/plain": [
       "2022-01    0.925281\n",
       "2022-02    0.831780\n",
       "2022-03    0.073456\n",
       "2022-04    0.546475\n",
       "2022-05    0.861212\n",
       "2022-06    0.377043\n",
       "2022-07    0.836996\n",
       "2022-08    0.497833\n",
       "2022-09    0.473045\n",
       "2022-10    0.726608\n",
       "Freq: M, dtype: float64"
      ]
     },
     "execution_count": 187,
     "metadata": {},
     "output_type": "execute_result"
    }
   ],
   "source": [
    "ts1.to_period('M')"
   ]
  },
  {
   "cell_type": "code",
   "execution_count": 2,
   "metadata": {},
   "outputs": [
    {
     "ename": "NameError",
     "evalue": "name 'prng' is not defined",
     "output_type": "error",
     "traceback": [
      "\u001b[1;31m---------------------------------------------------------------------------\u001b[0m",
      "\u001b[1;31mNameError\u001b[0m                                 Traceback (most recent call last)",
      "\u001b[1;32m<ipython-input-2-969a9932ea78>\u001b[0m in \u001b[0;36m<module>\u001b[1;34m\u001b[0m\n\u001b[1;32m----> 1\u001b[1;33m \u001b[0mts2\u001b[0m \u001b[1;33m=\u001b[0m \u001b[0mpd\u001b[0m\u001b[1;33m.\u001b[0m\u001b[0mSeries\u001b[0m\u001b[1;33m(\u001b[0m\u001b[0mnp\u001b[0m\u001b[1;33m.\u001b[0m\u001b[0mrandom\u001b[0m\u001b[1;33m.\u001b[0m\u001b[0mrand\u001b[0m\u001b[1;33m(\u001b[0m\u001b[0mlen\u001b[0m\u001b[1;33m(\u001b[0m\u001b[0mprng\u001b[0m\u001b[1;33m)\u001b[0m\u001b[1;33m)\u001b[0m\u001b[1;33m,\u001b[0m\u001b[0mindex\u001b[0m\u001b[1;33m=\u001b[0m\u001b[0mprng\u001b[0m\u001b[1;33m)\u001b[0m\u001b[1;33m\u001b[0m\u001b[1;33m\u001b[0m\u001b[0m\n\u001b[0m\u001b[0;32m      2\u001b[0m \u001b[0mprint\u001b[0m\u001b[1;33m(\u001b[0m\u001b[0mts2\u001b[0m\u001b[1;33m.\u001b[0m\u001b[0mhead\u001b[0m\u001b[1;33m(\u001b[0m\u001b[1;33m)\u001b[0m\u001b[1;33m)\u001b[0m\u001b[1;33m\u001b[0m\u001b[1;33m\u001b[0m\u001b[0m\n",
      "\u001b[1;31mNameError\u001b[0m: name 'prng' is not defined"
     ]
    }
   ],
   "source": [
    "ts2 = pd.Series(np.random.rand(len(prng)),index=prng)\n",
    "print(ts2.head()) "
   ]
  },
  {
   "attachments": {},
   "cell_type": "markdown",
   "metadata": {},
   "source": [
    "**时间序列-重采样resample**\n",
    "\n",
    "Pandas中的resample，重新采样，是对原样本重新处理的一个方法，是一个对常规时间序列数据重新采样和频率转换的便捷的方法。\n",
    "\n",
    "重新采样时间序列数据。\n",
    "\n",
    "方便时间序列的频率转换和重采样方法\n",
    "\n",
    "对象必须具有类似datetime的索引(DatetimeIndex、PeriodIndex或者TimedeltaIndex)，或者将类似datetime的值传递给on或者level关键字。\n",
    "\n",
    "***DataFrame.resample(rule,closed=None,label=None,level=None)***\n",
    "\n",
    "  - *rule*: 表示目标转换的偏移量字符串或对象\n",
    "\n",
    "  - *closed*: 在降采样时，各时段的哪一段是闭合的，'right'或'left',默认是'right'\n",
    "\n",
    "  - *label*: 在降采样时，如何设置聚合值的标签，例如9:30-9:35会被标记成9:30还是9:35,默认9:35"
   ]
  },
  {
   "cell_type": "code",
   "execution_count": 3,
   "metadata": {},
   "outputs": [
    {
     "data": {
      "text/plain": [
       "2022-01-01     0\n",
       "2022-01-02     1\n",
       "2022-01-03     2\n",
       "2022-01-04     3\n",
       "2022-01-05     4\n",
       "2022-01-06     5\n",
       "2022-01-07     6\n",
       "2022-01-08     7\n",
       "2022-01-09     8\n",
       "2022-01-10     9\n",
       "2022-01-11    10\n",
       "2022-01-12    11\n",
       "Freq: D, dtype: int32"
      ]
     },
     "execution_count": 3,
     "metadata": {},
     "output_type": "execute_result"
    }
   ],
   "source": [
    "rng = pd.date_range('20220101',periods=12)\n",
    "ts = pd.Series(np.arange(12),index=rng)\n",
    "ts"
   ]
  },
  {
   "cell_type": "code",
   "execution_count": 4,
   "metadata": {},
   "outputs": [
    {
     "data": {
      "text/plain": [
       "2022-01-01    10\n",
       "2022-01-06    35\n",
       "2022-01-11    21\n",
       "Freq: 5D, dtype: int32"
      ]
     },
     "execution_count": 4,
     "metadata": {},
     "output_type": "execute_result"
    }
   ],
   "source": [
    "# 将序列下采样到5天的数据箱中，并将放入数据箱的时间戳的值相加\n",
    "ts.resample('5D').sum()"
   ]
  },
  {
   "cell_type": "code",
   "execution_count": 9,
   "metadata": {},
   "outputs": [
    {
     "name": "stdout",
     "output_type": "stream",
     "text": [
      "=====求平均值=====\n",
      "2022-01-01     2.0\n",
      "2022-01-06     7.0\n",
      "2022-01-11    10.5\n",
      "Freq: 5D, dtype: float64\n",
      "=====求最大值=====\n",
      "2022-01-01     4\n",
      "2022-01-06     9\n",
      "2022-01-11    11\n",
      "Freq: 5D, dtype: int32\n",
      "=====求最小值=====\n",
      "2022-01-01     0\n",
      "2022-01-06     5\n",
      "2022-01-11    10\n",
      "Freq: 5D, dtype: int32\n",
      "=====求中值=====\n",
      "2022-01-01     2.0\n",
      "2022-01-06     7.0\n",
      "2022-01-11    10.5\n",
      "Freq: 5D, dtype: float64\n",
      "=====返回第一个值=====\n",
      "2022-01-01     0\n",
      "2022-01-06     5\n",
      "2022-01-11    10\n",
      "Freq: 5D, dtype: int32\n",
      "=====返回最後一个值=====\n",
      "2022-01-01     4\n",
      "2022-01-06     9\n",
      "2022-01-11    11\n",
      "Freq: 5D, dtype: int32\n",
      "=====OHLC重采样=====\n",
      "            open  high  low  close\n",
      "2022-01-01     0     4    0      4\n",
      "2022-01-06     5     9    5      9\n",
      "2022-01-11    10    11   10     11\n"
     ]
    }
   ],
   "source": [
    "# 得到一个新的聚合后的Series,聚合方式为求和\n",
    "print(\"=====求平均值=====\")\n",
    "print(ts.resample('5D').mean())\n",
    "print(\"=====求最大值=====\")\n",
    "print(ts.resample('5D').max())\n",
    "print(\"=====求最小值=====\")\n",
    "print(ts.resample('5D').min())\n",
    "print(\"=====求中值=====\")\n",
    "print(ts.resample('5D').median())\n",
    "print(\"=====返回第一个值=====\")\n",
    "print(ts.resample('5D').first())\n",
    "print(\"=====返回最後一个值=====\")\n",
    "print(ts.resample('5D').last())\n",
    "print(\"=====OHLC重采样=====\")\n",
    "print(ts.resample('5D').ohlc())\n"
   ]
  },
  {
   "cell_type": "code",
   "execution_count": 11,
   "metadata": {},
   "outputs": [
    {
     "name": "stdout",
     "output_type": "stream",
     "text": [
      "      Unnamed: 0  worker  gpu  time  batch_time_norm\n",
      "0              0       0   25     1              476\n",
      "1              1       1   25     1              509\n",
      "2              2       2   25     1              468\n",
      "3              3       3   25     1              433\n",
      "4              4       4   25     1              475\n",
      "...          ...     ...  ...   ...              ...\n",
      "2995        2995       5   25  2988              454\n",
      "2996        2996       6   25  2988              435\n",
      "2997        2997       7   25  2988              447\n",
      "2998        2998       8   25  2988              429\n",
      "2999        2999       9   25  2988              433\n",
      "\n",
      "[3000 rows x 5 columns] <class 'pandas.core.frame.DataFrame'>\n",
      "<class 'pandas.core.frame.DataFrame'>\n",
      "RangeIndex: 3000 entries, 0 to 2999\n",
      "Data columns (total 5 columns):\n",
      " #   Column           Non-Null Count  Dtype\n",
      "---  ------           --------------  -----\n",
      " 0   Unnamed: 0       3000 non-null   int64\n",
      " 1   worker           3000 non-null   int64\n",
      " 2   gpu              3000 non-null   int64\n",
      " 3   time             3000 non-null   int64\n",
      " 4   batch_time_norm  3000 non-null   int64\n",
      "dtypes: int64(5)\n",
      "memory usage: 117.3 KB\n",
      "None\n"
     ]
    }
   ],
   "source": [
    "# 读取文件\n",
    "import pandas as pd\n",
    "file = pd.read_csv(\"data/job_1_norm.csv\")\n",
    "print(file,type(file))\n",
    "print(file.info())"
   ]
  },
  {
   "attachments": {},
   "cell_type": "markdown",
   "metadata": {},
   "source": [
    "- #### 缺失值处理\n",
    "\n",
    "对于缺失值一般有两种处理方式，要么删除，要么填充(用某个值代替缺失值)缺失值一般分为两种：\n",
    "\n",
    "- 一种是某一列的数据缺失\n",
    "\n",
    "- 另一种是整行数据都缺失，即一个空行"
   ]
  },
  {
   "cell_type": "code",
   "execution_count": 12,
   "metadata": {},
   "outputs": [
    {
     "data": {
      "text/html": [
       "<div>\n",
       "<style scoped>\n",
       "    .dataframe tbody tr th:only-of-type {\n",
       "        vertical-align: middle;\n",
       "    }\n",
       "\n",
       "    .dataframe tbody tr th {\n",
       "        vertical-align: top;\n",
       "    }\n",
       "\n",
       "    .dataframe thead th {\n",
       "        text-align: right;\n",
       "    }\n",
       "</style>\n",
       "<table border=\"1\" class=\"dataframe\">\n",
       "  <thead>\n",
       "    <tr style=\"text-align: right;\">\n",
       "      <th></th>\n",
       "      <th>Unnamed: 0</th>\n",
       "      <th>worker</th>\n",
       "      <th>gpu</th>\n",
       "      <th>time</th>\n",
       "      <th>batch_time_norm</th>\n",
       "    </tr>\n",
       "  </thead>\n",
       "  <tbody>\n",
       "    <tr>\n",
       "      <th>0</th>\n",
       "      <td>False</td>\n",
       "      <td>False</td>\n",
       "      <td>False</td>\n",
       "      <td>False</td>\n",
       "      <td>False</td>\n",
       "    </tr>\n",
       "    <tr>\n",
       "      <th>1</th>\n",
       "      <td>False</td>\n",
       "      <td>False</td>\n",
       "      <td>False</td>\n",
       "      <td>False</td>\n",
       "      <td>False</td>\n",
       "    </tr>\n",
       "    <tr>\n",
       "      <th>2</th>\n",
       "      <td>False</td>\n",
       "      <td>False</td>\n",
       "      <td>False</td>\n",
       "      <td>False</td>\n",
       "      <td>False</td>\n",
       "    </tr>\n",
       "    <tr>\n",
       "      <th>3</th>\n",
       "      <td>False</td>\n",
       "      <td>False</td>\n",
       "      <td>False</td>\n",
       "      <td>False</td>\n",
       "      <td>False</td>\n",
       "    </tr>\n",
       "    <tr>\n",
       "      <th>4</th>\n",
       "      <td>False</td>\n",
       "      <td>False</td>\n",
       "      <td>False</td>\n",
       "      <td>False</td>\n",
       "      <td>False</td>\n",
       "    </tr>\n",
       "    <tr>\n",
       "      <th>...</th>\n",
       "      <td>...</td>\n",
       "      <td>...</td>\n",
       "      <td>...</td>\n",
       "      <td>...</td>\n",
       "      <td>...</td>\n",
       "    </tr>\n",
       "    <tr>\n",
       "      <th>2995</th>\n",
       "      <td>False</td>\n",
       "      <td>False</td>\n",
       "      <td>False</td>\n",
       "      <td>False</td>\n",
       "      <td>False</td>\n",
       "    </tr>\n",
       "    <tr>\n",
       "      <th>2996</th>\n",
       "      <td>False</td>\n",
       "      <td>False</td>\n",
       "      <td>False</td>\n",
       "      <td>False</td>\n",
       "      <td>False</td>\n",
       "    </tr>\n",
       "    <tr>\n",
       "      <th>2997</th>\n",
       "      <td>False</td>\n",
       "      <td>False</td>\n",
       "      <td>False</td>\n",
       "      <td>False</td>\n",
       "      <td>False</td>\n",
       "    </tr>\n",
       "    <tr>\n",
       "      <th>2998</th>\n",
       "      <td>False</td>\n",
       "      <td>False</td>\n",
       "      <td>False</td>\n",
       "      <td>False</td>\n",
       "      <td>False</td>\n",
       "    </tr>\n",
       "    <tr>\n",
       "      <th>2999</th>\n",
       "      <td>False</td>\n",
       "      <td>False</td>\n",
       "      <td>False</td>\n",
       "      <td>False</td>\n",
       "      <td>False</td>\n",
       "    </tr>\n",
       "  </tbody>\n",
       "</table>\n",
       "<p>3000 rows × 5 columns</p>\n",
       "</div>"
      ],
      "text/plain": [
       "      Unnamed: 0  worker    gpu   time  batch_time_norm\n",
       "0          False   False  False  False            False\n",
       "1          False   False  False  False            False\n",
       "2          False   False  False  False            False\n",
       "3          False   False  False  False            False\n",
       "4          False   False  False  False            False\n",
       "...          ...     ...    ...    ...              ...\n",
       "2995       False   False  False  False            False\n",
       "2996       False   False  False  False            False\n",
       "2997       False   False  False  False            False\n",
       "2998       False   False  False  False            False\n",
       "2999       False   False  False  False            False\n",
       "\n",
       "[3000 rows x 5 columns]"
      ]
     },
     "execution_count": 12,
     "metadata": {},
     "output_type": "execute_result"
    }
   ],
   "source": [
    "file.isnull()"
   ]
  }
 ],
 "metadata": {
  "kernelspec": {
   "display_name": "Python 3.8.5 ('base')",
   "language": "python",
   "name": "python3"
  },
  "language_info": {
   "codemirror_mode": {
    "name": "ipython",
    "version": 3
   },
   "file_extension": ".py",
   "mimetype": "text/x-python",
   "name": "python",
   "nbconvert_exporter": "python",
   "pygments_lexer": "ipython3",
   "version": "3.8.5"
  },
  "orig_nbformat": 4,
  "vscode": {
   "interpreter": {
    "hash": "a4df7a6600e22bae99e6e8f837be5af686fd7a404512ca9c2620376f38fe7d31"
   }
  }
 },
 "nbformat": 4,
 "nbformat_minor": 2
}
