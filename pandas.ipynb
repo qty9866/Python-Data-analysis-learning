{
 "cells": [
  {
   "cell_type": "code",
   "execution_count": 1,
   "metadata": {},
   "outputs": [],
   "source": [
    "import numpy as np\n",
    "import pandas as pd\n"
   ]
  },
  {
   "cell_type": "markdown",
   "metadata": {},
   "source": [
    "### 数据结构Series创建\n",
    "\n",
    "***pd.Series(data=None,index=None,dtype=None,name=None,copy=False)***\n",
    "\n",
    "- data 输入的数据，可以是列表、常量、ndarry数组等，如果是字典，则保持参数顺序\n",
    "\n",
    "- index 索引值，必须是可散列的（不可变数据类型（str、bytes和数值类型）），并且与数据个数相同，如果未提供，将默认为RangeIndex(0,1,2,...n)\n",
    "\n",
    "- dtype 输出系列数据的类型，如果未指定，将从数据中推断\n",
    "\n",
    "- name 为Series定义一个名称\n",
    "\n",
    "- copy 表示对data进行拷贝,默认为False,仅影响Series和ndarry数组"
   ]
  },
  {
   "cell_type": "code",
   "execution_count": null,
   "metadata": {},
   "outputs": [],
   "source": [
    "# 列表作为数据创建Series\n",
    "ar_list = [3,10,3,4,5]\n",
    "print(type(ar_list))\n",
    "# 使用列表创建Series\n",
    "s1 = pd.Series(ar_list)\n",
    "print(s1)\n",
    "print(type(s1))"
   ]
  },
  {
   "cell_type": "code",
   "execution_count": null,
   "metadata": {},
   "outputs": [],
   "source": [
    "# 数组作为数据源\n",
    "np_rand = np.arange(1,6)\n",
    "# 使用数组创建Series\n",
    "s1 = pd.Series(np_rand)\n",
    "s1"
   ]
  },
  {
   "cell_type": "markdown",
   "metadata": {},
   "source": [
    "- #### **通过index和values属性取得对应的标签和值**"
   ]
  },
  {
   "cell_type": "code",
   "execution_count": null,
   "metadata": {},
   "outputs": [],
   "source": [
    "# 默认为RangeIndex(0,1,2,...,n)\n",
    "s1.index"
   ]
  },
  {
   "cell_type": "code",
   "execution_count": null,
   "metadata": {},
   "outputs": [],
   "source": [
    "# 可以强制转换为列表输出\n",
    "list(s1.index)"
   ]
  },
  {
   "cell_type": "code",
   "execution_count": null,
   "metadata": {},
   "outputs": [],
   "source": [
    "# 返回Series的所有值,数据类型为ndarry\n",
    "print(s1.values,type(s1.values))"
   ]
  },
  {
   "cell_type": "markdown",
   "metadata": {},
   "source": [
    "- #### **通过标签取得对应的值，或者修改对应的值**"
   ]
  },
  {
   "cell_type": "code",
   "execution_count": null,
   "metadata": {},
   "outputs": [],
   "source": [
    "# 取得索引为1的数据\n",
    "s1[1]"
   ]
  },
  {
   "cell_type": "code",
   "execution_count": null,
   "metadata": {},
   "outputs": [],
   "source": [
    "# 改变索引值为2的数值\n",
    "s1[2] =50\n",
    "s1"
   ]
  },
  {
   "cell_type": "markdown",
   "metadata": {},
   "source": [
    "- #### **2) 字典作为数据源创建Series**"
   ]
  },
  {
   "cell_type": "code",
   "execution_count": null,
   "metadata": {},
   "outputs": [],
   "source": [
    "d = {'a':1,'b':2,'c':3}\n",
    "ser = pd.Series(d)\n",
    "ser"
   ]
  },
  {
   "cell_type": "markdown",
   "metadata": {},
   "source": [
    "- #### **通过index和values属性取得对应的标签和值**"
   ]
  },
  {
   "cell_type": "code",
   "execution_count": null,
   "metadata": {},
   "outputs": [],
   "source": [
    "# 标签索引\n",
    "ser.index"
   ]
  },
  {
   "cell_type": "code",
   "execution_count": null,
   "metadata": {},
   "outputs": [],
   "source": [
    "# Series值\n",
    "ser.values"
   ]
  },
  {
   "cell_type": "markdown",
   "metadata": {},
   "source": [
    "- #### **通过标签取得对应的值或者修改对应的值**"
   ]
  },
  {
   "cell_type": "code",
   "execution_count": null,
   "metadata": {},
   "outputs": [],
   "source": [
    "ser['a']"
   ]
  },
  {
   "cell_type": "code",
   "execution_count": null,
   "metadata": {},
   "outputs": [],
   "source": [
    "ser['d'] = 4\n",
    "ser"
   ]
  },
  {
   "cell_type": "code",
   "execution_count": null,
   "metadata": {},
   "outputs": [],
   "source": [
    "ser['5'] = 5\n",
    "ser"
   ]
  },
  {
   "cell_type": "markdown",
   "metadata": {},
   "source": [
    "### **其他参数介绍**\n",
    "\n",
    "- #### **1) index参数**\n",
    "\n",
    "索引值，必须是可散列的（不可变数据类型（str、bytes和数值类型）），并且与数据个数相同，如果未提供，将默认为RangeIndex(0,1,2,...n)\n",
    "\n",
    "   - 使用“显式索引”的方法定义索引标签"
   ]
  },
  {
   "cell_type": "code",
   "execution_count": null,
   "metadata": {},
   "outputs": [],
   "source": [
    "data = np.array(['a','b','c','d'])\n",
    "# 自定义标签索引(即显式索引)，需要和数据长度一致\n",
    "s = pd.Series(data,index=[101,102,103,104])\n",
    "s"
   ]
  },
  {
   "cell_type": "markdown",
   "metadata": {},
   "source": [
    "  - #### **从指定索引的字典构造序列**"
   ]
  },
  {
   "cell_type": "code",
   "execution_count": null,
   "metadata": {},
   "outputs": [],
   "source": [
    "d = {'a':1,'b':2,'c':3}\n",
    "ser = pd.Series(d,index=['a','b','c'])\n",
    "ser"
   ]
  },
  {
   "cell_type": "markdown",
   "metadata": {},
   "source": [
    "- #### **当传递的索引值未匹配对应的字典键时，使用NaN(非数字)进行填充**"
   ]
  },
  {
   "cell_type": "code",
   "execution_count": null,
   "metadata": {},
   "outputs": [],
   "source": [
    "d = {'a':1,'b':2,'c':3}\n",
    "ser = pd.Series(d,index=['x','b','z'])\n",
    "ser"
   ]
  },
  {
   "cell_type": "markdown",
   "metadata": {},
   "source": [
    "\n",
    "输出: \n",
    "\n",
    "x    NaN\n",
    "\n",
    "b    2.0\n",
    "\n",
    "z    NaN \n",
    "\n",
    "**注意：索引首先使用字典中的键构建的，在此之后，用给定的索引值对序列重新编制索引，因此我们得到所有NaN**"
   ]
  },
  {
   "cell_type": "markdown",
   "metadata": {},
   "source": [
    "- #### **通过匹配的索引值，改变创建Series数据的顺序**"
   ]
  },
  {
   "cell_type": "code",
   "execution_count": null,
   "metadata": {},
   "outputs": [],
   "source": [
    "d = {'a':1,'b':2,'c':3}\n",
    "ser = pd.Series(d,index=['c','b','a'])\n",
    "ser"
   ]
  },
  {
   "cell_type": "markdown",
   "metadata": {},
   "source": [
    "- #### **2) name参数**\n",
    "\n",
    "我们可以给一个Series对象命名，也可以给一个Series数组中华的索引列起一个名字，pandas为我们设计好了对象的属性，并在设置了name属性值来进行名字的设定。"
   ]
  },
  {
   "cell_type": "code",
   "execution_count": null,
   "metadata": {},
   "outputs": [],
   "source": [
    "data1 = {\n",
    "    \"beijing\" : 2000,\n",
    "    \"shanghai\": 2400,\n",
    "    \"nanjing\" : 2100,\n",
    "}\n",
    "dd =pd.Series(data1)\n",
    "dd"
   ]
  },
  {
   "cell_type": "code",
   "execution_count": null,
   "metadata": {},
   "outputs": [],
   "source": [
    "dd = pd.Series(data1)\n",
    "dd.name = \"city_data\"\n",
    "print(dd)"
   ]
  },
  {
   "cell_type": "code",
   "execution_count": null,
   "metadata": {},
   "outputs": [],
   "source": [
    "# 使用Series创建DataFrame类型\n",
    "df = pd.DataFrame(dd)\n",
    "print(df,type(df))\n",
    "print(\"=\"*60)\n",
    "# 输出city_data列的数据和类型 \n",
    "print(df['city_data'],type(df['city_data']))"
   ]
  },
  {
   "cell_type": "markdown",
   "metadata": {},
   "source": [
    "- #### **3) copy参数**\n",
    "\n",
    "copy表示对data进行拷贝，默认为false，仅影响Series和ndarry数组"
   ]
  },
  {
   "cell_type": "code",
   "execution_count": null,
   "metadata": {},
   "outputs": [],
   "source": [
    "# 数组作为源数据\n",
    "np_rand =np.arange(1,6)\n",
    "# 使用数组创建Series\n",
    "s1 = pd.Series(np_rand)\n",
    "s1"
   ]
  },
  {
   "cell_type": "code",
   "execution_count": null,
   "metadata": {},
   "outputs": [],
   "source": [
    "# 改变Series标签为1的值\n",
    "s1[1] = 50\n",
    "\n",
    "# 输出series对象s1\n",
    "print(\"s1:\\n\",s1)\n",
    "\n",
    "# 输出数组对象np_rand 数组也被改变了\n",
    "print(\"np_rand:\",np_rand)"
   ]
  },
  {
   "cell_type": "code",
   "execution_count": null,
   "metadata": {},
   "outputs": [],
   "source": [
    "# 当数据源非Series和ndarray时\n",
    "# 数组作为数据源\n",
    "my_list = [1,2,3,4,5,6]\n",
    "\n",
    "# 使用数组创建Series\n",
    "s2 = pd.Series(my_list)\n",
    "s2"
   ]
  },
  {
   "cell_type": "code",
   "execution_count": null,
   "metadata": {},
   "outputs": [],
   "source": [
    "# 这个时候再改变s2[1]的值\n",
    "s2[1] = 50\n",
    "print(\"s2[1]:\",s2[1])\n",
    "\n",
    "# 输出s2\n",
    "print(\"s2:\",s2)\n",
    "\n",
    "# 输出数组\n",
    "print(\"mny_list:\",my_list)"
   ]
  },
  {
   "cell_type": "markdown",
   "metadata": {},
   "source": [
    "### **Series的索引/切片**\n",
    "\n",
    "  ##### **1.下标索引**\n",
    "\n",
    "类似于列表索引"
   ]
  },
  {
   "cell_type": "code",
   "execution_count": null,
   "metadata": {},
   "outputs": [],
   "source": [
    "s = pd.Series(np.random.rand(5))\n",
    "print(s)\n",
    "print(s[3],type(s[3]),s[3].dtype)"
   ]
  },
  {
   "cell_type": "markdown",
   "metadata": {},
   "source": [
    "  ##### **1.标签索引**\n",
    "\n",
    "  当索引为object类型时，既可以使用标签索引也可以使用位置索引\n",
    "  \n",
    "  Series类似于固定大小的dict,把index中的索引标签当做key，而把Series序列中的元素值当做value，然后通过index索引标签来访问或者修改元素值\n",
    "\n",
    "- ##### 使用索标签访问单个元素值"
   ]
  },
  {
   "cell_type": "code",
   "execution_count": null,
   "metadata": {},
   "outputs": [],
   "source": [
    "s = pd.Series(np.random.rand(5),index=list(\"abcde\"))\n",
    "print(s['b'],type(s['b']),s['b'].dtype)"
   ]
  },
  {
   "cell_type": "markdown",
   "metadata": {},
   "source": [
    "- ##### 使用索引标签访问多个元素值\n"
   ]
  },
  {
   "cell_type": "code",
   "execution_count": null,
   "metadata": {},
   "outputs": [],
   "source": [
    "s = pd.Series([6,7,8,9,10],index=list(\"abcde\"))\n",
    "print(s)\n",
    "print(s[['a','b','c']])"
   ]
  },
  {
   "cell_type": "markdown",
   "metadata": {},
   "source": [
    "### 切片\n",
    "\n",
    "- Series使用标签切片运算与普通的python切片运算不同：Series使用标签切片时，其末端是包含的\n",
    "\n",
    "- Series使用python切片运算即使用位置数值切片，其末端是不包含的"
   ]
  },
  {
   "cell_type": "code",
   "execution_count": null,
   "metadata": {},
   "outputs": [],
   "source": [
    "s = pd.Series(np.random.rand(10))\n",
    "s"
   ]
  },
  {
   "cell_type": "markdown",
   "metadata": {},
   "source": [
    "**位置索引和标签索引刚好一致，使用切片时如果是数值会认为是python的切片运算，不包含末端**"
   ]
  },
  {
   "cell_type": "code",
   "execution_count": null,
   "metadata": {},
   "outputs": [],
   "source": [
    "s[1:3]"
   ]
  },
  {
   "cell_type": "code",
   "execution_count": null,
   "metadata": {},
   "outputs": [],
   "source": [
    "s = pd.Series([1,2,3,4,5],index=['a','b','c','d','e'])\n",
    "print(s)\n",
    "print(s[1:4])"
   ]
  },
  {
   "cell_type": "code",
   "execution_count": null,
   "metadata": {},
   "outputs": [],
   "source": [
    "s[\"a\":\"d\"]"
   ]
  },
  {
   "cell_type": "markdown",
   "metadata": {},
   "source": [
    "### **Series数据结构 基本技巧**\n",
    "\n",
    "#### **1.查看前几条和后几条数据**"
   ]
  },
  {
   "cell_type": "code",
   "execution_count": null,
   "metadata": {},
   "outputs": [],
   "source": [
    "s = pd.Series(np.random.rand(15))\n",
    "s"
   ]
  },
  {
   "cell_type": "code",
   "execution_count": null,
   "metadata": {},
   "outputs": [],
   "source": [
    "# 默认查看前5条数据\n",
    "print(s.head())\n",
    "# 默认查看前1条数据\n",
    "print(s.head(1))"
   ]
  },
  {
   "cell_type": "code",
   "execution_count": null,
   "metadata": {},
   "outputs": [],
   "source": [
    "# 默认查看后5条数据\n",
    "print(s.tail())"
   ]
  },
  {
   "cell_type": "markdown",
   "metadata": {},
   "source": [
    "#### **2.重新索引:reindex**\n",
    "\n",
    "使用可选逻辑,使Series符合新索引\n",
    "\n",
    "将NaN放在上一个索引中没有值的位置。除非新索引等同于当前索引，并且生成新对象。"
   ]
  },
  {
   "cell_type": "code",
   "execution_count": null,
   "metadata": {},
   "outputs": [],
   "source": [
    "s = pd.Series(np.random.rand(5),index=list(\"abcde\"))\n",
    "print(\"---------s---------\")\n",
    "print(s)\n",
    "\n",
    "# 新索引在上一个索引中不存在，生成新对象时，对应的值，设置为NaN\n",
    "s1 = s.reindex(list(\"cde12\"))\n",
    "print(\"========s1=========\")\n",
    "print(s1)"
   ]
  },
  {
   "cell_type": "code",
   "execution_count": null,
   "metadata": {},
   "outputs": [],
   "source": [
    "# 设置填充值\n",
    "s2 = s.reindex(list(\"cde34\"),fill_value=0)\n",
    "print(\"========s2=========\")\n",
    "print(s2)"
   ]
  },
  {
   "cell_type": "markdown",
   "metadata": {},
   "source": [
    "#### **3.对齐运算**\n",
    "\n",
    "是数据清洗的重要过程，可以按索引对齐进行运算，如果没对齐的位置则补NaN，最后也可以填充NaN"
   ]
  },
  {
   "cell_type": "code",
   "execution_count": null,
   "metadata": {},
   "outputs": [],
   "source": [
    "s1 = pd.Series(np.random.rand(3),index=[\"Hud\",\"Monica\",\"QB\"])\n",
    "\n",
    "s2 = pd.Series(np.random.rand(3),index=[\"Monica\",\"QB\",\"QTY\"])\n",
    "\n",
    "print(\"----------s1----------\")\n",
    "print(s1)\n",
    "\n",
    "print(\"==========s2==========\")\n",
    "print(s2)\n",
    "\n",
    "print(\"#########s1+s2#########\")\n",
    "print(s1+s2)"
   ]
  },
  {
   "cell_type": "markdown",
   "metadata": {},
   "source": [
    "#### **4.删除和添加**\n",
    "\n",
    "- **删除**"
   ]
  },
  {
   "cell_type": "code",
   "execution_count": null,
   "metadata": {},
   "outputs": [],
   "source": [
    "s = pd.Series(np.random.rand(5),index=list('abcde'))\n",
    "print(s)\n",
    "s1 = s.drop(\"b\") # 返回删除后的值，原值不改变，默认inplace=False\n",
    "print(s1)\n",
    "print(\"==================\")\n",
    "print(s)"
   ]
  },
  {
   "cell_type": "code",
   "execution_count": null,
   "metadata": {},
   "outputs": [],
   "source": [
    "# 如果希望原值发生变化\n",
    "s = pd.Series(np.random.rand(5),index=list('abcde'))\n",
    "s1 = s.drop(\"b\",inplace=True) # 原值发生变化，返回None\n",
    "print(s1)\n",
    "print(\"================\")\n",
    "print(s)"
   ]
  },
  {
   "cell_type": "markdown",
   "metadata": {},
   "source": [
    "- **添加**"
   ]
  },
  {
   "cell_type": "code",
   "execution_count": null,
   "metadata": {},
   "outputs": [],
   "source": [
    "s = pd.Series(np.random.rand(5),index=list('abcde'))\n",
    "print(s)\n",
    "\n",
    "s[\"f\"]=2.222222  # 有就添加 没有就修改\n",
    "print(\"-=-=-=-=-=-=-=\")\n",
    "print(s)"
   ]
  },
  {
   "cell_type": "markdown",
   "metadata": {},
   "source": [
    "#### **5.检测缺失值**\n",
    "\n",
    "isnull()和notnull()用于检测Series中的缺失值，所谓缺失值，顾名思义就是值不存在、丢失、缺少\n",
    "\n",
    "- isnull(): 如果为值不存在或者缺失，则返回True\n",
    "\n",
    "- notnull(): 如果值不存在或者缺失，则返回False"
   ]
  },
  {
   "cell_type": "code",
   "execution_count": null,
   "metadata": {},
   "outputs": [],
   "source": [
    "s = pd.Series([1,2,3,None,5,6,None,8,9])\n",
    "print(pd.isnull(s))\n",
    "print(pd.notnull(s))"
   ]
  },
  {
   "cell_type": "markdown",
   "metadata": {},
   "source": [
    "### **DataFrame数据类型**\n",
    "\n",
    "DataFrame是Pandas的重要数据结构之一，也是在使用Pandas进行数据分析过程中最常用的结构之一，可以这么说，掌握了DataFrame的用法,你就拥有了学习数据分析的基本能力\n",
    "\n",
    "\n",
    "#### **认识DataFrame结构**\n",
    "\n",
    "DataFrame 一个表格型的数据结构，既有行标签(index),又有列标签(columns)，他也被称为异构数据表，所谓异构，指的是表格中的每列的数据类型可以不同，比如可以是字符串、浮点型、整型\n",
    "\n",
    "- DataFrame数据结构的特点主要是:\n",
    "  \n",
    "  - DataFrame每一列标签值允许使用不同的数据类型 \n",
    "\n",
    "  - DataFrame是表格型的数据结构，具有行和列\n",
    "\n",
    "  - DataFrame中的每个数据值都可以被修改\n",
    "\n",
    "  - DataFrame结构的行数和列数允许增加或者删除\n",
    "\n",
    "  - DataFrame有两个方向的标签轴，分别是行标签和列标签\n",
    "\n",
    "  - DataFrame可以对行和列执行算数运算\n",
    "\n",
    "\n",
    "\n",
    "#### **创建DataFrame对象**\n",
    "\n",
    "***pandas.DataFrame(data=None,index=None,columns=None,dtype=None,copy=None)***\n",
    "\n",
    "- data：输入的数据，可以是ndarray，series，list，dict，标量以及一个DataFrame \n",
    "\n",
    "- index：行标签，如果没有传递index值，则默认行标签是Rangelndex（0，1，2..…，n），n代表data的元素个数。\n",
    "\n",
    "- columns：列标签，如果没有传递columns值，则默认列标签是Rangelndex（0，1，2，…，n）\n",
    "\n",
    "- dtype：要强制的数据类型。只允许使用一种数据类型。如果没有，自行推断\n",
    "\n",
    "- copy：从输入复制数据。对于dict数据，copy=True，重新复制一份。对于DataFrame或ndarray输入，类似于copy=False\n",
    "\n",
    "\n",
    "\n",
    "**Pandas Data是一个二维的数据结构，类似二维数组**"
   ]
  },
  {
   "cell_type": "code",
   "execution_count": null,
   "metadata": {},
   "outputs": [],
   "source": [
    "# 引入numpy和Pandas\n",
    "import numpy as np\n",
    "import pandas as pd"
   ]
  },
  {
   "cell_type": "markdown",
   "metadata": {},
   "source": [
    "**1.使用普通列表创建**"
   ]
  },
  {
   "cell_type": "code",
   "execution_count": null,
   "metadata": {},
   "outputs": [],
   "source": [
    "data = [1,2,3,4,5]\n",
    "df = pd.DataFrame(data)\n",
    "print(df)"
   ]
  },
  {
   "cell_type": "markdown",
   "metadata": {},
   "source": [
    "**2.使用嵌套列表的创建**"
   ]
  },
  {
   "cell_type": "code",
   "execution_count": null,
   "metadata": {},
   "outputs": [],
   "source": [
    "# 列表中的每个元素代表一行数据\n",
    "\n",
    "data = [['Hud',24,\"男\"],[\"Monica\",22,\"女\"],[\"Qb\",1,\"不详\"]]\n",
    "\n",
    "#不分配列标签\n",
    "df = pd.DataFrame(data)\n",
    "print(df)\n",
    "\n",
    "print(\"------------分配列标签-------------\")\n",
    "df1 = pd.DataFrame(data,columns=[\"Name\",\"Age\",\"Sex\"])\n",
    "df1"
   ]
  },
  {
   "cell_type": "markdown",
   "metadata": {},
   "source": [
    "**3.指定数值元素的数据类型为float**\n",
    "\n",
    "- 需要注意：dtype只能设置一个，设置多个列的数据类型，需要使用其他方式"
   ]
  },
  {
   "cell_type": "code",
   "execution_count": null,
   "metadata": {},
   "outputs": [],
   "source": [
    "data = [['Hud',24,\"男\"],[\"Monica\",22,\"女\"],[\"Qb\",1,\"不详\"]]\n",
    "df = pd.DataFrame(data,columns=[\"Name\",\"Age\",\"Sex\"],dtype=int)\n",
    "df\n"
   ]
  },
  {
   "cell_type": "code",
   "execution_count": null,
   "metadata": {},
   "outputs": [],
   "source": [
    "data = [['Hud',24,\"男\",1.81],[\"Monica\",22,\"女\",1.65],[\"Qb\",1,\"不详\",0.04]]\n",
    "# df = pd.DataFrame(data,columns=[\"Name\",\"Age\",\"Sex\",\"tall\"],dtype={str,int,str,float}) 錯誤\n",
    "\n",
    "df = pd.DataFrame(data,columns=[\"Name\",\"Age\",\"Sex\",\"tall\"],dtype=float)\n",
    "df"
   ]
  },
  {
   "cell_type": "markdown",
   "metadata": {},
   "source": [
    "**4.列表嵌套字典的方式创建DataFrame对象**\n",
    "\n",
    "列表嵌套字典可以作为输入数据传递给DataFrame构造函数，默认情况下，字典的键被用作列名"
   ]
  },
  {
   "cell_type": "code",
   "execution_count": null,
   "metadata": {},
   "outputs": [],
   "source": [
    "data = [{'a':1,'b':2},{'a':5,'b':10,'c':20}]\n",
    "df = pd.DataFrame(data,index=[\"first\",\"second\"])\n",
    "df"
   ]
  },
  {
   "cell_type": "markdown",
   "metadata": {},
   "source": [
    "**5. Series创建DataFrame对象**\n",
    "\n",
    "你也可以传递一个字典形式的Series，从而创建一个DataFrame对象，其输出结果的行索引是所有index的合集"
   ]
  },
  {
   "cell_type": "code",
   "execution_count": null,
   "metadata": {},
   "outputs": [],
   "source": [
    "d = {'one':pd.Series([1,2,3],index=['a','b','c']),\n",
    "    'two':pd.Series([1,2,3,4],index=['a','b','c','d'])}\n",
    "df = pd.DataFrame(d)\n",
    "df"
   ]
  },
  {
   "cell_type": "markdown",
   "metadata": {},
   "source": [
    "### **列操作DataFrame**\n",
    "\n",
    "DataFrame可以使用列标签来完成数据的选取、添加和删除操作。\n",
    "\n",
    "**1. 选取数据列**\n",
    "\n",
    "- 可以使用列索引，轻松实现数据选项"
   ]
  },
  {
   "cell_type": "code",
   "execution_count": null,
   "metadata": {},
   "outputs": [],
   "source": [
    "data = {'Name':['Hud','Monica','Qb'],'Age':[24,22,1]}\n",
    "# 定义行标签\n",
    "index = ['rank1','rank2','rank3']\n",
    "\n",
    "# 通过字典定义DataFrame\n",
    "df = pd.DataFrame(data,index=index)\n",
    "print(df)\n",
    "print(\"========df['Name']取得Name列=======\")\n",
    "print(df['Name'])\n",
    "print(\"========df['Age']取得Age列=======\")\n",
    "print(df['Age'])"
   ]
  },
  {
   "cell_type": "code",
   "execution_count": null,
   "metadata": {},
   "outputs": [],
   "source": [
    "# 选取多列\n",
    "df[['Name','Age']]"
   ]
  },
  {
   "cell_type": "markdown",
   "metadata": {},
   "source": [
    "**2.列添加**\n",
    "\n",
    "- 使用columns列标签索引可以实现添加新的数据列，示例如下"
   ]
  },
  {
   "cell_type": "code",
   "execution_count": 23,
   "metadata": {},
   "outputs": [
    {
     "data": {
      "text/html": [
       "<div>\n",
       "<style scoped>\n",
       "    .dataframe tbody tr th:only-of-type {\n",
       "        vertical-align: middle;\n",
       "    }\n",
       "\n",
       "    .dataframe tbody tr th {\n",
       "        vertical-align: top;\n",
       "    }\n",
       "\n",
       "    .dataframe thead th {\n",
       "        text-align: right;\n",
       "    }\n",
       "</style>\n",
       "<table border=\"1\" class=\"dataframe\">\n",
       "  <thead>\n",
       "    <tr style=\"text-align: right;\">\n",
       "      <th></th>\n",
       "      <th>One</th>\n",
       "      <th>Two</th>\n",
       "    </tr>\n",
       "  </thead>\n",
       "  <tbody>\n",
       "    <tr>\n",
       "      <th>a</th>\n",
       "      <td>1.0</td>\n",
       "      <td>1</td>\n",
       "    </tr>\n",
       "    <tr>\n",
       "      <th>b</th>\n",
       "      <td>2.0</td>\n",
       "      <td>2</td>\n",
       "    </tr>\n",
       "    <tr>\n",
       "      <th>c</th>\n",
       "      <td>3.0</td>\n",
       "      <td>3</td>\n",
       "    </tr>\n",
       "    <tr>\n",
       "      <th>d</th>\n",
       "      <td>NaN</td>\n",
       "      <td>4</td>\n",
       "    </tr>\n",
       "  </tbody>\n",
       "</table>\n",
       "</div>"
      ],
      "text/plain": [
       "   One  Two\n",
       "a  1.0    1\n",
       "b  2.0    2\n",
       "c  3.0    3\n",
       "d  NaN    4"
      ]
     },
     "execution_count": 23,
     "metadata": {},
     "output_type": "execute_result"
    }
   ],
   "source": [
    "d = {'One':pd.Series([1,2,3],index=['a','b','c']),\n",
    "'Two':pd.Series([1,2,3,4],index=['a','b','c','d'])}\n",
    "df = pd.DataFrame(d)\n",
    "df"
   ]
  },
  {
   "cell_type": "code",
   "execution_count": 24,
   "metadata": {},
   "outputs": [
    {
     "name": "stdout",
     "output_type": "stream",
     "text": [
      "通过Series添加一个新的列\n"
     ]
    },
    {
     "data": {
      "text/html": [
       "<div>\n",
       "<style scoped>\n",
       "    .dataframe tbody tr th:only-of-type {\n",
       "        vertical-align: middle;\n",
       "    }\n",
       "\n",
       "    .dataframe tbody tr th {\n",
       "        vertical-align: top;\n",
       "    }\n",
       "\n",
       "    .dataframe thead th {\n",
       "        text-align: right;\n",
       "    }\n",
       "</style>\n",
       "<table border=\"1\" class=\"dataframe\">\n",
       "  <thead>\n",
       "    <tr style=\"text-align: right;\">\n",
       "      <th></th>\n",
       "      <th>One</th>\n",
       "      <th>Two</th>\n",
       "      <th>Three</th>\n",
       "    </tr>\n",
       "  </thead>\n",
       "  <tbody>\n",
       "    <tr>\n",
       "      <th>a</th>\n",
       "      <td>1.0</td>\n",
       "      <td>1</td>\n",
       "      <td>10.0</td>\n",
       "    </tr>\n",
       "    <tr>\n",
       "      <th>b</th>\n",
       "      <td>2.0</td>\n",
       "      <td>2</td>\n",
       "      <td>20.0</td>\n",
       "    </tr>\n",
       "    <tr>\n",
       "      <th>c</th>\n",
       "      <td>3.0</td>\n",
       "      <td>3</td>\n",
       "      <td>30.0</td>\n",
       "    </tr>\n",
       "    <tr>\n",
       "      <th>d</th>\n",
       "      <td>NaN</td>\n",
       "      <td>4</td>\n",
       "      <td>NaN</td>\n",
       "    </tr>\n",
       "  </tbody>\n",
       "</table>\n",
       "</div>"
      ],
      "text/plain": [
       "   One  Two  Three\n",
       "a  1.0    1   10.0\n",
       "b  2.0    2   20.0\n",
       "c  3.0    3   30.0\n",
       "d  NaN    4    NaN"
      ]
     },
     "execution_count": 24,
     "metadata": {},
     "output_type": "execute_result"
    }
   ],
   "source": [
    "# 使用df['列']='值'，插入新的数据列\n",
    "print(\"通过Series添加一个新的列\")\n",
    "df['Three']=pd.Series([10,20,30],index=['a','b','c'])\n",
    "df"
   ]
  },
  {
   "cell_type": "code",
   "execution_count": 26,
   "metadata": {},
   "outputs": [
    {
     "data": {
      "text/html": [
       "<div>\n",
       "<style scoped>\n",
       "    .dataframe tbody tr th:only-of-type {\n",
       "        vertical-align: middle;\n",
       "    }\n",
       "\n",
       "    .dataframe tbody tr th {\n",
       "        vertical-align: top;\n",
       "    }\n",
       "\n",
       "    .dataframe thead th {\n",
       "        text-align: right;\n",
       "    }\n",
       "</style>\n",
       "<table border=\"1\" class=\"dataframe\">\n",
       "  <thead>\n",
       "    <tr style=\"text-align: right;\">\n",
       "      <th></th>\n",
       "      <th>One</th>\n",
       "      <th>Two</th>\n",
       "      <th>Three</th>\n",
       "      <th>Four</th>\n",
       "    </tr>\n",
       "  </thead>\n",
       "  <tbody>\n",
       "    <tr>\n",
       "      <th>a</th>\n",
       "      <td>1.0</td>\n",
       "      <td>1</td>\n",
       "      <td>10.0</td>\n",
       "      <td>2.0</td>\n",
       "    </tr>\n",
       "    <tr>\n",
       "      <th>b</th>\n",
       "      <td>2.0</td>\n",
       "      <td>2</td>\n",
       "      <td>20.0</td>\n",
       "      <td>4.0</td>\n",
       "    </tr>\n",
       "    <tr>\n",
       "      <th>c</th>\n",
       "      <td>3.0</td>\n",
       "      <td>3</td>\n",
       "      <td>30.0</td>\n",
       "      <td>6.0</td>\n",
       "    </tr>\n",
       "    <tr>\n",
       "      <th>d</th>\n",
       "      <td>NaN</td>\n",
       "      <td>4</td>\n",
       "      <td>NaN</td>\n",
       "      <td>NaN</td>\n",
       "    </tr>\n",
       "  </tbody>\n",
       "</table>\n",
       "</div>"
      ],
      "text/plain": [
       "   One  Two  Three  Four\n",
       "a  1.0    1   10.0   2.0\n",
       "b  2.0    2   20.0   4.0\n",
       "c  3.0    3   30.0   6.0\n",
       "d  NaN    4    NaN   NaN"
      ]
     },
     "execution_count": 26,
     "metadata": {},
     "output_type": "execute_result"
    }
   ],
   "source": [
    "# 将已经存在的数据列相加运算，从而创建一个新的列\n",
    "df['Four']=df['One']+pd.Series([1,2,3,4],index=['a','b','c','d'])\n",
    "df"
   ]
  },
  {
   "cell_type": "markdown",
   "metadata": {},
   "source": [
    "- **insert()方法添加**\n",
    "\n",
    "上述方法，我们初次使用了FataFrame的算数运算，这和Numpy非常相似，除了使用df[]=value的方式外，还可以使用insert方法插入新的列\n",
    "\n",
    "***df.insert(loc,column,value,allow_duplicates=FALSE)***\n",
    "\n",
    "- loc: 整型，插入索引，必须验证0<=loc<=len(列)\n",
    "\n",
    "- column: 插入列的标签，类型可以是(字符串/数字/散列对象)\n",
    "\n",
    "- value: 数值，Series或者数组\n",
    "\n",
    "- allow_duplicates: 允许重复，可以有相同的列标签数据，默认是False"
   ]
  },
  {
   "cell_type": "code",
   "execution_count": null,
   "metadata": {},
   "outputs": [],
   "source": [
    "info = [['Hud',24],['Monica',22],['Qb',1]]\n",
    "df = pd.DataFrame(info,columns=['Name','Age'])\n",
    "print(df)\n",
    "# 数值1代表插入到columns列表的索引位置\n",
    "df.insert(1,column='weight',value=[81,47,4.5])\n",
    "print(\"========insert()插入数据========\")\n",
    "print(df)"
   ]
  },
  {
   "cell_type": "markdown",
   "metadata": {},
   "source": [
    "- **删除数据列**\n",
    "\n",
    "    通过del()和pop()都能够删除DataFrame中的数据列,pop()有返回值\n",
    "\n",
    "    示例如下:"
   ]
  },
  {
   "cell_type": "code",
   "execution_count": 37,
   "metadata": {},
   "outputs": [
    {
     "data": {
      "text/html": [
       "<div>\n",
       "<style scoped>\n",
       "    .dataframe tbody tr th:only-of-type {\n",
       "        vertical-align: middle;\n",
       "    }\n",
       "\n",
       "    .dataframe tbody tr th {\n",
       "        vertical-align: top;\n",
       "    }\n",
       "\n",
       "    .dataframe thead th {\n",
       "        text-align: right;\n",
       "    }\n",
       "</style>\n",
       "<table border=\"1\" class=\"dataframe\">\n",
       "  <thead>\n",
       "    <tr style=\"text-align: right;\">\n",
       "      <th></th>\n",
       "      <th>One</th>\n",
       "      <th>Two</th>\n",
       "      <th>Three</th>\n",
       "    </tr>\n",
       "  </thead>\n",
       "  <tbody>\n",
       "    <tr>\n",
       "      <th>a</th>\n",
       "      <td>1.0</td>\n",
       "      <td>1</td>\n",
       "      <td>10</td>\n",
       "    </tr>\n",
       "    <tr>\n",
       "      <th>b</th>\n",
       "      <td>2.0</td>\n",
       "      <td>2</td>\n",
       "      <td>20</td>\n",
       "    </tr>\n",
       "    <tr>\n",
       "      <th>c</th>\n",
       "      <td>3.0</td>\n",
       "      <td>3</td>\n",
       "      <td>30</td>\n",
       "    </tr>\n",
       "    <tr>\n",
       "      <th>d</th>\n",
       "      <td>NaN</td>\n",
       "      <td>4</td>\n",
       "      <td>40</td>\n",
       "    </tr>\n",
       "  </tbody>\n",
       "</table>\n",
       "</div>"
      ],
      "text/plain": [
       "   One  Two  Three\n",
       "a  1.0    1     10\n",
       "b  2.0    2     20\n",
       "c  3.0    3     30\n",
       "d  NaN    4     40"
      ]
     },
     "execution_count": 37,
     "metadata": {},
     "output_type": "execute_result"
    }
   ],
   "source": [
    "d = {'One':pd.Series([1,2,3],index=['a','b','c']),\n",
    "'Two':pd.Series([1,2,3,4],index=['a','b','c','d']),\n",
    "'Three':pd.Series([10,20,30,40],index=['a','b','c','d'])}\n",
    "df = pd.DataFrame(d)\n",
    "df"
   ]
  },
  {
   "cell_type": "code",
   "execution_count": 38,
   "metadata": {},
   "outputs": [
    {
     "name": "stdout",
     "output_type": "stream",
     "text": [
      "=======df['Three']=======\n",
      "   One  Two\n",
      "a  1.0    1\n",
      "b  2.0    2\n",
      "c  3.0    3\n",
      "d  NaN    4\n",
      "=========df.pop('Two')========\n",
      "res_pop: a    1\n",
      "b    2\n",
      "c    3\n",
      "d    4\n",
      "Name: Two, dtype: int64\n",
      "df:    One\n",
      "a  1.0\n",
      "b  2.0\n",
      "c  3.0\n",
      "d  NaN\n"
     ]
    }
   ],
   "source": [
    "# 使用del删除\n",
    "del df['Three']\n",
    "print(\"=======df['Three']=======\")\n",
    "print(df)\n",
    "# 使用pop删除\n",
    "res_pop = df.pop('Two')\n",
    "print(\"=========df.pop('Two')========\")\n",
    "print(\"res_pop:\",res_pop)\n",
    "print(\"df:\",df)"
   ]
  },
  {
   "cell_type": "markdown",
   "metadata": {},
   "source": [
    "### **行操作DataFrame**\n",
    "\n",
    "了解了上述的列索引操作后，行索引操作就变得简单\n",
    "\n",
    "**1. 标签选取**\n",
    "\n",
    "  - 行操作需要借助loc属性来完成：按标签或者布尔数组访问一组行和列"
   ]
  },
  {
   "cell_type": "code",
   "execution_count": 41,
   "metadata": {},
   "outputs": [
    {
     "name": "stdout",
     "output_type": "stream",
     "text": [
      "原始df:\n",
      "   One  Two  Three\n",
      "a  1.0    1     10\n",
      "b  2.0    2     20\n",
      "c  3.0    3     30\n",
      "d  NaN    4     40\n",
      "=======b=======\n",
      "One       2.0\n",
      "Two       2.0\n",
      "Three    20.0\n",
      "Name: b, dtype: float64\n"
     ]
    }
   ],
   "source": [
    "# 定义字典，生成数据\n",
    "d = {'One':pd.Series([1,2,3],index=['a','b','c']),\n",
    "'Two':pd.Series([1,2,3,4],index=['a','b','c','d']),\n",
    "'Three':pd.Series([10,20,30,40],index=['a','b','c','d'])}\n",
    "df = pd.DataFrame(d)\n",
    "print(\"原始df:\")\n",
    "print(df)\n",
    "# 确定标签为b的数据\n",
    "print(\"=======b=======\")\n",
    "print(df.loc['b'])"
   ]
  },
  {
   "cell_type": "markdown",
   "metadata": {},
   "source": [
    "**注意：loc只允许接收两个参数分别是行和列**\n",
    "\n",
    "b行,one列交叉的数据"
   ]
  },
  {
   "cell_type": "code",
   "execution_count": 42,
   "metadata": {},
   "outputs": [
    {
     "data": {
      "text/plain": [
       "2.0"
      ]
     },
     "execution_count": 42,
     "metadata": {},
     "output_type": "execute_result"
    }
   ],
   "source": [
    "df.loc['b','One']"
   ]
  },
  {
   "cell_type": "markdown",
   "metadata": {},
   "source": [
    "**行和列还可以使用切片**"
   ]
  },
  {
   "cell_type": "code",
   "execution_count": 43,
   "metadata": {},
   "outputs": [
    {
     "data": {
      "text/plain": [
       "b    2.0\n",
       "c    3.0\n",
       "d    NaN\n",
       "Name: One, dtype: float64"
      ]
     },
     "execution_count": 43,
     "metadata": {},
     "output_type": "execute_result"
    }
   ],
   "source": [
    "# 标签为b的行到标签为d的行，对应标签为'One'的列\n",
    "df.loc['b':'d','One']"
   ]
  },
  {
   "cell_type": "markdown",
   "metadata": {},
   "source": [
    "**2. 数值型索引和切片**\n",
    "\n",
    "- 使用数值型索引需要使用`iloc`属性\n",
    "\n",
    "直接使用索引，会优先查找的是列标签，如果找不到会报错，列没有位置索引\n",
    "\n",
    "- 可以使用`iloc`: 行基于整数位置的按位置选择索引"
   ]
  },
  {
   "cell_type": "code",
   "execution_count": 44,
   "metadata": {},
   "outputs": [
    {
     "data": {
      "text/html": [
       "<div>\n",
       "<style scoped>\n",
       "    .dataframe tbody tr th:only-of-type {\n",
       "        vertical-align: middle;\n",
       "    }\n",
       "\n",
       "    .dataframe tbody tr th {\n",
       "        vertical-align: top;\n",
       "    }\n",
       "\n",
       "    .dataframe thead th {\n",
       "        text-align: right;\n",
       "    }\n",
       "</style>\n",
       "<table border=\"1\" class=\"dataframe\">\n",
       "  <thead>\n",
       "    <tr style=\"text-align: right;\">\n",
       "      <th></th>\n",
       "      <th>Name</th>\n",
       "      <th>Age</th>\n",
       "    </tr>\n",
       "  </thead>\n",
       "  <tbody>\n",
       "    <tr>\n",
       "      <th>rank1</th>\n",
       "      <td>Hud</td>\n",
       "      <td>24</td>\n",
       "    </tr>\n",
       "    <tr>\n",
       "      <th>rank2</th>\n",
       "      <td>Monica</td>\n",
       "      <td>22</td>\n",
       "    </tr>\n",
       "    <tr>\n",
       "      <th>rank3</th>\n",
       "      <td>Qb</td>\n",
       "      <td>1</td>\n",
       "    </tr>\n",
       "  </tbody>\n",
       "</table>\n",
       "</div>"
      ],
      "text/plain": [
       "         Name  Age\n",
       "rank1     Hud   24\n",
       "rank2  Monica   22\n",
       "rank3      Qb    1"
      ]
     },
     "execution_count": 44,
     "metadata": {},
     "output_type": "execute_result"
    }
   ],
   "source": [
    "data = {'Name':['Hud','Monica','Qb'],'Age':[24,22,1]}\n",
    "# 定义行标签\n",
    "index = ['rank1','rank2','rank3']\n",
    "# 通过字典创建DataFrame\n",
    "df = pd.DataFrame(data,index=index)\n",
    "df"
   ]
  },
  {
   "cell_type": "code",
   "execution_count": 46,
   "metadata": {},
   "outputs": [
    {
     "data": {
      "text/plain": [
       "Name    Qb\n",
       "Age      1\n",
       "Name: rank3, dtype: object"
      ]
     },
     "execution_count": 46,
     "metadata": {},
     "output_type": "execute_result"
    }
   ],
   "source": [
    "# 获得位置索引为2的数据\n",
    "df.iloc[2]"
   ]
  },
  {
   "cell_type": "code",
   "execution_count": 47,
   "metadata": {},
   "outputs": [
    {
     "data": {
      "text/html": [
       "<div>\n",
       "<style scoped>\n",
       "    .dataframe tbody tr th:only-of-type {\n",
       "        vertical-align: middle;\n",
       "    }\n",
       "\n",
       "    .dataframe tbody tr th {\n",
       "        vertical-align: top;\n",
       "    }\n",
       "\n",
       "    .dataframe thead th {\n",
       "        text-align: right;\n",
       "    }\n",
       "</style>\n",
       "<table border=\"1\" class=\"dataframe\">\n",
       "  <thead>\n",
       "    <tr style=\"text-align: right;\">\n",
       "      <th></th>\n",
       "      <th>Name</th>\n",
       "      <th>Age</th>\n",
       "    </tr>\n",
       "  </thead>\n",
       "  <tbody>\n",
       "    <tr>\n",
       "      <th>rank1</th>\n",
       "      <td>Hud</td>\n",
       "      <td>24</td>\n",
       "    </tr>\n",
       "    <tr>\n",
       "      <th>rank3</th>\n",
       "      <td>Qb</td>\n",
       "      <td>1</td>\n",
       "    </tr>\n",
       "  </tbody>\n",
       "</table>\n",
       "</div>"
      ],
      "text/plain": [
       "      Name  Age\n",
       "rank1  Hud   24\n",
       "rank3   Qb    1"
      ]
     },
     "execution_count": 47,
     "metadata": {},
     "output_type": "execute_result"
    }
   ],
   "source": [
    "# 获得位置索引分别为0和2的数据\n",
    "df.iloc[[0,2]]"
   ]
  },
  {
   "cell_type": "code",
   "execution_count": 48,
   "metadata": {},
   "outputs": [
    {
     "data": {
      "text/plain": [
       "24"
      ]
     },
     "execution_count": 48,
     "metadata": {},
     "output_type": "execute_result"
    }
   ],
   "source": [
    "# 表示行索引为0，列索引为1的数据\n",
    "df.iloc[0,1]"
   ]
  },
  {
   "cell_type": "markdown",
   "metadata": {},
   "source": [
    "#### 注意：\n",
    "\n",
    "- loc使用的是标签\n",
    "\n",
    "- iloc使用的是位置索引\n",
    "\n",
    "        \n",
    "**两者不能混用**  "
   ]
  },
  {
   "attachments": {},
   "cell_type": "markdown",
   "metadata": {},
   "source": [
    "**3.添加数据行**\n",
    "\n",
    "使用`append()`函数，可以将新的数据行添加到DataFrame中,该函数会在行末追加数据行\n",
    "\n",
    "***df.append(other,ignore_index=False,verify_integrity=False,sort=False)***\n",
    "\n",
    "将other追加到调用者的末尾，**返回一个新的对象**，\"other\"行中不在调用者中的列将作为新列添加。\n",
    "\n",
    "- other: DataFrame或Series/dict類对象，或这些对象的列表\n",
    "\n",
    "- ignore_index: 默认为False,如果True将不再适用index标签\n",
    "\n",
    "- verify_integrity: 默认为False，如果为True，则在创建具有重复项索引时引发ValueError\n",
    "\n",
    "- sort: 排序"
   ]
  },
  {
   "cell_type": "code",
   "execution_count": 6,
   "metadata": {},
   "outputs": [
    {
     "data": {
      "text/html": [
       "<div>\n",
       "<style scoped>\n",
       "    .dataframe tbody tr th:only-of-type {\n",
       "        vertical-align: middle;\n",
       "    }\n",
       "\n",
       "    .dataframe tbody tr th {\n",
       "        vertical-align: top;\n",
       "    }\n",
       "\n",
       "    .dataframe thead th {\n",
       "        text-align: right;\n",
       "    }\n",
       "</style>\n",
       "<table border=\"1\" class=\"dataframe\">\n",
       "  <thead>\n",
       "    <tr style=\"text-align: right;\">\n",
       "      <th></th>\n",
       "      <th>Name</th>\n",
       "      <th>Age</th>\n",
       "      <th>Tall</th>\n",
       "    </tr>\n",
       "  </thead>\n",
       "  <tbody>\n",
       "    <tr>\n",
       "      <th>a</th>\n",
       "      <td>Hud</td>\n",
       "      <td>24</td>\n",
       "      <td>1.80</td>\n",
       "    </tr>\n",
       "    <tr>\n",
       "      <th>b</th>\n",
       "      <td>Monica</td>\n",
       "      <td>22</td>\n",
       "      <td>1.65</td>\n",
       "    </tr>\n",
       "    <tr>\n",
       "      <th>c</th>\n",
       "      <td>Qb</td>\n",
       "      <td>1</td>\n",
       "      <td>0.40</td>\n",
       "    </tr>\n",
       "  </tbody>\n",
       "</table>\n",
       "</div>"
      ],
      "text/plain": [
       "     Name  Age  Tall\n",
       "a     Hud   24  1.80\n",
       "b  Monica   22  1.65\n",
       "c      Qb    1  0.40"
      ]
     },
     "execution_count": 6,
     "metadata": {},
     "output_type": "execute_result"
    }
   ],
   "source": [
    "data =  {\n",
    "        'Name':['Hud','Monica','Qb'],\n",
    "        'Age':[24,22,1],\n",
    "        'Tall':[1.80,1.65,0.4]\n",
    "}\n",
    "df = pd.DataFrame(data,index=['a','b','c'])\n",
    "df"
   ]
  },
  {
   "cell_type": "code",
   "execution_count": 10,
   "metadata": {},
   "outputs": [
    {
     "data": {
      "text/html": [
       "<div>\n",
       "<style scoped>\n",
       "    .dataframe tbody tr th:only-of-type {\n",
       "        vertical-align: middle;\n",
       "    }\n",
       "\n",
       "    .dataframe tbody tr th {\n",
       "        vertical-align: top;\n",
       "    }\n",
       "\n",
       "    .dataframe thead th {\n",
       "        text-align: right;\n",
       "    }\n",
       "</style>\n",
       "<table border=\"1\" class=\"dataframe\">\n",
       "  <thead>\n",
       "    <tr style=\"text-align: right;\">\n",
       "      <th></th>\n",
       "      <th>Name</th>\n",
       "      <th>Age</th>\n",
       "      <th>Tall</th>\n",
       "    </tr>\n",
       "  </thead>\n",
       "  <tbody>\n",
       "    <tr>\n",
       "      <th>0</th>\n",
       "      <td>Hud</td>\n",
       "      <td>24</td>\n",
       "      <td>1.80</td>\n",
       "    </tr>\n",
       "    <tr>\n",
       "      <th>1</th>\n",
       "      <td>Monica</td>\n",
       "      <td>22</td>\n",
       "      <td>1.65</td>\n",
       "    </tr>\n",
       "    <tr>\n",
       "      <th>2</th>\n",
       "      <td>Qb</td>\n",
       "      <td>1</td>\n",
       "      <td>0.40</td>\n",
       "    </tr>\n",
       "    <tr>\n",
       "      <th>3</th>\n",
       "      <td>SunXX</td>\n",
       "      <td>49</td>\n",
       "      <td>1.63</td>\n",
       "    </tr>\n",
       "  </tbody>\n",
       "</table>\n",
       "</div>"
      ],
      "text/plain": [
       "     Name  Age  Tall\n",
       "0     Hud   24  1.80\n",
       "1  Monica   22  1.65\n",
       "2      Qb    1  0.40\n",
       "3   SunXX   49  1.63"
      ]
     },
     "execution_count": 10,
     "metadata": {},
     "output_type": "execute_result"
    }
   ],
   "source": [
    "d2 = {'Name':\"SunXX\",\"Tall\":1.63,'Age':49}\n",
    "# 在行末追加新的数据行\n",
    "# df3 = df.append(d2) 这里会报错，因为不知道行标签该给什么\n",
    "df3 = df.append(d2,ignore_index=True)\n",
    "df3"
   ]
  },
  {
   "cell_type": "code",
   "execution_count": 15,
   "metadata": {},
   "outputs": [
    {
     "name": "stdout",
     "output_type": "stream",
     "text": [
      "Name     QTY\n",
      "Age       24\n",
      "Tall    1.81\n",
      "Name: d, dtype: object\n",
      "=====================\n",
      "     Name  Age  Tall\n",
      "a     Hud   24  1.80\n",
      "b  Monica   22  1.65\n",
      "c      Qb    1  0.40\n",
      "d     QTY   24  1.81\n"
     ]
    }
   ],
   "source": [
    "# 或者转化为一个series\n",
    "d2 = {\"Name\":\"QTY\",\"Age\":24,\"Tall\":1.81}\n",
    "s = pd.Series(d2,name=\"d\")\n",
    "print(s)\n",
    "# 在行末尾追加新的数据行\n",
    "df3 = df.append(s)\n",
    "print(\"=====================\")\n",
    "print(df3)"
   ]
  },
  {
   "attachments": {},
   "cell_type": "markdown",
   "metadata": {},
   "source": [
    "**2) 追加列表**\n",
    "\n",
    "- 如果list是一维的，则以列的形式追加\n",
    "\n",
    "- 如果list是二维的，则以行的形式追加\n",
    "\n",
    "- 如果list是三维的，只添加一个值\n",
    "\n",
    "\n",
    "\n",
    "\n",
    "\n",
    "\n",
    "\n",
    "      "
   ]
  },
  {
   "attachments": {},
   "cell_type": "markdown",
   "metadata": {},
   "source": [
    "**list 是一维的，则以列的形式追加**"
   ]
  },
  {
   "cell_type": "code",
   "execution_count": 27,
   "metadata": {},
   "outputs": [
    {
     "name": "stdout",
     "output_type": "stream",
     "text": [
      "   0  1  2  3\n",
      "a  1  2  3  4\n",
      "b  5  6  7  8\n",
      "    0    1    2    3\n",
      "a   1  2.0  3.0  4.0\n",
      "b   5  6.0  7.0  8.0\n",
      "0  10  NaN  NaN  NaN\n",
      "1  20  NaN  NaN  NaN\n"
     ]
    }
   ],
   "source": [
    "data = [[1,2,3,4],[5,6,7,8]]\n",
    "df = pd.DataFrame(data,index=['a','b'])\n",
    "print(df)\n",
    "a1 = [10,20]\n",
    "df3 = df.append(a1)\n",
    "print(df3)"
   ]
  },
  {
   "attachments": {},
   "cell_type": "markdown",
   "metadata": {},
   "source": [
    "**追加一个二维的**"
   ]
  },
  {
   "cell_type": "code",
   "execution_count": 17,
   "metadata": {},
   "outputs": [
    {
     "data": {
      "text/html": [
       "<div>\n",
       "<style scoped>\n",
       "    .dataframe tbody tr th:only-of-type {\n",
       "        vertical-align: middle;\n",
       "    }\n",
       "\n",
       "    .dataframe tbody tr th {\n",
       "        vertical-align: top;\n",
       "    }\n",
       "\n",
       "    .dataframe thead th {\n",
       "        text-align: right;\n",
       "    }\n",
       "</style>\n",
       "<table border=\"1\" class=\"dataframe\">\n",
       "  <thead>\n",
       "    <tr style=\"text-align: right;\">\n",
       "      <th></th>\n",
       "      <th>0</th>\n",
       "      <th>1</th>\n",
       "      <th>2</th>\n",
       "      <th>Age</th>\n",
       "      <th>Name</th>\n",
       "      <th>Tall</th>\n",
       "    </tr>\n",
       "  </thead>\n",
       "  <tbody>\n",
       "    <tr>\n",
       "      <th>0</th>\n",
       "      <td>NaN</td>\n",
       "      <td>NaN</td>\n",
       "      <td>NaN</td>\n",
       "      <td>24.0</td>\n",
       "      <td>Hud</td>\n",
       "      <td>1.80</td>\n",
       "    </tr>\n",
       "    <tr>\n",
       "      <th>1</th>\n",
       "      <td>NaN</td>\n",
       "      <td>NaN</td>\n",
       "      <td>NaN</td>\n",
       "      <td>22.0</td>\n",
       "      <td>Monica</td>\n",
       "      <td>1.65</td>\n",
       "    </tr>\n",
       "    <tr>\n",
       "      <th>2</th>\n",
       "      <td>NaN</td>\n",
       "      <td>NaN</td>\n",
       "      <td>NaN</td>\n",
       "      <td>1.0</td>\n",
       "      <td>Qb</td>\n",
       "      <td>0.40</td>\n",
       "    </tr>\n",
       "    <tr>\n",
       "      <th>3</th>\n",
       "      <td>10.0</td>\n",
       "      <td>20</td>\n",
       "      <td>30.0</td>\n",
       "      <td>NaN</td>\n",
       "      <td>NaN</td>\n",
       "      <td>NaN</td>\n",
       "    </tr>\n",
       "  </tbody>\n",
       "</table>\n",
       "</div>"
      ],
      "text/plain": [
       "      0    1     2   Age    Name  Tall\n",
       "0   NaN  NaN   NaN  24.0     Hud  1.80\n",
       "1   NaN  NaN   NaN  22.0  Monica  1.65\n",
       "2   NaN  NaN   NaN   1.0      Qb  0.40\n",
       "3  10.0   20  30.0   NaN     NaN   NaN"
      ]
     },
     "execution_count": 17,
     "metadata": {},
     "output_type": "execute_result"
    }
   ],
   "source": [
    "a1 = [[10,\"20\",30]]\n",
    "df4 = df.append(a1,ignore_index=True)\n",
    "df4"
   ]
  },
  {
   "cell_type": "code",
   "execution_count": 23,
   "metadata": {},
   "outputs": [
    {
     "data": {
      "text/html": [
       "<div>\n",
       "<style scoped>\n",
       "    .dataframe tbody tr th:only-of-type {\n",
       "        vertical-align: middle;\n",
       "    }\n",
       "\n",
       "    .dataframe tbody tr th {\n",
       "        vertical-align: top;\n",
       "    }\n",
       "\n",
       "    .dataframe thead th {\n",
       "        text-align: right;\n",
       "    }\n",
       "</style>\n",
       "<table border=\"1\" class=\"dataframe\">\n",
       "  <thead>\n",
       "    <tr style=\"text-align: right;\">\n",
       "      <th></th>\n",
       "      <th>Name</th>\n",
       "      <th>Age</th>\n",
       "      <th>Tall</th>\n",
       "    </tr>\n",
       "  </thead>\n",
       "  <tbody>\n",
       "    <tr>\n",
       "      <th>0</th>\n",
       "      <td>Hud</td>\n",
       "      <td>24</td>\n",
       "      <td>1.80</td>\n",
       "    </tr>\n",
       "    <tr>\n",
       "      <th>1</th>\n",
       "      <td>Monica</td>\n",
       "      <td>22</td>\n",
       "      <td>1.65</td>\n",
       "    </tr>\n",
       "    <tr>\n",
       "      <th>2</th>\n",
       "      <td>Qb</td>\n",
       "      <td>1</td>\n",
       "      <td>0.40</td>\n",
       "    </tr>\n",
       "    <tr>\n",
       "      <th>0</th>\n",
       "      <td>10</td>\n",
       "      <td>20</td>\n",
       "      <td>30.00</td>\n",
       "    </tr>\n",
       "    <tr>\n",
       "      <th>1</th>\n",
       "      <td>2</td>\n",
       "      <td>5</td>\n",
       "      <td>6.00</td>\n",
       "    </tr>\n",
       "  </tbody>\n",
       "</table>\n",
       "</div>"
      ],
      "text/plain": [
       "     Name Age   Tall\n",
       "0     Hud  24   1.80\n",
       "1  Monica  22   1.65\n",
       "2      Qb   1   0.40\n",
       "0      10  20  30.00\n",
       "1       2   5   6.00"
      ]
     },
     "execution_count": 23,
     "metadata": {},
     "output_type": "execute_result"
    }
   ],
   "source": [
    "data =  {\n",
    "        'Name':['Hud','Monica','Qb'],\n",
    "        'Age':[24,22,1],\n",
    "        'Tall':[1.80,1.65,0.4]\n",
    "}\n",
    "df = pd.DataFrame(data)\n",
    "a1 = [[10,\"20\",30],[2,5,6]]\n",
    "df2 = pd.DataFrame(a1,columns=[\"Name\",\"Age\",\"Tall\"])\n",
    "df4 = df.append(df2)\n",
    "df4"
   ]
  },
  {
   "attachments": {},
   "cell_type": "markdown",
   "metadata": {},
   "source": [
    "**追加三维的数据**"
   ]
  },
  {
   "cell_type": "code",
   "execution_count": 28,
   "metadata": {},
   "outputs": [
    {
     "data": {
      "text/html": [
       "<div>\n",
       "<style scoped>\n",
       "    .dataframe tbody tr th:only-of-type {\n",
       "        vertical-align: middle;\n",
       "    }\n",
       "\n",
       "    .dataframe tbody tr th {\n",
       "        vertical-align: top;\n",
       "    }\n",
       "\n",
       "    .dataframe thead th {\n",
       "        text-align: right;\n",
       "    }\n",
       "</style>\n",
       "<table border=\"1\" class=\"dataframe\">\n",
       "  <thead>\n",
       "    <tr style=\"text-align: right;\">\n",
       "      <th></th>\n",
       "      <th>0</th>\n",
       "      <th>1</th>\n",
       "      <th>2</th>\n",
       "      <th>3</th>\n",
       "    </tr>\n",
       "  </thead>\n",
       "  <tbody>\n",
       "    <tr>\n",
       "      <th>a</th>\n",
       "      <td>1</td>\n",
       "      <td>2.0</td>\n",
       "      <td>3.0</td>\n",
       "      <td>4.0</td>\n",
       "    </tr>\n",
       "    <tr>\n",
       "      <th>b</th>\n",
       "      <td>5</td>\n",
       "      <td>6.0</td>\n",
       "      <td>7.0</td>\n",
       "      <td>8.0</td>\n",
       "    </tr>\n",
       "    <tr>\n",
       "      <th>0</th>\n",
       "      <td>[1, 2, 3, 4]</td>\n",
       "      <td>NaN</td>\n",
       "      <td>NaN</td>\n",
       "      <td>NaN</td>\n",
       "    </tr>\n",
       "  </tbody>\n",
       "</table>\n",
       "</div>"
      ],
      "text/plain": [
       "              0    1    2    3\n",
       "a             1  2.0  3.0  4.0\n",
       "b             5  6.0  7.0  8.0\n",
       "0  [1, 2, 3, 4]  NaN  NaN  NaN"
      ]
     },
     "execution_count": 28,
     "metadata": {},
     "output_type": "execute_result"
    }
   ],
   "source": [
    "data = [[1,2,3,4],[5,6,7,8]]\n",
    "df = pd.DataFrame(data,index=['a','b'])\n",
    "s = [[[1,2,3,4]]]\n",
    "df2 = df.append(s)\n",
    "df2"
   ]
  },
  {
   "attachments": {},
   "cell_type": "markdown",
   "metadata": {},
   "source": [
    "**4.刪除数据行**\n",
    "\n",
    "可以使用行索引标签，从DataFrame中删除某一行数据，如果索引标签存在重复，那么他将被一起删除"
   ]
  },
  {
   "cell_type": "code",
   "execution_count": 34,
   "metadata": {},
   "outputs": [
    {
     "name": "stdout",
     "output_type": "stream",
     "text": [
      "============源数据===========\n",
      "   a  b\n",
      "0  1  2\n",
      "1  3  4\n",
      "0  5  6\n",
      "1  7  8\n",
      "============修改后的df1=============\n",
      "   a  b\n",
      "1  3  4\n",
      "1  7  8\n",
      "============源数据df===========\n",
      "   a  b\n",
      "0  1  2\n",
      "1  3  4\n",
      "0  5  6\n",
      "1  7  8\n"
     ]
    }
   ],
   "source": [
    "df1 = pd.DataFrame([[1,2],[3,4]],columns=['a','b'])\n",
    "df2 = pd.DataFrame([[5,6],[7,8]],columns=['a','b'])\n",
    "\n",
    "df = df1.append(df2)\n",
    "print(\"============源数据===========\")\n",
    "print(df)\n",
    "# 这里使用drop方法，drop方法默认不会更改源数据\n",
    "df1 = df.drop(0)\n",
    "print(\"============修改后的df1=============\")\n",
    "print(df1)\n",
    "print(\"============源数据df===========\")\n",
    "print(df)"
   ]
  },
  {
   "cell_type": "code",
   "execution_count": 3,
   "metadata": {},
   "outputs": [
    {
     "data": {
      "text/html": [
       "<div>\n",
       "<style scoped>\n",
       "    .dataframe tbody tr th:only-of-type {\n",
       "        vertical-align: middle;\n",
       "    }\n",
       "\n",
       "    .dataframe tbody tr th {\n",
       "        vertical-align: top;\n",
       "    }\n",
       "\n",
       "    .dataframe thead th {\n",
       "        text-align: right;\n",
       "    }\n",
       "</style>\n",
       "<table border=\"1\" class=\"dataframe\">\n",
       "  <thead>\n",
       "    <tr style=\"text-align: right;\">\n",
       "      <th></th>\n",
       "      <th>Name</th>\n",
       "      <th>Age</th>\n",
       "      <th>Tall</th>\n",
       "    </tr>\n",
       "  </thead>\n",
       "  <tbody>\n",
       "    <tr>\n",
       "      <th>0</th>\n",
       "      <td>Hud</td>\n",
       "      <td>24</td>\n",
       "      <td>1.80</td>\n",
       "    </tr>\n",
       "    <tr>\n",
       "      <th>1</th>\n",
       "      <td>Monica</td>\n",
       "      <td>22</td>\n",
       "      <td>1.65</td>\n",
       "    </tr>\n",
       "    <tr>\n",
       "      <th>2</th>\n",
       "      <td>Qb</td>\n",
       "      <td>1</td>\n",
       "      <td>0.40</td>\n",
       "    </tr>\n",
       "    <tr>\n",
       "      <th>3</th>\n",
       "      <td>QTY</td>\n",
       "      <td>24</td>\n",
       "      <td>1.81</td>\n",
       "    </tr>\n",
       "  </tbody>\n",
       "</table>\n",
       "</div>"
      ],
      "text/plain": [
       "     Name  Age  Tall\n",
       "0     Hud   24  1.80\n",
       "1  Monica   22  1.65\n",
       "2      Qb    1  0.40\n",
       "3     QTY   24  1.81"
      ]
     },
     "execution_count": 3,
     "metadata": {},
     "output_type": "execute_result"
    }
   ],
   "source": [
    "data =  {\n",
    "        'Name':['Hud','Monica','Qb','QTY'],\n",
    "        'Age':[24,22,1,24],\n",
    "        'Tall':[1.80,1.65,0.4,1.81]\n",
    "}\n",
    "df = pd.DataFrame(data)\n",
    "df"
   ]
  },
  {
   "attachments": {},
   "cell_type": "markdown",
   "metadata": {},
   "source": [
    "- **转置**"
   ]
  },
  {
   "cell_type": "code",
   "execution_count": 4,
   "metadata": {},
   "outputs": [
    {
     "data": {
      "text/html": [
       "<div>\n",
       "<style scoped>\n",
       "    .dataframe tbody tr th:only-of-type {\n",
       "        vertical-align: middle;\n",
       "    }\n",
       "\n",
       "    .dataframe tbody tr th {\n",
       "        vertical-align: top;\n",
       "    }\n",
       "\n",
       "    .dataframe thead th {\n",
       "        text-align: right;\n",
       "    }\n",
       "</style>\n",
       "<table border=\"1\" class=\"dataframe\">\n",
       "  <thead>\n",
       "    <tr style=\"text-align: right;\">\n",
       "      <th></th>\n",
       "      <th>0</th>\n",
       "      <th>1</th>\n",
       "      <th>2</th>\n",
       "      <th>3</th>\n",
       "    </tr>\n",
       "  </thead>\n",
       "  <tbody>\n",
       "    <tr>\n",
       "      <th>Name</th>\n",
       "      <td>Hud</td>\n",
       "      <td>Monica</td>\n",
       "      <td>Qb</td>\n",
       "      <td>QTY</td>\n",
       "    </tr>\n",
       "    <tr>\n",
       "      <th>Age</th>\n",
       "      <td>24</td>\n",
       "      <td>22</td>\n",
       "      <td>1</td>\n",
       "      <td>24</td>\n",
       "    </tr>\n",
       "    <tr>\n",
       "      <th>Tall</th>\n",
       "      <td>1.8</td>\n",
       "      <td>1.65</td>\n",
       "      <td>0.4</td>\n",
       "      <td>1.81</td>\n",
       "    </tr>\n",
       "  </tbody>\n",
       "</table>\n",
       "</div>"
      ],
      "text/plain": [
       "        0       1    2     3\n",
       "Name  Hud  Monica   Qb   QTY\n",
       "Age    24      22    1    24\n",
       "Tall  1.8    1.65  0.4  1.81"
      ]
     },
     "execution_count": 4,
     "metadata": {},
     "output_type": "execute_result"
    }
   ],
   "source": [
    "df.T"
   ]
  },
  {
   "attachments": {},
   "cell_type": "markdown",
   "metadata": {},
   "source": [
    "- **axes**\n",
    "\n",
    "返回一个行标签，列标签组成的列表"
   ]
  },
  {
   "cell_type": "code",
   "execution_count": 5,
   "metadata": {},
   "outputs": [
    {
     "data": {
      "text/plain": [
       "[RangeIndex(start=0, stop=4, step=1),\n",
       " Index(['Name', 'Age', 'Tall'], dtype='object')]"
      ]
     },
     "execution_count": 5,
     "metadata": {},
     "output_type": "execute_result"
    }
   ],
   "source": [
    "df.axes"
   ]
  },
  {
   "attachments": {},
   "cell_type": "markdown",
   "metadata": {},
   "source": [
    "- **dtypes**\n",
    "\n",
    "返回Series每一列的数据类型"
   ]
  },
  {
   "cell_type": "code",
   "execution_count": 6,
   "metadata": {},
   "outputs": [
    {
     "data": {
      "text/plain": [
       "Name     object\n",
       "Age       int64\n",
       "Tall    float64\n",
       "dtype: object"
      ]
     },
     "execution_count": 6,
     "metadata": {},
     "output_type": "execute_result"
    }
   ],
   "source": [
    "df.dtypes"
   ]
  },
  {
   "attachments": {},
   "cell_type": "markdown",
   "metadata": {},
   "source": [
    "- **empty**\n",
    "\n",
    "返回一个布尔值，判断输出的数据对象是否为空，若为TRUE表示对象为空"
   ]
  },
  {
   "cell_type": "code",
   "execution_count": 7,
   "metadata": {},
   "outputs": [
    {
     "data": {
      "text/plain": [
       "False"
      ]
     },
     "execution_count": 7,
     "metadata": {},
     "output_type": "execute_result"
    }
   ],
   "source": [
    "df.empty"
   ]
  },
  {
   "cell_type": "code",
   "execution_count": 8,
   "metadata": {},
   "outputs": [
    {
     "data": {
      "text/plain": [
       "True"
      ]
     },
     "execution_count": 8,
     "metadata": {},
     "output_type": "execute_result"
    }
   ],
   "source": [
    "df_empty = pd.DataFrame()\n",
    "df_empty.empty"
   ]
  },
  {
   "attachments": {},
   "cell_type": "markdown",
   "metadata": {},
   "source": [
    "#### **修改标签名**\n",
    "\n",
    "***DataFrame.rename(index=None,columns=None,inplace=False)***\n",
    "\n",
    "- **index**: 修改后的行标签\n",
    "\n",
    "- **columns**: 修改后的列标签\n",
    "\n",
    "- **inplace**: 默认为False,不改变源数据，返回修改后的数据，True则更改源数据"
   ]
  },
  {
   "cell_type": "code",
   "execution_count": 9,
   "metadata": {},
   "outputs": [
    {
     "data": {
      "text/html": [
       "<div>\n",
       "<style scoped>\n",
       "    .dataframe tbody tr th:only-of-type {\n",
       "        vertical-align: middle;\n",
       "    }\n",
       "\n",
       "    .dataframe tbody tr th {\n",
       "        vertical-align: top;\n",
       "    }\n",
       "\n",
       "    .dataframe thead th {\n",
       "        text-align: right;\n",
       "    }\n",
       "</style>\n",
       "<table border=\"1\" class=\"dataframe\">\n",
       "  <thead>\n",
       "    <tr style=\"text-align: right;\">\n",
       "      <th></th>\n",
       "      <th>Name</th>\n",
       "      <th>Age</th>\n",
       "      <th>Tall</th>\n",
       "    </tr>\n",
       "  </thead>\n",
       "  <tbody>\n",
       "    <tr>\n",
       "      <th>0</th>\n",
       "      <td>Hud</td>\n",
       "      <td>24</td>\n",
       "      <td>1.80</td>\n",
       "    </tr>\n",
       "    <tr>\n",
       "      <th>1</th>\n",
       "      <td>Monica</td>\n",
       "      <td>22</td>\n",
       "      <td>1.65</td>\n",
       "    </tr>\n",
       "    <tr>\n",
       "      <th>2</th>\n",
       "      <td>Qb</td>\n",
       "      <td>1</td>\n",
       "      <td>0.40</td>\n",
       "    </tr>\n",
       "    <tr>\n",
       "      <th>3</th>\n",
       "      <td>QTY</td>\n",
       "      <td>24</td>\n",
       "      <td>1.81</td>\n",
       "    </tr>\n",
       "  </tbody>\n",
       "</table>\n",
       "</div>"
      ],
      "text/plain": [
       "     Name  Age  Tall\n",
       "0     Hud   24  1.80\n",
       "1  Monica   22  1.65\n",
       "2      Qb    1  0.40\n",
       "3     QTY   24  1.81"
      ]
     },
     "execution_count": 9,
     "metadata": {},
     "output_type": "execute_result"
    }
   ],
   "source": [
    "df"
   ]
  },
  {
   "cell_type": "code",
   "execution_count": 13,
   "metadata": {},
   "outputs": [
    {
     "data": {
      "text/html": [
       "<div>\n",
       "<style scoped>\n",
       "    .dataframe tbody tr th:only-of-type {\n",
       "        vertical-align: middle;\n",
       "    }\n",
       "\n",
       "    .dataframe tbody tr th {\n",
       "        vertical-align: top;\n",
       "    }\n",
       "\n",
       "    .dataframe thead th {\n",
       "        text-align: right;\n",
       "    }\n",
       "</style>\n",
       "<table border=\"1\" class=\"dataframe\">\n",
       "  <thead>\n",
       "    <tr style=\"text-align: right;\">\n",
       "      <th></th>\n",
       "      <th>Name</th>\n",
       "      <th>Age</th>\n",
       "      <th>Tall</th>\n",
       "    </tr>\n",
       "  </thead>\n",
       "  <tbody>\n",
       "    <tr>\n",
       "      <th>row1</th>\n",
       "      <td>Hud</td>\n",
       "      <td>24</td>\n",
       "      <td>1.80</td>\n",
       "    </tr>\n",
       "    <tr>\n",
       "      <th>row2</th>\n",
       "      <td>Monica</td>\n",
       "      <td>22</td>\n",
       "      <td>1.65</td>\n",
       "    </tr>\n",
       "    <tr>\n",
       "      <th>row3</th>\n",
       "      <td>Qb</td>\n",
       "      <td>1</td>\n",
       "      <td>0.40</td>\n",
       "    </tr>\n",
       "    <tr>\n",
       "      <th>row4</th>\n",
       "      <td>QTY</td>\n",
       "      <td>24</td>\n",
       "      <td>1.81</td>\n",
       "    </tr>\n",
       "  </tbody>\n",
       "</table>\n",
       "</div>"
      ],
      "text/plain": [
       "        Name  Age  Tall\n",
       "row1     Hud   24  1.80\n",
       "row2  Monica   22  1.65\n",
       "row3      Qb    1  0.40\n",
       "row4     QTY   24  1.81"
      ]
     },
     "execution_count": 13,
     "metadata": {},
     "output_type": "execute_result"
    }
   ],
   "source": [
    "# 修改df的行标签\n",
    "df.rename(index={0:\"row1\",1:\"row2\",2:\"row3\",3:\"row4\"})"
   ]
  },
  {
   "cell_type": "code",
   "execution_count": 12,
   "metadata": {},
   "outputs": [
    {
     "data": {
      "text/html": [
       "<div>\n",
       "<style scoped>\n",
       "    .dataframe tbody tr th:only-of-type {\n",
       "        vertical-align: middle;\n",
       "    }\n",
       "\n",
       "    .dataframe tbody tr th {\n",
       "        vertical-align: top;\n",
       "    }\n",
       "\n",
       "    .dataframe thead th {\n",
       "        text-align: right;\n",
       "    }\n",
       "</style>\n",
       "<table border=\"1\" class=\"dataframe\">\n",
       "  <thead>\n",
       "    <tr style=\"text-align: right;\">\n",
       "      <th></th>\n",
       "      <th>姓名</th>\n",
       "      <th>年龄</th>\n",
       "      <th>身高</th>\n",
       "    </tr>\n",
       "  </thead>\n",
       "  <tbody>\n",
       "    <tr>\n",
       "      <th>0</th>\n",
       "      <td>Hud</td>\n",
       "      <td>24</td>\n",
       "      <td>1.80</td>\n",
       "    </tr>\n",
       "    <tr>\n",
       "      <th>1</th>\n",
       "      <td>Monica</td>\n",
       "      <td>22</td>\n",
       "      <td>1.65</td>\n",
       "    </tr>\n",
       "    <tr>\n",
       "      <th>2</th>\n",
       "      <td>Qb</td>\n",
       "      <td>1</td>\n",
       "      <td>0.40</td>\n",
       "    </tr>\n",
       "    <tr>\n",
       "      <th>3</th>\n",
       "      <td>QTY</td>\n",
       "      <td>24</td>\n",
       "      <td>1.81</td>\n",
       "    </tr>\n",
       "  </tbody>\n",
       "</table>\n",
       "</div>"
      ],
      "text/plain": [
       "       姓名  年龄    身高\n",
       "0     Hud  24  1.80\n",
       "1  Monica  22  1.65\n",
       "2      Qb   1  0.40\n",
       "3     QTY  24  1.81"
      ]
     },
     "execution_count": 12,
     "metadata": {},
     "output_type": "execute_result"
    }
   ],
   "source": [
    "# 修改变量df的列标签\n",
    "df.rename(columns={\"Name\":\"姓名\",\"Age\":\"年龄\",\"Tall\":\"身高\"})"
   ]
  },
  {
   "cell_type": "code",
   "execution_count": 14,
   "metadata": {},
   "outputs": [
    {
     "data": {
      "text/html": [
       "<div>\n",
       "<style scoped>\n",
       "    .dataframe tbody tr th:only-of-type {\n",
       "        vertical-align: middle;\n",
       "    }\n",
       "\n",
       "    .dataframe tbody tr th {\n",
       "        vertical-align: top;\n",
       "    }\n",
       "\n",
       "    .dataframe thead th {\n",
       "        text-align: right;\n",
       "    }\n",
       "</style>\n",
       "<table border=\"1\" class=\"dataframe\">\n",
       "  <thead>\n",
       "    <tr style=\"text-align: right;\">\n",
       "      <th></th>\n",
       "      <th>姓名</th>\n",
       "      <th>年龄</th>\n",
       "      <th>身高</th>\n",
       "    </tr>\n",
       "  </thead>\n",
       "  <tbody>\n",
       "    <tr>\n",
       "      <th>row1</th>\n",
       "      <td>Hud</td>\n",
       "      <td>24</td>\n",
       "      <td>1.80</td>\n",
       "    </tr>\n",
       "    <tr>\n",
       "      <th>row2</th>\n",
       "      <td>Monica</td>\n",
       "      <td>22</td>\n",
       "      <td>1.65</td>\n",
       "    </tr>\n",
       "    <tr>\n",
       "      <th>row3</th>\n",
       "      <td>Qb</td>\n",
       "      <td>1</td>\n",
       "      <td>0.40</td>\n",
       "    </tr>\n",
       "    <tr>\n",
       "      <th>row4</th>\n",
       "      <td>QTY</td>\n",
       "      <td>24</td>\n",
       "      <td>1.81</td>\n",
       "    </tr>\n",
       "  </tbody>\n",
       "</table>\n",
       "</div>"
      ],
      "text/plain": [
       "          姓名  年龄    身高\n",
       "row1     Hud  24  1.80\n",
       "row2  Monica  22  1.65\n",
       "row3      Qb   1  0.40\n",
       "row4     QTY  24  1.81"
      ]
     },
     "execution_count": 14,
     "metadata": {},
     "output_type": "execute_result"
    }
   ],
   "source": [
    "# 添加inplace参数，修改源数据\n",
    "df.rename(index={0:\"row1\",1:\"row2\",2:\"row3\",3:\"row4\"},columns={\"Name\":\"姓名\",\"Age\":\"年龄\",\"Tall\":\"身高\"},inplace=True)\n",
    "df"
   ]
  },
  {
   "attachments": {},
   "cell_type": "markdown",
   "metadata": {},
   "source": [
    "#### **Info()函数**\n",
    "\n",
    "用于打印DataFrame的简要摘要，显示有关DataFrame的信息，包括索引的数据类型dtype，非空值的数量和内存使用情况。"
   ]
  },
  {
   "cell_type": "code",
   "execution_count": 16,
   "metadata": {},
   "outputs": [
    {
     "data": {
      "text/html": [
       "<div>\n",
       "<style scoped>\n",
       "    .dataframe tbody tr th:only-of-type {\n",
       "        vertical-align: middle;\n",
       "    }\n",
       "\n",
       "    .dataframe tbody tr th {\n",
       "        vertical-align: top;\n",
       "    }\n",
       "\n",
       "    .dataframe thead th {\n",
       "        text-align: right;\n",
       "    }\n",
       "</style>\n",
       "<table border=\"1\" class=\"dataframe\">\n",
       "  <thead>\n",
       "    <tr style=\"text-align: right;\">\n",
       "      <th></th>\n",
       "      <th>姓名</th>\n",
       "      <th>年龄</th>\n",
       "      <th>身高</th>\n",
       "    </tr>\n",
       "  </thead>\n",
       "  <tbody>\n",
       "    <tr>\n",
       "      <th>0</th>\n",
       "      <td>Hud</td>\n",
       "      <td>24</td>\n",
       "      <td>1.80</td>\n",
       "    </tr>\n",
       "    <tr>\n",
       "      <th>1</th>\n",
       "      <td>Monica</td>\n",
       "      <td>22</td>\n",
       "      <td>1.65</td>\n",
       "    </tr>\n",
       "    <tr>\n",
       "      <th>2</th>\n",
       "      <td>Qb</td>\n",
       "      <td>1</td>\n",
       "      <td>0.40</td>\n",
       "    </tr>\n",
       "    <tr>\n",
       "      <th>3</th>\n",
       "      <td>QTY</td>\n",
       "      <td>24</td>\n",
       "      <td>1.81</td>\n",
       "    </tr>\n",
       "    <tr>\n",
       "      <th>4</th>\n",
       "      <td>Gqc</td>\n",
       "      <td>22</td>\n",
       "      <td>1.65</td>\n",
       "    </tr>\n",
       "  </tbody>\n",
       "</table>\n",
       "</div>"
      ],
      "text/plain": [
       "       姓名  年龄    身高\n",
       "0     Hud  24  1.80\n",
       "1  Monica  22  1.65\n",
       "2      Qb   1  0.40\n",
       "3     QTY  24  1.81\n",
       "4     Gqc  22  1.65"
      ]
     },
     "execution_count": 16,
     "metadata": {},
     "output_type": "execute_result"
    }
   ],
   "source": [
    "# 创建一组数据\n",
    "data =  {\n",
    "        'Name':['Hud','Monica','Qb','QTY'],\n",
    "        'Age':[24,22,1,24],\n",
    "        'Tall':[1.80,1.65,0.4,1.81]\n",
    "}\n",
    "data1 = {\"姓名\":\"Gqc\",\"年龄\":22,\"身高\":1.65}\n",
    "# 将数据追加到df数据中\n",
    "df = df.append(data1,ignore_index=True)\n",
    "df"
   ]
  },
  {
   "cell_type": "code",
   "execution_count": 18,
   "metadata": {},
   "outputs": [
    {
     "name": "stdout",
     "output_type": "stream",
     "text": [
      "<class 'pandas.core.frame.DataFrame'>\n",
      "RangeIndex: 5 entries, 0 to 4\n",
      "Data columns (total 3 columns):\n",
      " #   Column  Non-Null Count  Dtype  \n",
      "---  ------  --------------  -----  \n",
      " 0   姓名      5 non-null      object \n",
      " 1   年龄      5 non-null      int64  \n",
      " 2   身高      5 non-null      float64\n",
      "dtypes: float64(1), int64(1), object(1)\n",
      "memory usage: 248.0+ bytes\n"
     ]
    }
   ],
   "source": [
    "df.info()"
   ]
  },
  {
   "attachments": {},
   "cell_type": "markdown",
   "metadata": {},
   "source": [
    "#### **df.sort_index()**\n",
    "\n",
    "***sort_index(axis=0,ascending=True,inplace=False)***\n",
    "\n",
    "作用: 默认根据行标签对所有行进行排序，或根据列标签对所有列进行排序，或根据指定某列或某几列对行排序。\n",
    "\n",
    "**注意:**df.sort_index()可以完成和df.sort_values()完全相同的功能，但python更推荐只用f.sort_index()进行排序，其他方式使用df.sort_values()。\n",
    "\n",
    "- **axis:** 0按照行名排序,1按照列名排序\n",
    "\n",
    "- **ascending:** 默认True升序排列,False降序排列\n",
    "\n",
    "- **inplace:** 默认False,否则替换源数据"
   ]
  },
  {
   "cell_type": "code",
   "execution_count": 19,
   "metadata": {},
   "outputs": [
    {
     "data": {
      "text/html": [
       "<div>\n",
       "<style scoped>\n",
       "    .dataframe tbody tr th:only-of-type {\n",
       "        vertical-align: middle;\n",
       "    }\n",
       "\n",
       "    .dataframe tbody tr th {\n",
       "        vertical-align: top;\n",
       "    }\n",
       "\n",
       "    .dataframe thead th {\n",
       "        text-align: right;\n",
       "    }\n",
       "</style>\n",
       "<table border=\"1\" class=\"dataframe\">\n",
       "  <thead>\n",
       "    <tr style=\"text-align: right;\">\n",
       "      <th></th>\n",
       "      <th>b</th>\n",
       "      <th>a</th>\n",
       "      <th>c</th>\n",
       "    </tr>\n",
       "  </thead>\n",
       "  <tbody>\n",
       "    <tr>\n",
       "      <th>2</th>\n",
       "      <td>1</td>\n",
       "      <td>4</td>\n",
       "      <td>1</td>\n",
       "    </tr>\n",
       "    <tr>\n",
       "      <th>0</th>\n",
       "      <td>2</td>\n",
       "      <td>3</td>\n",
       "      <td>3</td>\n",
       "    </tr>\n",
       "    <tr>\n",
       "      <th>1</th>\n",
       "      <td>2</td>\n",
       "      <td>2</td>\n",
       "      <td>8</td>\n",
       "    </tr>\n",
       "    <tr>\n",
       "      <th>3</th>\n",
       "      <td>3</td>\n",
       "      <td>1</td>\n",
       "      <td>2</td>\n",
       "    </tr>\n",
       "  </tbody>\n",
       "</table>\n",
       "</div>"
      ],
      "text/plain": [
       "   b  a  c\n",
       "2  1  4  1\n",
       "0  2  3  3\n",
       "1  2  2  8\n",
       "3  3  1  2"
      ]
     },
     "execution_count": 19,
     "metadata": {},
     "output_type": "execute_result"
    }
   ],
   "source": [
    "df = pd.DataFrame({'b':[1,2,2,3],'a':[4,3,2,1],'c':[1,3,8,2]},index=[2,0,1,3])\n",
    "df"
   ]
  },
  {
   "cell_type": "code",
   "execution_count": 26,
   "metadata": {},
   "outputs": [
    {
     "data": {
      "text/html": [
       "<div>\n",
       "<style scoped>\n",
       "    .dataframe tbody tr th:only-of-type {\n",
       "        vertical-align: middle;\n",
       "    }\n",
       "\n",
       "    .dataframe tbody tr th {\n",
       "        vertical-align: top;\n",
       "    }\n",
       "\n",
       "    .dataframe thead th {\n",
       "        text-align: right;\n",
       "    }\n",
       "</style>\n",
       "<table border=\"1\" class=\"dataframe\">\n",
       "  <thead>\n",
       "    <tr style=\"text-align: right;\">\n",
       "      <th></th>\n",
       "      <th>b</th>\n",
       "      <th>a</th>\n",
       "      <th>c</th>\n",
       "    </tr>\n",
       "  </thead>\n",
       "  <tbody>\n",
       "    <tr>\n",
       "      <th>3</th>\n",
       "      <td>3</td>\n",
       "      <td>1</td>\n",
       "      <td>2</td>\n",
       "    </tr>\n",
       "    <tr>\n",
       "      <th>2</th>\n",
       "      <td>1</td>\n",
       "      <td>4</td>\n",
       "      <td>1</td>\n",
       "    </tr>\n",
       "    <tr>\n",
       "      <th>1</th>\n",
       "      <td>2</td>\n",
       "      <td>2</td>\n",
       "      <td>8</td>\n",
       "    </tr>\n",
       "    <tr>\n",
       "      <th>0</th>\n",
       "      <td>2</td>\n",
       "      <td>3</td>\n",
       "      <td>3</td>\n",
       "    </tr>\n",
       "  </tbody>\n",
       "</table>\n",
       "</div>"
      ],
      "text/plain": [
       "   b  a  c\n",
       "3  3  1  2\n",
       "2  1  4  1\n",
       "1  2  2  8\n",
       "0  2  3  3"
      ]
     },
     "execution_count": 26,
     "metadata": {},
     "output_type": "execute_result"
    }
   ],
   "source": [
    "# 默认按“行标签”升序排序\n",
    "df.sort_index()"
   ]
  },
  {
   "cell_type": "code",
   "execution_count": 24,
   "metadata": {},
   "outputs": [
    {
     "data": {
      "text/html": [
       "<div>\n",
       "<style scoped>\n",
       "    .dataframe tbody tr th:only-of-type {\n",
       "        vertical-align: middle;\n",
       "    }\n",
       "\n",
       "    .dataframe tbody tr th {\n",
       "        vertical-align: top;\n",
       "    }\n",
       "\n",
       "    .dataframe thead th {\n",
       "        text-align: right;\n",
       "    }\n",
       "</style>\n",
       "<table border=\"1\" class=\"dataframe\">\n",
       "  <thead>\n",
       "    <tr style=\"text-align: right;\">\n",
       "      <th></th>\n",
       "      <th>a</th>\n",
       "      <th>b</th>\n",
       "      <th>c</th>\n",
       "    </tr>\n",
       "  </thead>\n",
       "  <tbody>\n",
       "    <tr>\n",
       "      <th>2</th>\n",
       "      <td>4</td>\n",
       "      <td>1</td>\n",
       "      <td>1</td>\n",
       "    </tr>\n",
       "    <tr>\n",
       "      <th>0</th>\n",
       "      <td>3</td>\n",
       "      <td>2</td>\n",
       "      <td>3</td>\n",
       "    </tr>\n",
       "    <tr>\n",
       "      <th>1</th>\n",
       "      <td>2</td>\n",
       "      <td>2</td>\n",
       "      <td>8</td>\n",
       "    </tr>\n",
       "    <tr>\n",
       "      <th>3</th>\n",
       "      <td>1</td>\n",
       "      <td>3</td>\n",
       "      <td>2</td>\n",
       "    </tr>\n",
       "  </tbody>\n",
       "</table>\n",
       "</div>"
      ],
      "text/plain": [
       "   a  b  c\n",
       "2  4  1  1\n",
       "0  3  2  3\n",
       "1  2  2  8\n",
       "3  1  3  2"
      ]
     },
     "execution_count": 24,
     "metadata": {},
     "output_type": "execute_result"
    }
   ],
   "source": [
    "# 按列标签升序排序\n",
    "df.sort_index(axis=1)"
   ]
  },
  {
   "attachments": {},
   "cell_type": "markdown",
   "metadata": {},
   "source": [
    "#### **df.sort_values()**\n",
    "\n",
    "***DataFrame.sort_values(by,axis=0,ascending=True,inplace=False,kind='quicksort',na_position='last')***\n",
    "\n",
    "**作用:既可以根据列数据，也可以根据行数据排序**\n",
    "\n",
    "**注意:**必须指定by参数，即必须指定哪几行、哪几列；无法根据index名和columns名排序(由sort_index()执行)\n",
    "\n",
    "  - by: str or list of str;如果axis=0 那么by='列名';如果axis=1,那么by=\"行名\"\n",
    "\n",
    "  - axis: (0 or 'index',1 or 'columns'),default 0,默认按照列排序，即纵向排序;如果为1,则是横向排序\n",
    "\n",
    "  - ascending: 布尔型，True则升序，如果by=['列名','列名2'],则该参数可以是[True,False],即第一个字段升序,第二个降序\n",
    "\n",
    "  - inplace: 布尔型，是否替换源数据\n",
    "\n",
    "  - na_position:{'first','last'},default 'last',默认缺失值排在最后面\n"
   ]
  }
 ],
 "metadata": {
  "kernelspec": {
   "display_name": "Python 3.8.5 ('base')",
   "language": "python",
   "name": "python3"
  },
  "language_info": {
   "codemirror_mode": {
    "name": "ipython",
    "version": 3
   },
   "file_extension": ".py",
   "mimetype": "text/x-python",
   "name": "python",
   "nbconvert_exporter": "python",
   "pygments_lexer": "ipython3",
   "version": "3.8.5"
  },
  "orig_nbformat": 4,
  "vscode": {
   "interpreter": {
    "hash": "a4df7a6600e22bae99e6e8f837be5af686fd7a404512ca9c2620376f38fe7d31"
   }
  }
 },
 "nbformat": 4,
 "nbformat_minor": 2
}
