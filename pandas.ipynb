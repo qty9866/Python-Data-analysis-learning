{
 "cells": [
  {
   "cell_type": "code",
   "execution_count": 1,
   "metadata": {},
   "outputs": [],
   "source": [
    "import numpy as np\n",
    "import pandas as pd\n"
   ]
  },
  {
   "cell_type": "markdown",
   "metadata": {},
   "source": [
    "### 数据结构Series创建\n",
    "\n",
    "***pd.Series(data=None,index=None,dtype=None,name=None,copy=False)***\n",
    "\n",
    "- data 输入的数据，可以是列表、常量、ndarry数组等，如果是字典，则保持参数顺序\n",
    "\n",
    "- index 索引值，必须是可散列的（不可变数据类型（str、bytes和数值类型）），并且与数据个数相同，如果未提供，将默认为RangeIndex(0,1,2,...n)\n",
    "\n",
    "- dtype 输出系列数据的类型，如果未指定，将从数据中推断\n",
    "\n",
    "- name 为Series定义一个名称\n",
    "\n",
    "- copy 表示对data进行拷贝,默认为False,仅影响Series和ndarry数组"
   ]
  },
  {
   "cell_type": "code",
   "execution_count": null,
   "metadata": {},
   "outputs": [],
   "source": [
    "# 列表作为数据创建Series\n",
    "ar_list = [3,10,3,4,5]\n",
    "print(type(ar_list))\n",
    "# 使用列表创建Series\n",
    "s1 = pd.Series(ar_list)\n",
    "print(s1)\n",
    "print(type(s1))"
   ]
  },
  {
   "cell_type": "code",
   "execution_count": null,
   "metadata": {},
   "outputs": [],
   "source": [
    "# 数组作为数据源\n",
    "np_rand = np.arange(1,6)\n",
    "# 使用数组创建Series\n",
    "s1 = pd.Series(np_rand)\n",
    "s1"
   ]
  },
  {
   "cell_type": "markdown",
   "metadata": {},
   "source": [
    "- #### **通过index和values属性取得对应的标签和值**"
   ]
  },
  {
   "cell_type": "code",
   "execution_count": null,
   "metadata": {},
   "outputs": [],
   "source": [
    "# 默认为RangeIndex(0,1,2,...,n)\n",
    "s1.index"
   ]
  },
  {
   "cell_type": "code",
   "execution_count": null,
   "metadata": {},
   "outputs": [],
   "source": [
    "# 可以强制转换为列表输出\n",
    "list(s1.index)"
   ]
  },
  {
   "cell_type": "code",
   "execution_count": null,
   "metadata": {},
   "outputs": [],
   "source": [
    "# 返回Series的所有值,数据类型为ndarry\n",
    "print(s1.values,type(s1.values))"
   ]
  },
  {
   "cell_type": "markdown",
   "metadata": {},
   "source": [
    "- #### **通过标签取得对应的值，或者修改对应的值**"
   ]
  },
  {
   "cell_type": "code",
   "execution_count": null,
   "metadata": {},
   "outputs": [],
   "source": [
    "# 取得索引为1的数据\n",
    "s1[1]"
   ]
  },
  {
   "cell_type": "code",
   "execution_count": null,
   "metadata": {},
   "outputs": [],
   "source": [
    "# 改变索引值为2的数值\n",
    "s1[2] =50\n",
    "s1"
   ]
  },
  {
   "cell_type": "markdown",
   "metadata": {},
   "source": [
    "- #### **2) 字典作为数据源创建Series**"
   ]
  },
  {
   "cell_type": "code",
   "execution_count": null,
   "metadata": {},
   "outputs": [],
   "source": [
    "d = {'a':1,'b':2,'c':3}\n",
    "ser = pd.Series(d)\n",
    "ser"
   ]
  },
  {
   "cell_type": "markdown",
   "metadata": {},
   "source": [
    "- #### **通过index和values属性取得对应的标签和值**"
   ]
  },
  {
   "cell_type": "code",
   "execution_count": null,
   "metadata": {},
   "outputs": [],
   "source": [
    "# 标签索引\n",
    "ser.index"
   ]
  },
  {
   "cell_type": "code",
   "execution_count": null,
   "metadata": {},
   "outputs": [],
   "source": [
    "# Series值\n",
    "ser.values"
   ]
  },
  {
   "cell_type": "markdown",
   "metadata": {},
   "source": [
    "- #### **通过标签取得对应的值或者修改对应的值**"
   ]
  },
  {
   "cell_type": "code",
   "execution_count": null,
   "metadata": {},
   "outputs": [],
   "source": [
    "ser['a']"
   ]
  },
  {
   "cell_type": "code",
   "execution_count": null,
   "metadata": {},
   "outputs": [],
   "source": [
    "ser['d'] = 4\n",
    "ser"
   ]
  },
  {
   "cell_type": "code",
   "execution_count": null,
   "metadata": {},
   "outputs": [],
   "source": [
    "ser['5'] = 5\n",
    "ser"
   ]
  },
  {
   "cell_type": "markdown",
   "metadata": {},
   "source": [
    "### **其他参数介绍**\n",
    "\n",
    "- #### **1) index参数**\n",
    "\n",
    "索引值，必须是可散列的（不可变数据类型（str、bytes和数值类型）），并且与数据个数相同，如果未提供，将默认为RangeIndex(0,1,2,...n)\n",
    "\n",
    "   - 使用“显式索引”的方法定义索引标签"
   ]
  },
  {
   "cell_type": "code",
   "execution_count": null,
   "metadata": {},
   "outputs": [],
   "source": [
    "data = np.array(['a','b','c','d'])\n",
    "# 自定义标签索引(即显式索引)，需要和数据长度一致\n",
    "s = pd.Series(data,index=[101,102,103,104])\n",
    "s"
   ]
  },
  {
   "cell_type": "markdown",
   "metadata": {},
   "source": [
    "  - #### **从指定索引的字典构造序列**"
   ]
  },
  {
   "cell_type": "code",
   "execution_count": null,
   "metadata": {},
   "outputs": [],
   "source": [
    "d = {'a':1,'b':2,'c':3}\n",
    "ser = pd.Series(d,index=['a','b','c'])\n",
    "ser"
   ]
  },
  {
   "cell_type": "markdown",
   "metadata": {},
   "source": [
    "- #### **当传递的索引值未匹配对应的字典键时，使用NaN(非数字)进行填充**"
   ]
  },
  {
   "cell_type": "code",
   "execution_count": null,
   "metadata": {},
   "outputs": [],
   "source": [
    "d = {'a':1,'b':2,'c':3}\n",
    "ser = pd.Series(d,index=['x','b','z'])\n",
    "ser"
   ]
  },
  {
   "cell_type": "markdown",
   "metadata": {},
   "source": [
    "\n",
    "输出: \n",
    "\n",
    "x    NaN\n",
    "\n",
    "b    2.0\n",
    "\n",
    "z    NaN \n",
    "\n",
    "**注意：索引首先使用字典中的键构建的，在此之后，用给定的索引值对序列重新编制索引，因此我们得到所有NaN**"
   ]
  },
  {
   "cell_type": "markdown",
   "metadata": {},
   "source": [
    "- #### **通过匹配的索引值，改变创建Series数据的顺序**"
   ]
  },
  {
   "cell_type": "code",
   "execution_count": null,
   "metadata": {},
   "outputs": [],
   "source": [
    "d = {'a':1,'b':2,'c':3}\n",
    "ser = pd.Series(d,index=['c','b','a'])\n",
    "ser"
   ]
  },
  {
   "cell_type": "markdown",
   "metadata": {},
   "source": [
    "- #### **2) name参数**\n",
    "\n",
    "我们可以给一个Series对象命名，也可以给一个Series数组中华的索引列起一个名字，pandas为我们设计好了对象的属性，并在设置了name属性值来进行名字的设定。"
   ]
  },
  {
   "cell_type": "code",
   "execution_count": null,
   "metadata": {},
   "outputs": [],
   "source": [
    "data1 = {\n",
    "    \"beijing\" : 2000,\n",
    "    \"shanghai\": 2400,\n",
    "    \"nanjing\" : 2100,\n",
    "}\n",
    "dd =pd.Series(data1)\n",
    "dd"
   ]
  },
  {
   "cell_type": "code",
   "execution_count": null,
   "metadata": {},
   "outputs": [],
   "source": [
    "dd = pd.Series(data1)\n",
    "dd.name = \"city_data\"\n",
    "print(dd)"
   ]
  },
  {
   "cell_type": "code",
   "execution_count": null,
   "metadata": {},
   "outputs": [],
   "source": [
    "# 使用Series创建DataFrame类型\n",
    "df = pd.DataFrame(dd)\n",
    "print(df,type(df))\n",
    "print(\"=\"*60)\n",
    "# 输出city_data列的数据和类型 \n",
    "print(df['city_data'],type(df['city_data']))"
   ]
  },
  {
   "cell_type": "markdown",
   "metadata": {},
   "source": [
    "- #### **3) copy参数**\n",
    "\n",
    "copy表示对data进行拷贝，默认为false，仅影响Series和ndarry数组"
   ]
  },
  {
   "cell_type": "code",
   "execution_count": null,
   "metadata": {},
   "outputs": [],
   "source": [
    "# 数组作为源数据\n",
    "np_rand =np.arange(1,6)\n",
    "# 使用数组创建Series\n",
    "s1 = pd.Series(np_rand)\n",
    "s1"
   ]
  },
  {
   "cell_type": "code",
   "execution_count": null,
   "metadata": {},
   "outputs": [],
   "source": [
    "# 改变Series标签为1的值\n",
    "s1[1] = 50\n",
    "\n",
    "# 输出series对象s1\n",
    "print(\"s1:\\n\",s1)\n",
    "\n",
    "# 输出数组对象np_rand 数组也被改变了\n",
    "print(\"np_rand:\",np_rand)"
   ]
  },
  {
   "cell_type": "code",
   "execution_count": null,
   "metadata": {},
   "outputs": [],
   "source": [
    "# 当数据源非Series和ndarray时\n",
    "# 数组作为数据源\n",
    "my_list = [1,2,3,4,5,6]\n",
    "\n",
    "# 使用数组创建Series\n",
    "s2 = pd.Series(my_list)\n",
    "s2"
   ]
  },
  {
   "cell_type": "code",
   "execution_count": 39,
   "metadata": {},
   "outputs": [
    {
     "name": "stdout",
     "output_type": "stream",
     "text": [
      "s2[1]: 50\n",
      "s2: 0     1\n",
      "1    50\n",
      "2     3\n",
      "3     4\n",
      "4     5\n",
      "5     6\n",
      "dtype: int64\n",
      "mny_list: [1, 2, 3, 4, 5, 6]\n"
     ]
    }
   ],
   "source": [
    "# 这个时候再改变s2[1]的值\n",
    "s2[1] = 50\n",
    "print(\"s2[1]:\",s2[1])\n",
    "\n",
    "# 输出s2\n",
    "print(\"s2:\",s2)\n",
    "\n",
    "# 输出数组\n",
    "print(\"mny_list:\",my_list)"
   ]
  },
  {
   "cell_type": "markdown",
   "metadata": {},
   "source": [
    "### **Series的索引/切片**\n",
    "\n",
    "  ##### **1.下标索引**\n",
    "\n",
    "类似于列表索引"
   ]
  },
  {
   "cell_type": "code",
   "execution_count": 40,
   "metadata": {},
   "outputs": [
    {
     "name": "stdout",
     "output_type": "stream",
     "text": [
      "0    0.657885\n",
      "1    0.747641\n",
      "2    0.302070\n",
      "3    0.136614\n",
      "4    0.948114\n",
      "dtype: float64\n",
      "0.1366143899609651 <class 'numpy.float64'> float64\n"
     ]
    }
   ],
   "source": [
    "s = pd.Series(np.random.rand(5))\n",
    "print(s)\n",
    "print(s[3],type(s[3]),s[3].dtype)"
   ]
  },
  {
   "cell_type": "markdown",
   "metadata": {},
   "source": [
    "  ##### **1.标签索引**\n",
    "\n",
    "  当索引为object类型时，既可以使用标签索引也可以使用位置索引\n",
    "  \n",
    "  Series类似于固定大小的dict,把index中的索引标签当做key，而把Series序列中的元素值当做value，然后通过index索引标签来访问或者修改元素值\n",
    "\n",
    "- ##### 使用索标签访问单个元素值"
   ]
  },
  {
   "cell_type": "code",
   "execution_count": 42,
   "metadata": {},
   "outputs": [
    {
     "name": "stdout",
     "output_type": "stream",
     "text": [
      "0.37894935536127183 <class 'numpy.float64'> float64\n"
     ]
    }
   ],
   "source": [
    "s = pd.Series(np.random.rand(5),index=list(\"abcde\"))\n",
    "print(s['b'],type(s['b']),s['b'].dtype)"
   ]
  },
  {
   "cell_type": "markdown",
   "metadata": {},
   "source": [
    "- ##### 使用索引标签访问多个元素值\n"
   ]
  },
  {
   "cell_type": "code",
   "execution_count": 43,
   "metadata": {},
   "outputs": [
    {
     "name": "stdout",
     "output_type": "stream",
     "text": [
      "a     6\n",
      "b     7\n",
      "c     8\n",
      "d     9\n",
      "e    10\n",
      "dtype: int64\n",
      "a    6\n",
      "b    7\n",
      "c    8\n",
      "dtype: int64\n"
     ]
    }
   ],
   "source": [
    "s = pd.Series([6,7,8,9,10],index=list(\"abcde\"))\n",
    "print(s)\n",
    "print(s[['a','b','c']])"
   ]
  },
  {
   "cell_type": "markdown",
   "metadata": {},
   "source": [
    "### 切片\n",
    "\n",
    "- Series使用标签切片运算与普通的python切片运算不同：Series使用标签切片时，其末端是包含的\n",
    "\n",
    "- Series使用python切片运算即使用位置数值切片，其末端是不包含的"
   ]
  },
  {
   "cell_type": "code",
   "execution_count": 51,
   "metadata": {},
   "outputs": [
    {
     "data": {
      "text/plain": [
       "0    0.793476\n",
       "1    0.062222\n",
       "2    0.801096\n",
       "3    0.428876\n",
       "4    0.362986\n",
       "5    0.763042\n",
       "6    0.436813\n",
       "7    0.496960\n",
       "8    0.815205\n",
       "9    0.595810\n",
       "dtype: float64"
      ]
     },
     "execution_count": 51,
     "metadata": {},
     "output_type": "execute_result"
    }
   ],
   "source": [
    "s = pd.Series(np.random.rand(10))\n",
    "s"
   ]
  },
  {
   "cell_type": "markdown",
   "metadata": {},
   "source": [
    "**位置索引和标签索引刚好一致，使用切片时如果是数值会认为是python的切片运算，不包含末端**"
   ]
  },
  {
   "cell_type": "code",
   "execution_count": 53,
   "metadata": {},
   "outputs": [
    {
     "data": {
      "text/plain": [
       "1    0.062222\n",
       "2    0.801096\n",
       "dtype: float64"
      ]
     },
     "execution_count": 53,
     "metadata": {},
     "output_type": "execute_result"
    }
   ],
   "source": [
    "s[1:3]"
   ]
  },
  {
   "cell_type": "code",
   "execution_count": 58,
   "metadata": {},
   "outputs": [
    {
     "name": "stdout",
     "output_type": "stream",
     "text": [
      "a    1\n",
      "b    2\n",
      "c    3\n",
      "d    4\n",
      "e    5\n",
      "dtype: int64\n",
      "b    2\n",
      "c    3\n",
      "d    4\n",
      "dtype: int64\n"
     ]
    }
   ],
   "source": [
    "s = pd.Series([1,2,3,4,5],index=['a','b','c','d','e'])\n",
    "print(s)\n",
    "print(s[1:4])"
   ]
  },
  {
   "cell_type": "code",
   "execution_count": 61,
   "metadata": {},
   "outputs": [
    {
     "data": {
      "text/plain": [
       "a    1\n",
       "b    2\n",
       "c    3\n",
       "d    4\n",
       "dtype: int64"
      ]
     },
     "execution_count": 61,
     "metadata": {},
     "output_type": "execute_result"
    }
   ],
   "source": [
    "s[\"a\":\"d\"]"
   ]
  },
  {
   "cell_type": "markdown",
   "metadata": {},
   "source": [
    "### **Series数据结构 基本技巧**\n",
    "\n",
    "#### **1.查看前几条和后几条数据**"
   ]
  },
  {
   "cell_type": "code",
   "execution_count": null,
   "metadata": {},
   "outputs": [],
   "source": [
    "s = pd.Series(np.random.rand(15))\n",
    "s"
   ]
  },
  {
   "cell_type": "code",
   "execution_count": 5,
   "metadata": {},
   "outputs": [
    {
     "name": "stdout",
     "output_type": "stream",
     "text": [
      "0    0.450675\n",
      "1    0.813971\n",
      "2    0.171954\n",
      "3    0.386955\n",
      "4    0.458622\n",
      "dtype: float64\n",
      "0    0.450675\n",
      "dtype: float64\n"
     ]
    }
   ],
   "source": [
    "# 默认查看前5条数据\n",
    "print(s.head())\n",
    "# 默认查看前1条数据\n",
    "print(s.head(1))"
   ]
  },
  {
   "cell_type": "code",
   "execution_count": 6,
   "metadata": {},
   "outputs": [
    {
     "name": "stdout",
     "output_type": "stream",
     "text": [
      "10    0.962722\n",
      "11    0.440672\n",
      "12    0.186135\n",
      "13    0.458089\n",
      "14    0.937100\n",
      "dtype: float64\n"
     ]
    }
   ],
   "source": [
    "# 默认查看后5条数据\n",
    "print(s.tail())"
   ]
  },
  {
   "cell_type": "markdown",
   "metadata": {},
   "source": [
    "#### **2.重新索引:reindex**\n",
    "\n",
    "使用可选逻辑,使Series符合新索引\n",
    "\n",
    "将NaN放在上一个索引中没有值的位置。除非新索引等同于当前索引，并且生成新对象。"
   ]
  },
  {
   "cell_type": "code",
   "execution_count": 7,
   "metadata": {},
   "outputs": [
    {
     "name": "stdout",
     "output_type": "stream",
     "text": [
      "---------s---------\n",
      "a    0.476459\n",
      "b    0.612866\n",
      "c    0.271284\n",
      "d    0.733035\n",
      "e    0.924979\n",
      "dtype: float64\n",
      "========s1=========\n",
      "c    0.271284\n",
      "d    0.733035\n",
      "e    0.924979\n",
      "1         NaN\n",
      "2         NaN\n",
      "dtype: float64\n"
     ]
    }
   ],
   "source": [
    "s = pd.Series(np.random.rand(5),index=list(\"abcde\"))\n",
    "print(\"---------s---------\")\n",
    "print(s)\n",
    "\n",
    "# 新索引在上一个索引中不存在，生成新对象时，对应的值，设置为NaN\n",
    "s1 = s.reindex(list(\"cde12\"))\n",
    "print(\"========s1=========\")\n",
    "print(s1)"
   ]
  },
  {
   "cell_type": "code",
   "execution_count": 10,
   "metadata": {},
   "outputs": [
    {
     "name": "stdout",
     "output_type": "stream",
     "text": [
      "========s2=========\n",
      "c    0.271284\n",
      "d    0.733035\n",
      "e    0.924979\n",
      "3    0.000000\n",
      "4    0.000000\n",
      "dtype: float64\n"
     ]
    }
   ],
   "source": [
    "# 设置填充值\n",
    "s2 = s.reindex(list(\"cde34\"),fill_value=0)\n",
    "print(\"========s2=========\")\n",
    "print(s2)"
   ]
  },
  {
   "cell_type": "markdown",
   "metadata": {},
   "source": [
    "#### **3.对齐运算**\n",
    "\n",
    "是数据清洗的重要过程，可以按索引对齐进行运算，如果没对齐的位置则补NaN，最后也可以填充NaN"
   ]
  },
  {
   "cell_type": "code",
   "execution_count": 11,
   "metadata": {},
   "outputs": [
    {
     "name": "stdout",
     "output_type": "stream",
     "text": [
      "----------s1----------\n",
      "Hud       0.550945\n",
      "Monica    0.057783\n",
      "QB        0.970390\n",
      "dtype: float64\n",
      "==========s2==========\n",
      "Monica    0.965362\n",
      "QB        0.575113\n",
      "QTY       0.168200\n",
      "dtype: float64\n",
      "#########s1+s2#########\n",
      "Hud            NaN\n",
      "Monica    1.023144\n",
      "QB        1.545503\n",
      "QTY            NaN\n",
      "dtype: float64\n"
     ]
    }
   ],
   "source": [
    "s1 = pd.Series(np.random.rand(3),index=[\"Hud\",\"Monica\",\"QB\"])\n",
    "\n",
    "s2 = pd.Series(np.random.rand(3),index=[\"Monica\",\"QB\",\"QTY\"])\n",
    "\n",
    "print(\"----------s1----------\")\n",
    "print(s1)\n",
    "\n",
    "print(\"==========s2==========\")\n",
    "print(s2)\n",
    "\n",
    "print(\"#########s1+s2#########\")\n",
    "print(s1+s2)"
   ]
  },
  {
   "cell_type": "markdown",
   "metadata": {},
   "source": [
    "#### **4.删除和添加**\n",
    "\n",
    "- **删除**"
   ]
  },
  {
   "cell_type": "code",
   "execution_count": 13,
   "metadata": {},
   "outputs": [
    {
     "name": "stdout",
     "output_type": "stream",
     "text": [
      "a    0.428700\n",
      "b    0.933728\n",
      "c    0.659028\n",
      "d    0.535578\n",
      "e    0.161516\n",
      "dtype: float64\n",
      "a    0.428700\n",
      "c    0.659028\n",
      "d    0.535578\n",
      "e    0.161516\n",
      "dtype: float64\n",
      "==================\n",
      "a    0.428700\n",
      "b    0.933728\n",
      "c    0.659028\n",
      "d    0.535578\n",
      "e    0.161516\n",
      "dtype: float64\n"
     ]
    }
   ],
   "source": [
    "s = pd.Series(np.random.rand(5),index=list('abcde'))\n",
    "print(s)\n",
    "s1 = s.drop(\"b\") # 返回删除后的值，原值不改变，默认inplace=False\n",
    "print(s1)\n",
    "print(\"==================\")\n",
    "print(s)"
   ]
  },
  {
   "cell_type": "code",
   "execution_count": 14,
   "metadata": {},
   "outputs": [
    {
     "name": "stdout",
     "output_type": "stream",
     "text": [
      "None\n",
      "================\n",
      "a    0.772226\n",
      "c    0.041444\n",
      "d    0.924657\n",
      "e    0.022856\n",
      "dtype: float64\n"
     ]
    }
   ],
   "source": [
    "# 如果希望原值发生变化\n",
    "s = pd.Series(np.random.rand(5),index=list('abcde'))\n",
    "s1 = s.drop(\"b\",inplace=True) # 原值发生变化，返回None\n",
    "print(s1)\n",
    "print(\"================\")\n",
    "print(s)"
   ]
  },
  {
   "cell_type": "markdown",
   "metadata": {},
   "source": [
    "- **添加**"
   ]
  },
  {
   "cell_type": "code",
   "execution_count": 17,
   "metadata": {},
   "outputs": [
    {
     "name": "stdout",
     "output_type": "stream",
     "text": [
      "a    0.531705\n",
      "b    0.528711\n",
      "c    0.383645\n",
      "d    0.987342\n",
      "e    0.088238\n",
      "dtype: float64\n",
      "-=-=-=-=-=-=-=\n",
      "a    0.531705\n",
      "b    0.528711\n",
      "c    0.383645\n",
      "d    0.987342\n",
      "e    0.088238\n",
      "f    2.222222\n",
      "dtype: float64\n"
     ]
    }
   ],
   "source": [
    "s = pd.Series(np.random.rand(5),index=list('abcde'))\n",
    "print(s)\n",
    "\n",
    "s[\"f\"]=2.222222  # 有就添加 没有就修改\n",
    "print(\"-=-=-=-=-=-=-=\")\n",
    "print(s)"
   ]
  },
  {
   "cell_type": "markdown",
   "metadata": {},
   "source": [
    "#### **5.检测缺失值**\n",
    "\n",
    "isnull()和notnull()用于检测Series中的缺失值，所谓缺失值，顾名思义就是值不存在、丢失、缺少\n",
    "\n",
    "- isnull(): 如果为值不存在或者缺失，则返回True\n",
    "\n",
    "- notnull(): 如果值不存在或者缺失，则返回False"
   ]
  },
  {
   "cell_type": "code",
   "execution_count": null,
   "metadata": {},
   "outputs": [],
   "source": [
    "s = pd.Series([1,2,3,None,5,6,None,8,9])\n",
    "print(pd.isnull(s))\n",
    "print(pd.notnull(s))"
   ]
  },
  {
   "cell_type": "markdown",
   "metadata": {},
   "source": [
    "### **DataFrame数据类型**\n",
    "\n",
    "DataFrame是Pandas的重要数据结构之一，也是在使用Pandas进行数据分析过程中最常用的结构之一，可以这么说，掌握了DataFrame的用法,你就拥有了学习数据分析的基本能力\n",
    "\n",
    "\n",
    "#### **认识DataFrame结构**\n",
    "\n",
    "DataFrame 一个表格型的数据结构，既有行标签(index),又有列标签(columns)，他也被称为异构数据表，所谓异构，指的是表格中的每列的数据类型可以不同，比如可以是字符串、浮点型、整型\n",
    "\n",
    "- DataFrame数据结构的特点主要是:\n",
    "  \n",
    "  - DataFrame每一列标签值允许使用不同的数据类型 \n",
    "\n",
    "  - DataFrame是表格型的数据结构，具有行和列\n",
    "\n",
    "  - DataFrame中的每个数据值都可以被修改\n",
    "\n",
    "  - DataFrame结构的行数和列数允许增加或者删除\n",
    "\n",
    "  - DataFrame有两个方向的标签轴，分别是行标签和列标签\n",
    "\n",
    "  - DataFrame可以对行和列执行算数运算\n",
    "\n",
    "\n",
    "\n",
    "#### **创建DataFrame对象**\n",
    "\n",
    "***pandas.DataFrame(data=None,index=None,columns=None,dtype=None,copy=None)***\n",
    "\n",
    "- data：输入的数据，可以是ndarray，series，list，dict，标量以及一个DataFrame \n",
    "\n",
    "- index：行标签，如果没有传递index值，则默认行标签是Rangelndex（0，1，2..…，n），n代表data的元素个数。\n",
    "\n",
    "- columns：列标签，如果没有传递columns值，则默认列标签是Rangelndex（0，1，2，…，n）\n",
    "\n",
    "- dtype：要强制的数据类型。只允许使用一种数据类型。如果没有，自行推断\n",
    "\n",
    "- copy：从输入复制数据。对于dict数据，copy=True，重新复制一份。对于DataFrame或ndarray输入，类似于copy=False\n",
    "\n",
    "\n",
    "\n",
    "**Pandas Data是一个二维的数据结构，类似二维数组**"
   ]
  },
  {
   "cell_type": "code",
   "execution_count": 19,
   "metadata": {},
   "outputs": [],
   "source": [
    "# 引入numpy和Pandas\n",
    "import numpy as np\n",
    "import pandas as pd"
   ]
  },
  {
   "cell_type": "markdown",
   "metadata": {},
   "source": [
    "**1.使用普通列表创建**"
   ]
  },
  {
   "cell_type": "code",
   "execution_count": 23,
   "metadata": {},
   "outputs": [
    {
     "name": "stdout",
     "output_type": "stream",
     "text": [
      "   0\n",
      "0  1\n",
      "1  2\n",
      "2  3\n",
      "3  4\n",
      "4  5\n"
     ]
    }
   ],
   "source": [
    "data = [1,2,3,4,5]\n",
    "df = pd.DataFrame(data)\n",
    "print(df)"
   ]
  },
  {
   "cell_type": "markdown",
   "metadata": {},
   "source": [
    "**2.使用嵌套列表的创建**"
   ]
  },
  {
   "cell_type": "code",
   "execution_count": 31,
   "metadata": {},
   "outputs": [
    {
     "name": "stdout",
     "output_type": "stream",
     "text": [
      "        0   1   2\n",
      "0     Hud  24   男\n",
      "1  Monica  22   女\n",
      "2      Qb   1  不详\n",
      "------------分配列标签-------------\n"
     ]
    },
    {
     "data": {
      "text/html": [
       "<div>\n",
       "<style scoped>\n",
       "    .dataframe tbody tr th:only-of-type {\n",
       "        vertical-align: middle;\n",
       "    }\n",
       "\n",
       "    .dataframe tbody tr th {\n",
       "        vertical-align: top;\n",
       "    }\n",
       "\n",
       "    .dataframe thead th {\n",
       "        text-align: right;\n",
       "    }\n",
       "</style>\n",
       "<table border=\"1\" class=\"dataframe\">\n",
       "  <thead>\n",
       "    <tr style=\"text-align: right;\">\n",
       "      <th></th>\n",
       "      <th>Name</th>\n",
       "      <th>Age</th>\n",
       "      <th>Sex</th>\n",
       "    </tr>\n",
       "  </thead>\n",
       "  <tbody>\n",
       "    <tr>\n",
       "      <th>0</th>\n",
       "      <td>Hud</td>\n",
       "      <td>24</td>\n",
       "      <td>男</td>\n",
       "    </tr>\n",
       "    <tr>\n",
       "      <th>1</th>\n",
       "      <td>Monica</td>\n",
       "      <td>22</td>\n",
       "      <td>女</td>\n",
       "    </tr>\n",
       "    <tr>\n",
       "      <th>2</th>\n",
       "      <td>Qb</td>\n",
       "      <td>1</td>\n",
       "      <td>不详</td>\n",
       "    </tr>\n",
       "  </tbody>\n",
       "</table>\n",
       "</div>"
      ],
      "text/plain": [
       "     Name  Age Sex\n",
       "0     Hud   24   男\n",
       "1  Monica   22   女\n",
       "2      Qb    1  不详"
      ]
     },
     "execution_count": 31,
     "metadata": {},
     "output_type": "execute_result"
    }
   ],
   "source": [
    "# 列表中的每个元素代表一行数据\n",
    "\n",
    "data = [['Hud',24,\"男\"],[\"Monica\",22,\"女\"],[\"Qb\",1,\"不详\"]]\n",
    "\n",
    "#不分配列标签\n",
    "df = pd.DataFrame(data)\n",
    "print(df)\n",
    "\n",
    "print(\"------------分配列标签-------------\")\n",
    "df1 = pd.DataFrame(data,columns=[\"Name\",\"Age\",\"Sex\"])\n",
    "df1"
   ]
  },
  {
   "cell_type": "markdown",
   "metadata": {},
   "source": [
    "**3.指定数值元素的数据类型为float**\n",
    "\n",
    "- 需要注意：dtype只能设置一个，设置多个列的数据类型，需要使用其他方式"
   ]
  },
  {
   "cell_type": "code",
   "execution_count": 29,
   "metadata": {},
   "outputs": [
    {
     "data": {
      "text/html": [
       "<div>\n",
       "<style scoped>\n",
       "    .dataframe tbody tr th:only-of-type {\n",
       "        vertical-align: middle;\n",
       "    }\n",
       "\n",
       "    .dataframe tbody tr th {\n",
       "        vertical-align: top;\n",
       "    }\n",
       "\n",
       "    .dataframe thead th {\n",
       "        text-align: right;\n",
       "    }\n",
       "</style>\n",
       "<table border=\"1\" class=\"dataframe\">\n",
       "  <thead>\n",
       "    <tr style=\"text-align: right;\">\n",
       "      <th></th>\n",
       "      <th>Name</th>\n",
       "      <th>Age</th>\n",
       "      <th>Sex</th>\n",
       "    </tr>\n",
       "  </thead>\n",
       "  <tbody>\n",
       "    <tr>\n",
       "      <th>0</th>\n",
       "      <td>Hud</td>\n",
       "      <td>24</td>\n",
       "      <td>男</td>\n",
       "    </tr>\n",
       "    <tr>\n",
       "      <th>1</th>\n",
       "      <td>Monica</td>\n",
       "      <td>22</td>\n",
       "      <td>女</td>\n",
       "    </tr>\n",
       "    <tr>\n",
       "      <th>2</th>\n",
       "      <td>Qb</td>\n",
       "      <td>1</td>\n",
       "      <td>不详</td>\n",
       "    </tr>\n",
       "  </tbody>\n",
       "</table>\n",
       "</div>"
      ],
      "text/plain": [
       "     Name  Age Sex\n",
       "0     Hud   24   男\n",
       "1  Monica   22   女\n",
       "2      Qb    1  不详"
      ]
     },
     "execution_count": 29,
     "metadata": {},
     "output_type": "execute_result"
    }
   ],
   "source": [
    "data = [['Hud',24,\"男\"],[\"Monica\",22,\"女\"],[\"Qb\",1,\"不详\"]]\n",
    "df = pd.DataFrame(data,columns=[\"Name\",\"Age\",\"Sex\"],dtype=int)\n",
    "df\n"
   ]
  }
 ],
 "metadata": {
  "kernelspec": {
   "display_name": "Python 3.8.5 ('base')",
   "language": "python",
   "name": "python3"
  },
  "language_info": {
   "codemirror_mode": {
    "name": "ipython",
    "version": 3
   },
   "file_extension": ".py",
   "mimetype": "text/x-python",
   "name": "python",
   "nbconvert_exporter": "python",
   "pygments_lexer": "ipython3",
   "version": "3.8.5"
  },
  "orig_nbformat": 4,
  "vscode": {
   "interpreter": {
    "hash": "a4df7a6600e22bae99e6e8f837be5af686fd7a404512ca9c2620376f38fe7d31"
   }
  }
 },
 "nbformat": 4,
 "nbformat_minor": 2
}
