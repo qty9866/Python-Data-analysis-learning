{
 "cells": [
  {
   "cell_type": "code",
   "execution_count": 9,
   "metadata": {},
   "outputs": [
    {
     "data": {
      "text/plain": [
       "'3.3.2'"
      ]
     },
     "execution_count": 9,
     "metadata": {},
     "output_type": "execute_result"
    }
   ],
   "source": [
    "import matplotlib\n",
    "matplotlib.__version__"
   ]
  },
  {
   "cell_type": "markdown",
   "metadata": {},
   "source": [
    "## 第一个matplotlib绘图程序\n",
    "- **首先导入matplotlib包中的Pyplot模块**\n",
    "- **接下来，使用Numpy提供的arange()函数创建一组数据来绘制图像**"
   ]
  },
  {
   "cell_type": "code",
   "execution_count": 10,
   "metadata": {},
   "outputs": [],
   "source": [
    "from matplotlib import pyplot as plt\n",
    "import numpy as np\n",
    "# 获得-50到50之间的ndarray对象\n",
    "x = np.arange(-50,50)"
   ]
  },
  {
   "cell_type": "markdown",
   "metadata": {},
   "source": [
    "- **上述所得x的值作用到x轴上，而该值对应的平方值也就是y值，通过以下方式获得**"
   ]
  },
  {
   "cell_type": "code",
   "execution_count": 11,
   "metadata": {},
   "outputs": [],
   "source": [
    "y = x ** 2"
   ]
  },
  {
   "cell_type": "markdown",
   "metadata": {},
   "source": [
    "- **使用plt的plot()函数对x、y进行绘制**"
   ]
  },
  {
   "cell_type": "code",
   "execution_count": 16,
   "metadata": {},
   "outputs": [
    {
     "data": {
      "text/plain": [
       "[<matplotlib.lines.Line2D at 0x24099662130>]"
      ]
     },
     "execution_count": 16,
     "metadata": {},
     "output_type": "execute_result"
    },
    {
     "data": {
      "image/png": "[encoded data removed]",
      "text/plain": [
       "<Figure size 432x288 with 1 Axes>"
      ]
     },
     "metadata": {
      "needs_background": "light"
     },
     "output_type": "display_data"
    }
   ],
   "source": [
    "plt.plot(x,y)"
   ]
  },
  {
   "cell_type": "markdown",
   "metadata": {},
   "source": [
    "### matplotlib的基本方法\n",
    "\n",
    "| 方法名                       | 说明                            |\n",
    "| ---------------------------- | ------------------------------- |\n",
    "| title()                      | 设置图表的名称                  |\n",
    "| xlabel()                     | 设置x轴名称                     |\n",
    "| ylabel()                     | 设置y轴名称                     |\n",
    "| xticks(ticks,label,rotation) | 设置x轴的刻度，rotation旋转角度 |\n",
    "| yticks()                     | 设置y轴的刻度                   |\n",
    "| show()                       | 显示图表                        |\n",
    "| legend()                     | 显示图例                        |\n",
    "| text(x,y,text)               | 显示每条数据的值 x,y值的位置    |\n",
    "\n"
   ]
  },
  {
   "cell_type": "code",
   "execution_count": 18,
   "metadata": {},
   "outputs": [
    {
     "data": {
      "text/plain": [
       "[<matplotlib.lines.Line2D at 0x24099727190>]"
      ]
     },
     "execution_count": 18,
     "metadata": {},
     "output_type": "execute_result"
    },
    {
     "data": {
      "image/png": "[encoded data removed]",
      "text/plain": [
       "<Figure size 432x288 with 1 Axes>"
      ]
     },
     "metadata": {
      "needs_background": "light"
     },
     "output_type": "display_data"
    }
   ],
   "source": [
    "import numpy as np\n",
    "x = np.arange(-10,10)\n",
    "y = x ** 3\n",
    "plt.title(\"y=x^3\")\n",
    "plt.plot(x,y)"
   ]
  },
  {
   "cell_type": "markdown",
   "metadata": {},
   "source": [
    "matplotlib默认不支持中文\n",
    "#### 修改字体配置\n",
    "plt.rcParams[\"font.sanc-serif=字体\"]\n",
    "字体说明\n",
    "| 中文字体   | 说明     |\n",
    "| ---------- | -------- |\n",
    "| 'SimHei'   | 中文黑体 |\n",
    "| 'Kaiti'    | 中文楷体 |\n",
    "| 'Lisu'     | 中文隶书 |\n",
    "| 'FangSong' | 中文仿宋 |\n",
    "| 'YouYuan'  | 中文幼圆 |\n",
    "| 'STSong'   | 华文宋体 |"
   ]
  }
 ],
 "metadata": {
  "kernelspec": {
   "display_name": "Python 3.8.5 ('base')",
   "language": "python",
   "name": "python3"
  },
  "language_info": {
   "codemirror_mode": {
    "name": "ipython",
    "version": 3
   },
   "file_extension": ".py",
   "mimetype": "text/x-python",
   "name": "python",
   "nbconvert_exporter": "python",
   "pygments_lexer": "ipython3",
   "version": "3.8.5"
  },
  "orig_nbformat": 4,
  "vscode": {
   "interpreter": {
    "hash": "a4df7a6600e22bae99e6e8f837be5af686fd7a404512ca9c2620376f38fe7d31"
   }
  }
 },
 "nbformat": 4,
 "nbformat_minor": 2
}
